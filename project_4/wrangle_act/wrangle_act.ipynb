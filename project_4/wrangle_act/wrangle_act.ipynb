{
 "cells": [
  {
   "cell_type": "markdown",
   "metadata": {},
   "source": [
    "# Wrangle & Analyze Data"
   ]
  },
  {
   "cell_type": "code",
   "execution_count": 1,
   "metadata": {},
   "outputs": [],
   "source": [
    "import pandas as pd\n",
    "import numpy as np\n",
    "import requests\n",
    "import os\n",
    "import tweepy\n",
    "import json\n",
    "import time\n",
    "import datetime\n",
    "import random\n",
    "\n",
    "import matplotlib.pyplot as plt\n",
    "from matplotlib import cm\n",
    "%matplotlib inline\n",
    "\n",
    "import seaborn as sns\n",
    "sns.set(style=\"darkgrid\")\n",
    "\n",
    "# set the option to display the full string from a pandas DataFrame\n",
    "pd.options.display.max_rows\n",
    "pd.set_option('display.max_colwidth', -1)"
   ]
  },
  {
   "cell_type": "markdown",
   "metadata": {},
   "source": [
    "## Data Gathering"
   ]
  },
  {
   "cell_type": "markdown",
   "metadata": {},
   "source": [
    "#### Twitter Archive (Local File)"
   ]
  },
  {
   "cell_type": "code",
   "execution_count": 2,
   "metadata": {
    "scrolled": false
   },
   "outputs": [
    {
     "name": "stdout",
     "output_type": "stream",
     "text": [
      "<class 'pandas.core.frame.DataFrame'>\n",
      "RangeIndex: 2356 entries, 0 to 2355\n",
      "Data columns (total 17 columns):\n",
      "tweet_id                      2356 non-null int64\n",
      "in_reply_to_status_id         78 non-null float64\n",
      "in_reply_to_user_id           78 non-null float64\n",
      "timestamp                     2356 non-null object\n",
      "source                        2356 non-null object\n",
      "text                          2356 non-null object\n",
      "retweeted_status_id           181 non-null float64\n",
      "retweeted_status_user_id      181 non-null float64\n",
      "retweeted_status_timestamp    181 non-null object\n",
      "expanded_urls                 2297 non-null object\n",
      "rating_numerator              2356 non-null int64\n",
      "rating_denominator            2356 non-null int64\n",
      "name                          2356 non-null object\n",
      "doggo                         2356 non-null object\n",
      "floofer                       2356 non-null object\n",
      "pupper                        2356 non-null object\n",
      "puppo                         2356 non-null object\n",
      "dtypes: float64(4), int64(3), object(10)\n",
      "memory usage: 313.0+ KB\n"
     ]
    }
   ],
   "source": [
    "df_twitter_archive = pd.read_csv('twitter-archive-enhanced.csv')\n",
    "df_twitter_archive.info()"
   ]
  },
  {
   "cell_type": "markdown",
   "metadata": {},
   "source": [
    "##### Sample Tweet Data\n",
    "\n",
    "Here is a sample of one of the tweets, with additional output to display the entire field's data."
   ]
  },
  {
   "cell_type": "code",
   "execution_count": 3,
   "metadata": {},
   "outputs": [
    {
     "data": {
      "text/plain": [
       "tweet_id                      890729181411237888                                                                                                                            \n",
       "in_reply_to_status_id         NaN                                                                                                                                           \n",
       "in_reply_to_user_id           NaN                                                                                                                                           \n",
       "timestamp                     2017-07-28 00:22:40 +0000                                                                                                                     \n",
       "source                        <a href=\"http://twitter.com/download/iphone\" rel=\"nofollow\">Twitter for iPhone</a>                                                            \n",
       "text                          When you watch your owner call another dog a good boy but then they turn back to you and say you're a great boy. 13/10 https://t.co/v0nONBcwxq\n",
       "retweeted_status_id           NaN                                                                                                                                           \n",
       "retweeted_status_user_id      NaN                                                                                                                                           \n",
       "retweeted_status_timestamp    NaN                                                                                                                                           \n",
       "expanded_urls                 https://twitter.com/dog_rates/status/890729181411237888/photo/1,https://twitter.com/dog_rates/status/890729181411237888/photo/1               \n",
       "rating_numerator              13                                                                                                                                            \n",
       "rating_denominator            10                                                                                                                                            \n",
       "name                          None                                                                                                                                          \n",
       "doggo                         None                                                                                                                                          \n",
       "floofer                       None                                                                                                                                          \n",
       "pupper                        None                                                                                                                                          \n",
       "puppo                         None                                                                                                                                          \n",
       "Name: 7, dtype: object"
      ]
     },
     "execution_count": 3,
     "metadata": {},
     "output_type": "execute_result"
    }
   ],
   "source": [
    "sample_tweet = df_twitter_archive.iloc[7]\n",
    "sample_tweet"
   ]
  },
  {
   "cell_type": "code",
   "execution_count": 4,
   "metadata": {},
   "outputs": [
    {
     "data": {
      "text/plain": [
       "\"When you watch your owner call another dog a good boy but then they turn back to you and say you're a great boy. 13/10 https://t.co/v0nONBcwxq\""
      ]
     },
     "execution_count": 4,
     "metadata": {},
     "output_type": "execute_result"
    }
   ],
   "source": [
    "sample_tweet.text "
   ]
  },
  {
   "cell_type": "code",
   "execution_count": 5,
   "metadata": {},
   "outputs": [
    {
     "data": {
      "text/plain": [
       "'https://twitter.com/dog_rates/status/890729181411237888/photo/1,https://twitter.com/dog_rates/status/890729181411237888/photo/1'"
      ]
     },
     "execution_count": 5,
     "metadata": {},
     "output_type": "execute_result"
    }
   ],
   "source": [
    "sample_tweet.expanded_urls"
   ]
  },
  {
   "cell_type": "code",
   "execution_count": 6,
   "metadata": {},
   "outputs": [
    {
     "data": {
      "text/plain": [
       "'<a href=\"http://twitter.com/download/iphone\" rel=\"nofollow\">Twitter for iPhone</a>'"
      ]
     },
     "execution_count": 6,
     "metadata": {},
     "output_type": "execute_result"
    }
   ],
   "source": [
    "sample_tweet.source"
   ]
  },
  {
   "cell_type": "markdown",
   "metadata": {},
   "source": [
    "#### Image Predictions File (URL)"
   ]
  },
  {
   "cell_type": "code",
   "execution_count": 7,
   "metadata": {},
   "outputs": [
    {
     "data": {
      "text/plain": [
       "<Response [200]>"
      ]
     },
     "execution_count": 7,
     "metadata": {},
     "output_type": "execute_result"
    }
   ],
   "source": [
    "# download the image predictions file with the provided link\n",
    "url = 'https://d17h27t6h515a5.cloudfront.net/topher/2017/August/599fd2ad_image-predictions/image-predictions.tsv'\n",
    "response = requests.get(url)\n",
    "response"
   ]
  },
  {
   "cell_type": "code",
   "execution_count": 8,
   "metadata": {},
   "outputs": [],
   "source": [
    "#  HTTP status code 200 indicates the request has succeeded \n",
    "file_images = url.split('/')[-1]\n",
    "\n",
    "with open(os.path.join('./', file_images), mode = 'wb') as file:\n",
    "    file.write(response.content)"
   ]
  },
  {
   "cell_type": "code",
   "execution_count": 9,
   "metadata": {},
   "outputs": [
    {
     "name": "stdout",
     "output_type": "stream",
     "text": [
      "image-predictions.tsv\r\n"
     ]
    }
   ],
   "source": [
    "ls *.tsv"
   ]
  },
  {
   "cell_type": "code",
   "execution_count": 10,
   "metadata": {},
   "outputs": [
    {
     "name": "stdout",
     "output_type": "stream",
     "text": [
      "<class 'pandas.core.frame.DataFrame'>\n",
      "RangeIndex: 2075 entries, 0 to 2074\n",
      "Data columns (total 12 columns):\n",
      "tweet_id    2075 non-null int64\n",
      "jpg_url     2075 non-null object\n",
      "img_num     2075 non-null int64\n",
      "p1          2075 non-null object\n",
      "p1_conf     2075 non-null float64\n",
      "p1_dog      2075 non-null bool\n",
      "p2          2075 non-null object\n",
      "p2_conf     2075 non-null float64\n",
      "p2_dog      2075 non-null bool\n",
      "p3          2075 non-null object\n",
      "p3_conf     2075 non-null float64\n",
      "p3_dog      2075 non-null bool\n",
      "dtypes: bool(3), float64(3), int64(2), object(4)\n",
      "memory usage: 152.1+ KB\n"
     ]
    }
   ],
   "source": [
    "# read image predictions file into a DataFrame\n",
    "df_predictions = pd.read_csv(file_images, sep = '\\\\t', engine = 'python')\n",
    "df_predictions.info()"
   ]
  },
  {
   "cell_type": "code",
   "execution_count": 11,
   "metadata": {},
   "outputs": [
    {
     "data": {
      "text/html": [
       "<div>\n",
       "<style scoped>\n",
       "    .dataframe tbody tr th:only-of-type {\n",
       "        vertical-align: middle;\n",
       "    }\n",
       "\n",
       "    .dataframe tbody tr th {\n",
       "        vertical-align: top;\n",
       "    }\n",
       "\n",
       "    .dataframe thead th {\n",
       "        text-align: right;\n",
       "    }\n",
       "</style>\n",
       "<table border=\"1\" class=\"dataframe\">\n",
       "  <thead>\n",
       "    <tr style=\"text-align: right;\">\n",
       "      <th></th>\n",
       "      <th>tweet_id</th>\n",
       "      <th>jpg_url</th>\n",
       "      <th>img_num</th>\n",
       "      <th>p1</th>\n",
       "      <th>p1_conf</th>\n",
       "      <th>p1_dog</th>\n",
       "      <th>p2</th>\n",
       "      <th>p2_conf</th>\n",
       "      <th>p2_dog</th>\n",
       "      <th>p3</th>\n",
       "      <th>p3_conf</th>\n",
       "      <th>p3_dog</th>\n",
       "    </tr>\n",
       "  </thead>\n",
       "  <tbody>\n",
       "    <tr>\n",
       "      <th>0</th>\n",
       "      <td>666020888022790149</td>\n",
       "      <td>https://pbs.twimg.com/media/CT4udn0WwAA0aMy.jpg</td>\n",
       "      <td>1</td>\n",
       "      <td>Welsh_springer_spaniel</td>\n",
       "      <td>0.465074</td>\n",
       "      <td>True</td>\n",
       "      <td>collie</td>\n",
       "      <td>0.156665</td>\n",
       "      <td>True</td>\n",
       "      <td>Shetland_sheepdog</td>\n",
       "      <td>0.061428</td>\n",
       "      <td>True</td>\n",
       "    </tr>\n",
       "    <tr>\n",
       "      <th>1</th>\n",
       "      <td>666029285002620928</td>\n",
       "      <td>https://pbs.twimg.com/media/CT42GRgUYAA5iDo.jpg</td>\n",
       "      <td>1</td>\n",
       "      <td>redbone</td>\n",
       "      <td>0.506826</td>\n",
       "      <td>True</td>\n",
       "      <td>miniature_pinscher</td>\n",
       "      <td>0.074192</td>\n",
       "      <td>True</td>\n",
       "      <td>Rhodesian_ridgeback</td>\n",
       "      <td>0.072010</td>\n",
       "      <td>True</td>\n",
       "    </tr>\n",
       "  </tbody>\n",
       "</table>\n",
       "</div>"
      ],
      "text/plain": [
       "             tweet_id                                          jpg_url  \\\n",
       "0  666020888022790149  https://pbs.twimg.com/media/CT4udn0WwAA0aMy.jpg   \n",
       "1  666029285002620928  https://pbs.twimg.com/media/CT42GRgUYAA5iDo.jpg   \n",
       "\n",
       "   img_num                      p1   p1_conf  p1_dog                  p2  \\\n",
       "0  1        Welsh_springer_spaniel  0.465074  True    collie               \n",
       "1  1        redbone                 0.506826  True    miniature_pinscher   \n",
       "\n",
       "    p2_conf  p2_dog                   p3   p3_conf  p3_dog  \n",
       "0  0.156665  True    Shetland_sheepdog    0.061428  True    \n",
       "1  0.074192  True    Rhodesian_ridgeback  0.072010  True    "
      ]
     },
     "execution_count": 11,
     "metadata": {},
     "output_type": "execute_result"
    }
   ],
   "source": [
    "df_predictions.head(2)"
   ]
  },
  {
   "cell_type": "code",
   "execution_count": 12,
   "metadata": {
    "scrolled": true
   },
   "outputs": [
    {
     "data": {
      "text/plain": [
       "tweet_id    666033412701032449                             \n",
       "jpg_url     https://pbs.twimg.com/media/CT4521TWwAEvMyu.jpg\n",
       "img_num     1                                              \n",
       "p1          German_shepherd                                \n",
       "p1_conf     0.596461                                       \n",
       "p1_dog      True                                           \n",
       "p2          malinois                                       \n",
       "p2_conf     0.138584                                       \n",
       "p2_dog      True                                           \n",
       "p3          bloodhound                                     \n",
       "p3_conf     0.116197                                       \n",
       "p3_dog      True                                           \n",
       "Name: 2, dtype: object"
      ]
     },
     "execution_count": 12,
     "metadata": {},
     "output_type": "execute_result"
    }
   ],
   "source": [
    "# check one observation\n",
    "df_predictions.iloc[2]"
   ]
  },
  {
   "cell_type": "markdown",
   "metadata": {},
   "source": [
    "#### Download Tweet JSON Data\n",
    "\n",
    "> I queried the Twitter API using Python's Tweepy library to get the entire set of JSON data for each of the tweets in the WeRateDogs Twitter archive. Each tweet's JSON data is written to its own line in a file called tweet_json.txt file."
   ]
  },
  {
   "cell_type": "markdown",
   "metadata": {},
   "source": [
    "#### Personal Twitter  API keys, Secrets, and Tokens"
   ]
  },
  {
   "cell_type": "code",
   "execution_count": 13,
   "metadata": {},
   "outputs": [],
   "source": [
    "CONSUMER_KEY = '4yjr0C6Jy5n9chjaQjqxkOHMQ'\n",
    "CONSUMER_SECRET = 'qs048gLsKVyJQQYd0z0AJYymSOatqFCpWKwZI8tX5apoNC4Bjp'\n",
    "OAUTH_TOKEN = '1173440055915900928-e8QS89Gs16KmN40zATiR65ZBBEzhNB'\n",
    "OAUTH_TOKEN_SECRET = 'zAffsxn9UNPKh5M7fVK0wmT6LLR6tL2CdVXk40W7STiUU'"
   ]
  },
  {
   "cell_type": "code",
   "execution_count": 14,
   "metadata": {},
   "outputs": [],
   "source": [
    "# Create the Twitter API object and set rate limit params\n",
    "\n",
    "auth = tweepy.OAuthHandler(CONSUMER_KEY, CONSUMER_SECRET)\n",
    "auth.set_access_token(OAUTH_TOKEN, OAUTH_TOKEN_SECRET)\n",
    "\n",
    "api = tweepy.API(auth_handler = auth, \n",
    "                 wait_on_rate_limit = True, \n",
    "                 wait_on_rate_limit_notify = True)"
   ]
  },
  {
   "cell_type": "markdown",
   "metadata": {},
   "source": [
    "#### Download tweets"
   ]
  },
  {
   "cell_type": "code",
   "execution_count": null,
   "metadata": {},
   "outputs": [],
   "source": [
    "# Get a list of tweet_ids from the enhanced twitter archive to use for \n",
    "# downloading with the Twitter API\n",
    "\n",
    "tweet_ids = df_twitter_archive.tweet_id.values\n",
    "print(\"# of tweet_ids: \" + str(len(tweet_ids)) + \"\\n\")\n",
    "\n",
    "count = 0\n",
    "tweet_json_list = []\n",
    "fails_dict = {}\n",
    "\n",
    "start_time = time.time()\n",
    "\n",
    "for tweet_id in tweet_ids:\n",
    "    count += 1\n",
    "    try:\n",
    "        # attempt to get the tweet's JSON data and append to the tweet JSON list\n",
    "        tweet = api.get_status(tweet_id, tweet_mode = 'extended')\n",
    "        tweet_json_list.append(tweet._json)\n",
    "    except tweepy.TweepError as err:\n",
    "        # save the error to the fail dictionary for review\n",
    "        print(\"TweepError for id:  \" + str(tweet_id))\n",
    "        fails_dict[tweet_id] = err\n",
    "        pass\n",
    "    # To save space, only print out loop/tweet id for every 100th tweet\n",
    "    if count % 100 == 0:\n",
    "        print(\"loop # \" + str(count))\n",
    "\n",
    "elapsed_time = time.time() - start_time\n",
    "\n",
    "elapsed_time_str = time.strftime(\"%H:%M:%S\", time.gmtime(elapsed_time))\n",
    "print(\"\\nTime elapsed (HH:MM:SS):  \" + elapsed_time_str + \"\\n\")\n",
    "\n",
    "# display list of tweets with errors\n",
    "print(\"Number of TweepErrors:  {}\\n\".format(len(fails_dict)))\n",
    "for tweet_id in fails_dict:\n",
    "    print(tweet_id, fails_dict[tweet_id])"
   ]
  },
  {
   "cell_type": "markdown",
   "metadata": {},
   "source": [
    "#### Save JSON data to file"
   ]
  },
  {
   "cell_type": "code",
   "execution_count": 17,
   "metadata": {},
   "outputs": [],
   "source": [
    "tweet_json_file = 'tweet_json.txt'"
   ]
  },
  {
   "cell_type": "code",
   "execution_count": 18,
   "metadata": {},
   "outputs": [],
   "source": [
    "# save the JSON data in the list to the output file\n",
    "with open(tweet_json_file, 'w') as outfile:\n",
    "    for tweet_json in tweet_json_list:\n",
    "        json.dump(tweet_json, outfile)\n",
    "        outfile.write('\\n')"
   ]
  },
  {
   "cell_type": "code",
   "execution_count": 19,
   "metadata": {},
   "outputs": [
    {
     "name": "stdout",
     "output_type": "stream",
     "text": [
      "tweet_json.txt\r\n"
     ]
    }
   ],
   "source": [
    "ls tweet_json.txt"
   ]
  },
  {
   "cell_type": "markdown",
   "metadata": {},
   "source": [
    "#### Read in JSON data to DataFrame\n",
    "Extract the required fields from each tweet's JSON data and store in a separate file, tweet_data_extra.csv, for use during the assessment phase."
   ]
  },
  {
   "cell_type": "code",
   "execution_count": 23,
   "metadata": {
    "scrolled": false
   },
   "outputs": [
    {
     "data": {
      "text/html": [
       "<div>\n",
       "<style scoped>\n",
       "    .dataframe tbody tr th:only-of-type {\n",
       "        vertical-align: middle;\n",
       "    }\n",
       "\n",
       "    .dataframe tbody tr th {\n",
       "        vertical-align: top;\n",
       "    }\n",
       "\n",
       "    .dataframe thead th {\n",
       "        text-align: right;\n",
       "    }\n",
       "</style>\n",
       "<table border=\"1\" class=\"dataframe\">\n",
       "  <thead>\n",
       "    <tr style=\"text-align: right;\">\n",
       "      <th></th>\n",
       "      <th>tweet_id</th>\n",
       "      <th>retweet_count</th>\n",
       "      <th>favorite_count</th>\n",
       "    </tr>\n",
       "  </thead>\n",
       "  <tbody>\n",
       "    <tr>\n",
       "      <th>0</th>\n",
       "      <td>892420643555336193</td>\n",
       "      <td>8330</td>\n",
       "      <td>38089</td>\n",
       "    </tr>\n",
       "    <tr>\n",
       "      <th>1</th>\n",
       "      <td>892177421306343426</td>\n",
       "      <td>6154</td>\n",
       "      <td>32679</td>\n",
       "    </tr>\n",
       "    <tr>\n",
       "      <th>2</th>\n",
       "      <td>891815181378084864</td>\n",
       "      <td>4073</td>\n",
       "      <td>24595</td>\n",
       "    </tr>\n",
       "    <tr>\n",
       "      <th>3</th>\n",
       "      <td>891689557279858688</td>\n",
       "      <td>8474</td>\n",
       "      <td>41449</td>\n",
       "    </tr>\n",
       "    <tr>\n",
       "      <th>4</th>\n",
       "      <td>891327558926688256</td>\n",
       "      <td>9167</td>\n",
       "      <td>39623</td>\n",
       "    </tr>\n",
       "    <tr>\n",
       "      <th>5</th>\n",
       "      <td>891087950875897856</td>\n",
       "      <td>3052</td>\n",
       "      <td>19898</td>\n",
       "    </tr>\n",
       "    <tr>\n",
       "      <th>6</th>\n",
       "      <td>890971913173991426</td>\n",
       "      <td>2024</td>\n",
       "      <td>11624</td>\n",
       "    </tr>\n",
       "    <tr>\n",
       "      <th>7</th>\n",
       "      <td>890729181411237888</td>\n",
       "      <td>18488</td>\n",
       "      <td>64265</td>\n",
       "    </tr>\n",
       "    <tr>\n",
       "      <th>8</th>\n",
       "      <td>890609185150312448</td>\n",
       "      <td>4190</td>\n",
       "      <td>27333</td>\n",
       "    </tr>\n",
       "    <tr>\n",
       "      <th>9</th>\n",
       "      <td>890240255349198849</td>\n",
       "      <td>7229</td>\n",
       "      <td>31363</td>\n",
       "    </tr>\n",
       "  </tbody>\n",
       "</table>\n",
       "</div>"
      ],
      "text/plain": [
       "             tweet_id  retweet_count  favorite_count\n",
       "0  892420643555336193  8330           38089         \n",
       "1  892177421306343426  6154           32679         \n",
       "2  891815181378084864  4073           24595         \n",
       "3  891689557279858688  8474           41449         \n",
       "4  891327558926688256  9167           39623         \n",
       "5  891087950875897856  3052           19898         \n",
       "6  890971913173991426  2024           11624         \n",
       "7  890729181411237888  18488          64265         \n",
       "8  890609185150312448  4190           27333         \n",
       "9  890240255349198849  7229           31363         "
      ]
     },
     "execution_count": 23,
     "metadata": {},
     "output_type": "execute_result"
    }
   ],
   "source": [
    "# read in the JSON data from the text file, and save to a DataFrame\n",
    "tweet_json_data = []\n",
    "\n",
    "with open(tweet_json_file, 'r') as json_file:\n",
    "    # read the first line to start the loop\n",
    "    line = json_file.readline()\n",
    "    while line:\n",
    "        data = json.loads(line)\n",
    "\n",
    "        # extract variables from the JSON data\n",
    "        data_id = data['id']\n",
    "        data_retweet_count = data['retweet_count']\n",
    "        data_favorite_count = data['favorite_count']\n",
    "        \n",
    "        # create a dictionary with the JSON data, then add to a list\n",
    "        json_data = {'tweet_id': data_id, \n",
    "                     'retweet_count': data_retweet_count, \n",
    "                     'favorite_count': data_favorite_count\n",
    "                    }\n",
    "        tweet_json_data.append(json_data)\n",
    "\n",
    "        # read the next line of JSON data\n",
    "        line = json_file.readline()\n",
    "        # ----- while -----\n",
    "\n",
    "# convert the tweet JSON data dictionary list to a DataFrame\n",
    "df_tweet_data_extra = pd.DataFrame(tweet_json_data, \n",
    "                                   columns = ['tweet_id',\n",
    "                                              'retweet_count',\n",
    "                                              'favorite_count'])\n",
    "\n",
    "df_tweet_data_extra.head(10)"
   ]
  },
  {
   "cell_type": "code",
   "execution_count": 24,
   "metadata": {},
   "outputs": [
    {
     "name": "stdout",
     "output_type": "stream",
     "text": [
      "<class 'pandas.core.frame.DataFrame'>\n",
      "RangeIndex: 2340 entries, 0 to 2339\n",
      "Data columns (total 3 columns):\n",
      "tweet_id          2340 non-null int64\n",
      "retweet_count     2340 non-null int64\n",
      "favorite_count    2340 non-null int64\n",
      "dtypes: int64(3)\n",
      "memory usage: 55.0 KB\n"
     ]
    }
   ],
   "source": [
    "df_tweet_data_extra.info()"
   ]
  },
  {
   "cell_type": "code",
   "execution_count": 25,
   "metadata": {},
   "outputs": [],
   "source": [
    "df_tweet_data_extra.to_csv('tweet_data_extra.csv', index = False)"
   ]
  },
  {
   "cell_type": "markdown",
   "metadata": {},
   "source": [
    "## Data Assessment"
   ]
  },
  {
   "cell_type": "code",
   "execution_count": 26,
   "metadata": {},
   "outputs": [],
   "source": [
    "# Load the data gathered data files\n",
    "archive = pd.read_csv('twitter-archive-enhanced.csv')\n",
    "predictions = pd.read_csv('image-predictions.tsv', sep = '\\\\t', engine = 'python')\n",
    "json_data = pd.read_csv('tweet_data_extra.csv')"
   ]
  },
  {
   "cell_type": "markdown",
   "metadata": {},
   "source": [
    "### archive"
   ]
  },
  {
   "cell_type": "code",
   "execution_count": 27,
   "metadata": {},
   "outputs": [
    {
     "name": "stdout",
     "output_type": "stream",
     "text": [
      "<class 'pandas.core.frame.DataFrame'>\n",
      "RangeIndex: 2356 entries, 0 to 2355\n",
      "Data columns (total 17 columns):\n",
      "tweet_id                      2356 non-null int64\n",
      "in_reply_to_status_id         78 non-null float64\n",
      "in_reply_to_user_id           78 non-null float64\n",
      "timestamp                     2356 non-null object\n",
      "source                        2356 non-null object\n",
      "text                          2356 non-null object\n",
      "retweeted_status_id           181 non-null float64\n",
      "retweeted_status_user_id      181 non-null float64\n",
      "retweeted_status_timestamp    181 non-null object\n",
      "expanded_urls                 2297 non-null object\n",
      "rating_numerator              2356 non-null int64\n",
      "rating_denominator            2356 non-null int64\n",
      "name                          2356 non-null object\n",
      "doggo                         2356 non-null object\n",
      "floofer                       2356 non-null object\n",
      "pupper                        2356 non-null object\n",
      "puppo                         2356 non-null object\n",
      "dtypes: float64(4), int64(3), object(10)\n",
      "memory usage: 313.0+ KB\n"
     ]
    }
   ],
   "source": [
    "archive.info()"
   ]
  },
  {
   "cell_type": "markdown",
   "metadata": {},
   "source": [
    "---\n",
    "**NOTES:**\n",
    "\n",
    "The `info()` method reveals several quality and tidiness issues:\n",
    "\n",
    "- There are 181 retweets (**retweeted_status_id, retweeted_status_user_id, retweeted_status_timestamp**)\n",
    "- There are 78 replies (**in_reply_to_status_id, in_reply_to_user_id**)\n",
    "- There are 2297 tweets with **expanded_urls** (links to images) indicating 59 tweets with missing data\n",
    "- The **timestamp** field is in string format (object)\n",
    "- There are 4 columns for dog stages (**doggo, floofer, pupper, puppo**)\n",
    "- The columns related to retweets are not applicable for original tweets\n",
    "- The columns related to replies are not applicable for original tweets"
   ]
  },
  {
   "cell_type": "code",
   "execution_count": 28,
   "metadata": {},
   "outputs": [
    {
     "name": "stdout",
     "output_type": "stream",
     "text": [
      "Data type for timestamp:  <class 'str'>\n"
     ]
    }
   ],
   "source": [
    "print(\"Data type for timestamp:  \" + str(type(archive.timestamp[0])))"
   ]
  },
  {
   "cell_type": "code",
   "execution_count": 29,
   "metadata": {},
   "outputs": [
    {
     "name": "stdout",
     "output_type": "stream",
     "text": [
      "Duplicated:  0\n"
     ]
    }
   ],
   "source": [
    "print(\"Duplicated:  {}\".format(sum(archive.duplicated())))"
   ]
  },
  {
   "cell_type": "code",
   "execution_count": 153,
   "metadata": {},
   "outputs": [
    {
     "data": {
      "text/html": [
       "<div>\n",
       "<style scoped>\n",
       "    .dataframe tbody tr th:only-of-type {\n",
       "        vertical-align: middle;\n",
       "    }\n",
       "\n",
       "    .dataframe tbody tr th {\n",
       "        vertical-align: top;\n",
       "    }\n",
       "\n",
       "    .dataframe thead th {\n",
       "        text-align: right;\n",
       "    }\n",
       "</style>\n",
       "<table border=\"1\" class=\"dataframe\">\n",
       "  <thead>\n",
       "    <tr style=\"text-align: right;\">\n",
       "      <th></th>\n",
       "      <th>tweet_id</th>\n",
       "      <th>in_reply_to_status_id</th>\n",
       "      <th>in_reply_to_user_id</th>\n",
       "      <th>timestamp</th>\n",
       "      <th>source</th>\n",
       "      <th>text</th>\n",
       "      <th>retweeted_status_id</th>\n",
       "      <th>retweeted_status_user_id</th>\n",
       "      <th>retweeted_status_timestamp</th>\n",
       "      <th>expanded_urls</th>\n",
       "      <th>rating_numerator</th>\n",
       "      <th>rating_denominator</th>\n",
       "      <th>name</th>\n",
       "      <th>doggo</th>\n",
       "      <th>floofer</th>\n",
       "      <th>pupper</th>\n",
       "      <th>puppo</th>\n",
       "    </tr>\n",
       "  </thead>\n",
       "  <tbody>\n",
       "    <tr>\n",
       "      <th>0</th>\n",
       "      <td>892420643555336193</td>\n",
       "      <td>NaN</td>\n",
       "      <td>NaN</td>\n",
       "      <td>2017-08-01 16:23:56 +0000</td>\n",
       "      <td>&lt;a href=\"http://twitter.com/download/iphone\" rel=\"nofollow\"&gt;Twitter for iPhone&lt;/a&gt;</td>\n",
       "      <td>This is Phineas. He's a mystical boy. Only ever appears in the hole of a donut. 13/10 https://t.co/MgUWQ76dJU</td>\n",
       "      <td>NaN</td>\n",
       "      <td>NaN</td>\n",
       "      <td>NaN</td>\n",
       "      <td>https://twitter.com/dog_rates/status/892420643555336193/photo/1</td>\n",
       "      <td>13</td>\n",
       "      <td>10</td>\n",
       "      <td>Phineas</td>\n",
       "      <td>None</td>\n",
       "      <td>None</td>\n",
       "      <td>None</td>\n",
       "      <td>None</td>\n",
       "    </tr>\n",
       "    <tr>\n",
       "      <th>1</th>\n",
       "      <td>892177421306343426</td>\n",
       "      <td>NaN</td>\n",
       "      <td>NaN</td>\n",
       "      <td>2017-08-01 00:17:27 +0000</td>\n",
       "      <td>&lt;a href=\"http://twitter.com/download/iphone\" rel=\"nofollow\"&gt;Twitter for iPhone&lt;/a&gt;</td>\n",
       "      <td>This is Tilly. She's just checking pup on you. Hopes you're doing ok. If not, she's available for pats, snugs, boops, the whole bit. 13/10 https://t.co/0Xxu71qeIV</td>\n",
       "      <td>NaN</td>\n",
       "      <td>NaN</td>\n",
       "      <td>NaN</td>\n",
       "      <td>https://twitter.com/dog_rates/status/892177421306343426/photo/1</td>\n",
       "      <td>13</td>\n",
       "      <td>10</td>\n",
       "      <td>Tilly</td>\n",
       "      <td>None</td>\n",
       "      <td>None</td>\n",
       "      <td>None</td>\n",
       "      <td>None</td>\n",
       "    </tr>\n",
       "    <tr>\n",
       "      <th>2</th>\n",
       "      <td>891815181378084864</td>\n",
       "      <td>NaN</td>\n",
       "      <td>NaN</td>\n",
       "      <td>2017-07-31 00:18:03 +0000</td>\n",
       "      <td>&lt;a href=\"http://twitter.com/download/iphone\" rel=\"nofollow\"&gt;Twitter for iPhone&lt;/a&gt;</td>\n",
       "      <td>This is Archie. He is a rare Norwegian Pouncing Corgo. Lives in the tall grass. You never know when one may strike. 12/10 https://t.co/wUnZnhtVJB</td>\n",
       "      <td>NaN</td>\n",
       "      <td>NaN</td>\n",
       "      <td>NaN</td>\n",
       "      <td>https://twitter.com/dog_rates/status/891815181378084864/photo/1</td>\n",
       "      <td>12</td>\n",
       "      <td>10</td>\n",
       "      <td>Archie</td>\n",
       "      <td>None</td>\n",
       "      <td>None</td>\n",
       "      <td>None</td>\n",
       "      <td>None</td>\n",
       "    </tr>\n",
       "    <tr>\n",
       "      <th>3</th>\n",
       "      <td>891689557279858688</td>\n",
       "      <td>NaN</td>\n",
       "      <td>NaN</td>\n",
       "      <td>2017-07-30 15:58:51 +0000</td>\n",
       "      <td>&lt;a href=\"http://twitter.com/download/iphone\" rel=\"nofollow\"&gt;Twitter for iPhone&lt;/a&gt;</td>\n",
       "      <td>This is Darla. She commenced a snooze mid meal. 13/10 happens to the best of us https://t.co/tD36da7qLQ</td>\n",
       "      <td>NaN</td>\n",
       "      <td>NaN</td>\n",
       "      <td>NaN</td>\n",
       "      <td>https://twitter.com/dog_rates/status/891689557279858688/photo/1</td>\n",
       "      <td>13</td>\n",
       "      <td>10</td>\n",
       "      <td>Darla</td>\n",
       "      <td>None</td>\n",
       "      <td>None</td>\n",
       "      <td>None</td>\n",
       "      <td>None</td>\n",
       "    </tr>\n",
       "    <tr>\n",
       "      <th>4</th>\n",
       "      <td>891327558926688256</td>\n",
       "      <td>NaN</td>\n",
       "      <td>NaN</td>\n",
       "      <td>2017-07-29 16:00:24 +0000</td>\n",
       "      <td>&lt;a href=\"http://twitter.com/download/iphone\" rel=\"nofollow\"&gt;Twitter for iPhone&lt;/a&gt;</td>\n",
       "      <td>This is Franklin. He would like you to stop calling him \"cute.\" He is a very fierce shark and should be respected as such. 12/10 #BarkWeek https://t.co/AtUZn91f7f</td>\n",
       "      <td>NaN</td>\n",
       "      <td>NaN</td>\n",
       "      <td>NaN</td>\n",
       "      <td>https://twitter.com/dog_rates/status/891327558926688256/photo/1,https://twitter.com/dog_rates/status/891327558926688256/photo/1</td>\n",
       "      <td>12</td>\n",
       "      <td>10</td>\n",
       "      <td>Franklin</td>\n",
       "      <td>None</td>\n",
       "      <td>None</td>\n",
       "      <td>None</td>\n",
       "      <td>None</td>\n",
       "    </tr>\n",
       "  </tbody>\n",
       "</table>\n",
       "</div>"
      ],
      "text/plain": [
       "             tweet_id  in_reply_to_status_id  in_reply_to_user_id  \\\n",
       "0  892420643555336193 NaN                    NaN                    \n",
       "1  892177421306343426 NaN                    NaN                    \n",
       "2  891815181378084864 NaN                    NaN                    \n",
       "3  891689557279858688 NaN                    NaN                    \n",
       "4  891327558926688256 NaN                    NaN                    \n",
       "\n",
       "                   timestamp  \\\n",
       "0  2017-08-01 16:23:56 +0000   \n",
       "1  2017-08-01 00:17:27 +0000   \n",
       "2  2017-07-31 00:18:03 +0000   \n",
       "3  2017-07-30 15:58:51 +0000   \n",
       "4  2017-07-29 16:00:24 +0000   \n",
       "\n",
       "                                                                               source  \\\n",
       "0  <a href=\"http://twitter.com/download/iphone\" rel=\"nofollow\">Twitter for iPhone</a>   \n",
       "1  <a href=\"http://twitter.com/download/iphone\" rel=\"nofollow\">Twitter for iPhone</a>   \n",
       "2  <a href=\"http://twitter.com/download/iphone\" rel=\"nofollow\">Twitter for iPhone</a>   \n",
       "3  <a href=\"http://twitter.com/download/iphone\" rel=\"nofollow\">Twitter for iPhone</a>   \n",
       "4  <a href=\"http://twitter.com/download/iphone\" rel=\"nofollow\">Twitter for iPhone</a>   \n",
       "\n",
       "                                                                                                                                                                 text  \\\n",
       "0  This is Phineas. He's a mystical boy. Only ever appears in the hole of a donut. 13/10 https://t.co/MgUWQ76dJU                                                        \n",
       "1  This is Tilly. She's just checking pup on you. Hopes you're doing ok. If not, she's available for pats, snugs, boops, the whole bit. 13/10 https://t.co/0Xxu71qeIV   \n",
       "2  This is Archie. He is a rare Norwegian Pouncing Corgo. Lives in the tall grass. You never know when one may strike. 12/10 https://t.co/wUnZnhtVJB                    \n",
       "3  This is Darla. She commenced a snooze mid meal. 13/10 happens to the best of us https://t.co/tD36da7qLQ                                                              \n",
       "4  This is Franklin. He would like you to stop calling him \"cute.\" He is a very fierce shark and should be respected as such. 12/10 #BarkWeek https://t.co/AtUZn91f7f   \n",
       "\n",
       "   retweeted_status_id  retweeted_status_user_id retweeted_status_timestamp  \\\n",
       "0 NaN                  NaN                        NaN                         \n",
       "1 NaN                  NaN                        NaN                         \n",
       "2 NaN                  NaN                        NaN                         \n",
       "3 NaN                  NaN                        NaN                         \n",
       "4 NaN                  NaN                        NaN                         \n",
       "\n",
       "                                                                                                                     expanded_urls  \\\n",
       "0  https://twitter.com/dog_rates/status/892420643555336193/photo/1                                                                   \n",
       "1  https://twitter.com/dog_rates/status/892177421306343426/photo/1                                                                   \n",
       "2  https://twitter.com/dog_rates/status/891815181378084864/photo/1                                                                   \n",
       "3  https://twitter.com/dog_rates/status/891689557279858688/photo/1                                                                   \n",
       "4  https://twitter.com/dog_rates/status/891327558926688256/photo/1,https://twitter.com/dog_rates/status/891327558926688256/photo/1   \n",
       "\n",
       "   rating_numerator  rating_denominator      name doggo floofer pupper puppo  \n",
       "0  13                10                  Phineas   None  None    None   None  \n",
       "1  13                10                  Tilly     None  None    None   None  \n",
       "2  12                10                  Archie    None  None    None   None  \n",
       "3  13                10                  Darla     None  None    None   None  \n",
       "4  12                10                  Franklin  None  None    None   None  "
      ]
     },
     "execution_count": 153,
     "metadata": {},
     "output_type": "execute_result"
    }
   ],
   "source": [
    "archive.head(5)"
   ]
  },
  {
   "cell_type": "code",
   "execution_count": 154,
   "metadata": {
    "scrolled": false
   },
   "outputs": [
    {
     "data": {
      "text/html": [
       "<div>\n",
       "<style scoped>\n",
       "    .dataframe tbody tr th:only-of-type {\n",
       "        vertical-align: middle;\n",
       "    }\n",
       "\n",
       "    .dataframe tbody tr th {\n",
       "        vertical-align: top;\n",
       "    }\n",
       "\n",
       "    .dataframe thead th {\n",
       "        text-align: right;\n",
       "    }\n",
       "</style>\n",
       "<table border=\"1\" class=\"dataframe\">\n",
       "  <thead>\n",
       "    <tr style=\"text-align: right;\">\n",
       "      <th></th>\n",
       "      <th>tweet_id</th>\n",
       "      <th>in_reply_to_status_id</th>\n",
       "      <th>in_reply_to_user_id</th>\n",
       "      <th>timestamp</th>\n",
       "      <th>source</th>\n",
       "      <th>text</th>\n",
       "      <th>retweeted_status_id</th>\n",
       "      <th>retweeted_status_user_id</th>\n",
       "      <th>retweeted_status_timestamp</th>\n",
       "      <th>expanded_urls</th>\n",
       "      <th>rating_numerator</th>\n",
       "      <th>rating_denominator</th>\n",
       "      <th>name</th>\n",
       "      <th>doggo</th>\n",
       "      <th>floofer</th>\n",
       "      <th>pupper</th>\n",
       "      <th>puppo</th>\n",
       "    </tr>\n",
       "  </thead>\n",
       "  <tbody>\n",
       "    <tr>\n",
       "      <th>2351</th>\n",
       "      <td>666049248165822465</td>\n",
       "      <td>NaN</td>\n",
       "      <td>NaN</td>\n",
       "      <td>2015-11-16 00:24:50 +0000</td>\n",
       "      <td>&lt;a href=\"http://twitter.com/download/iphone\" rel=\"nofollow\"&gt;Twitter for iPhone&lt;/a&gt;</td>\n",
       "      <td>Here we have a 1949 1st generation vulpix. Enjoys sweat tea and Fox News. Cannot be phased. 5/10 https://t.co/4B7cOc1EDq</td>\n",
       "      <td>NaN</td>\n",
       "      <td>NaN</td>\n",
       "      <td>NaN</td>\n",
       "      <td>https://twitter.com/dog_rates/status/666049248165822465/photo/1</td>\n",
       "      <td>5</td>\n",
       "      <td>10</td>\n",
       "      <td>None</td>\n",
       "      <td>None</td>\n",
       "      <td>None</td>\n",
       "      <td>None</td>\n",
       "      <td>None</td>\n",
       "    </tr>\n",
       "    <tr>\n",
       "      <th>2352</th>\n",
       "      <td>666044226329800704</td>\n",
       "      <td>NaN</td>\n",
       "      <td>NaN</td>\n",
       "      <td>2015-11-16 00:04:52 +0000</td>\n",
       "      <td>&lt;a href=\"http://twitter.com/download/iphone\" rel=\"nofollow\"&gt;Twitter for iPhone&lt;/a&gt;</td>\n",
       "      <td>This is a purebred Piers Morgan. Loves to Netflix and chill. Always looks like he forgot to unplug the iron. 6/10 https://t.co/DWnyCjf2mx</td>\n",
       "      <td>NaN</td>\n",
       "      <td>NaN</td>\n",
       "      <td>NaN</td>\n",
       "      <td>https://twitter.com/dog_rates/status/666044226329800704/photo/1</td>\n",
       "      <td>6</td>\n",
       "      <td>10</td>\n",
       "      <td>a</td>\n",
       "      <td>None</td>\n",
       "      <td>None</td>\n",
       "      <td>None</td>\n",
       "      <td>None</td>\n",
       "    </tr>\n",
       "    <tr>\n",
       "      <th>2353</th>\n",
       "      <td>666033412701032449</td>\n",
       "      <td>NaN</td>\n",
       "      <td>NaN</td>\n",
       "      <td>2015-11-15 23:21:54 +0000</td>\n",
       "      <td>&lt;a href=\"http://twitter.com/download/iphone\" rel=\"nofollow\"&gt;Twitter for iPhone&lt;/a&gt;</td>\n",
       "      <td>Here is a very happy pup. Big fan of well-maintained decks. Just look at that tongue. 9/10 would cuddle af https://t.co/y671yMhoiR</td>\n",
       "      <td>NaN</td>\n",
       "      <td>NaN</td>\n",
       "      <td>NaN</td>\n",
       "      <td>https://twitter.com/dog_rates/status/666033412701032449/photo/1</td>\n",
       "      <td>9</td>\n",
       "      <td>10</td>\n",
       "      <td>a</td>\n",
       "      <td>None</td>\n",
       "      <td>None</td>\n",
       "      <td>None</td>\n",
       "      <td>None</td>\n",
       "    </tr>\n",
       "    <tr>\n",
       "      <th>2354</th>\n",
       "      <td>666029285002620928</td>\n",
       "      <td>NaN</td>\n",
       "      <td>NaN</td>\n",
       "      <td>2015-11-15 23:05:30 +0000</td>\n",
       "      <td>&lt;a href=\"http://twitter.com/download/iphone\" rel=\"nofollow\"&gt;Twitter for iPhone&lt;/a&gt;</td>\n",
       "      <td>This is a western brown Mitsubishi terrier. Upset about leaf. Actually 2 dogs here. 7/10 would walk the shit out of https://t.co/r7mOb2m0UI</td>\n",
       "      <td>NaN</td>\n",
       "      <td>NaN</td>\n",
       "      <td>NaN</td>\n",
       "      <td>https://twitter.com/dog_rates/status/666029285002620928/photo/1</td>\n",
       "      <td>7</td>\n",
       "      <td>10</td>\n",
       "      <td>a</td>\n",
       "      <td>None</td>\n",
       "      <td>None</td>\n",
       "      <td>None</td>\n",
       "      <td>None</td>\n",
       "    </tr>\n",
       "    <tr>\n",
       "      <th>2355</th>\n",
       "      <td>666020888022790149</td>\n",
       "      <td>NaN</td>\n",
       "      <td>NaN</td>\n",
       "      <td>2015-11-15 22:32:08 +0000</td>\n",
       "      <td>&lt;a href=\"http://twitter.com/download/iphone\" rel=\"nofollow\"&gt;Twitter for iPhone&lt;/a&gt;</td>\n",
       "      <td>Here we have a Japanese Irish Setter. Lost eye in Vietnam (?). Big fan of relaxing on stair. 8/10 would pet https://t.co/BLDqew2Ijj</td>\n",
       "      <td>NaN</td>\n",
       "      <td>NaN</td>\n",
       "      <td>NaN</td>\n",
       "      <td>https://twitter.com/dog_rates/status/666020888022790149/photo/1</td>\n",
       "      <td>8</td>\n",
       "      <td>10</td>\n",
       "      <td>None</td>\n",
       "      <td>None</td>\n",
       "      <td>None</td>\n",
       "      <td>None</td>\n",
       "      <td>None</td>\n",
       "    </tr>\n",
       "  </tbody>\n",
       "</table>\n",
       "</div>"
      ],
      "text/plain": [
       "                tweet_id  in_reply_to_status_id  in_reply_to_user_id  \\\n",
       "2351  666049248165822465 NaN                    NaN                    \n",
       "2352  666044226329800704 NaN                    NaN                    \n",
       "2353  666033412701032449 NaN                    NaN                    \n",
       "2354  666029285002620928 NaN                    NaN                    \n",
       "2355  666020888022790149 NaN                    NaN                    \n",
       "\n",
       "                      timestamp  \\\n",
       "2351  2015-11-16 00:24:50 +0000   \n",
       "2352  2015-11-16 00:04:52 +0000   \n",
       "2353  2015-11-15 23:21:54 +0000   \n",
       "2354  2015-11-15 23:05:30 +0000   \n",
       "2355  2015-11-15 22:32:08 +0000   \n",
       "\n",
       "                                                                                  source  \\\n",
       "2351  <a href=\"http://twitter.com/download/iphone\" rel=\"nofollow\">Twitter for iPhone</a>   \n",
       "2352  <a href=\"http://twitter.com/download/iphone\" rel=\"nofollow\">Twitter for iPhone</a>   \n",
       "2353  <a href=\"http://twitter.com/download/iphone\" rel=\"nofollow\">Twitter for iPhone</a>   \n",
       "2354  <a href=\"http://twitter.com/download/iphone\" rel=\"nofollow\">Twitter for iPhone</a>   \n",
       "2355  <a href=\"http://twitter.com/download/iphone\" rel=\"nofollow\">Twitter for iPhone</a>   \n",
       "\n",
       "                                                                                                                                             text  \\\n",
       "2351  Here we have a 1949 1st generation vulpix. Enjoys sweat tea and Fox News. Cannot be phased. 5/10 https://t.co/4B7cOc1EDq                      \n",
       "2352  This is a purebred Piers Morgan. Loves to Netflix and chill. Always looks like he forgot to unplug the iron. 6/10 https://t.co/DWnyCjf2mx     \n",
       "2353  Here is a very happy pup. Big fan of well-maintained decks. Just look at that tongue. 9/10 would cuddle af https://t.co/y671yMhoiR            \n",
       "2354  This is a western brown Mitsubishi terrier. Upset about leaf. Actually 2 dogs here. 7/10 would walk the shit out of https://t.co/r7mOb2m0UI   \n",
       "2355  Here we have a Japanese Irish Setter. Lost eye in Vietnam (?). Big fan of relaxing on stair. 8/10 would pet https://t.co/BLDqew2Ijj           \n",
       "\n",
       "      retweeted_status_id  retweeted_status_user_id  \\\n",
       "2351 NaN                  NaN                         \n",
       "2352 NaN                  NaN                         \n",
       "2353 NaN                  NaN                         \n",
       "2354 NaN                  NaN                         \n",
       "2355 NaN                  NaN                         \n",
       "\n",
       "     retweeted_status_timestamp  \\\n",
       "2351  NaN                         \n",
       "2352  NaN                         \n",
       "2353  NaN                         \n",
       "2354  NaN                         \n",
       "2355  NaN                         \n",
       "\n",
       "                                                        expanded_urls  \\\n",
       "2351  https://twitter.com/dog_rates/status/666049248165822465/photo/1   \n",
       "2352  https://twitter.com/dog_rates/status/666044226329800704/photo/1   \n",
       "2353  https://twitter.com/dog_rates/status/666033412701032449/photo/1   \n",
       "2354  https://twitter.com/dog_rates/status/666029285002620928/photo/1   \n",
       "2355  https://twitter.com/dog_rates/status/666020888022790149/photo/1   \n",
       "\n",
       "      rating_numerator  rating_denominator  name doggo floofer pupper puppo  \n",
       "2351  5                 10                  None  None  None    None   None  \n",
       "2352  6                 10                  a     None  None    None   None  \n",
       "2353  9                 10                  a     None  None    None   None  \n",
       "2354  7                 10                  a     None  None    None   None  \n",
       "2355  8                 10                  None  None  None    None   None  "
      ]
     },
     "execution_count": 154,
     "metadata": {},
     "output_type": "execute_result"
    }
   ],
   "source": [
    "archive.tail(5)"
   ]
  },
  {
   "cell_type": "markdown",
   "metadata": {},
   "source": [
    "**NOTES:**\n",
    "> The `head()` and `tail()` methods show us several issues:\n",
    ">\n",
    "> Quality:\n",
    "> - The **timestamp** column has dates in string form.\n",
    "> - Some of the rows from the `tail()` output above have invalid strings in the **name** column, e.g. \"a\", \"an\", \"in\". These words are all the 3rd word in the tweet.\n",
    "> - Values of \"None\" in the **name** column.\n",
    ">\n",
    "> Tidiness:\n",
    "> - The columns with numerical data that are typically used for analysis are located to the far right of the table, and the columns with long strings are on the left; this makes it difficult to readily see the data that will be used for analyses."
   ]
  },
  {
   "cell_type": "markdown",
   "metadata": {},
   "source": [
    "---\n",
    "#### `name`\n",
    "> First we'll check the **name** column, starting with value counts."
   ]
  },
  {
   "cell_type": "code",
   "execution_count": 32,
   "metadata": {},
   "outputs": [
    {
     "data": {
      "text/plain": [
       "None        745\n",
       "a           55 \n",
       "Charlie     12 \n",
       "Cooper      11 \n",
       "Oliver      11 \n",
       "Lucy        11 \n",
       "Penny       10 \n",
       "Tucker      10 \n",
       "Lola        10 \n",
       "Winston     9  \n",
       "Bo          9  \n",
       "Sadie       8  \n",
       "the         8  \n",
       "an          7  \n",
       "Buddy       7  \n",
       "Toby        7  \n",
       "Daisy       7  \n",
       "Bailey      7  \n",
       "Oscar       6  \n",
       "Rusty       6  \n",
       "Dave        6  \n",
       "Koda        6  \n",
       "Leo         6  \n",
       "Jax         6  \n",
       "Scout       6  \n",
       "Milo        6  \n",
       "Jack        6  \n",
       "Bella       6  \n",
       "Stanley     6  \n",
       "Alfie       5  \n",
       "Chester     5  \n",
       "Oakley      5  \n",
       "Finn        5  \n",
       "Gus         5  \n",
       "George      5  \n",
       "Bentley     5  \n",
       "Larry       5  \n",
       "Sammy       5  \n",
       "very        5  \n",
       "Louis       5  \n",
       "Sunny       5  \n",
       "Phil        5  \n",
       "Gary        4  \n",
       "Bear        4  \n",
       "Sophie      4  \n",
       "Jeffrey     4  \n",
       "Ruby        4  \n",
       "Clarence    4  \n",
       "Scooter     4  \n",
       "Bruce       4  \n",
       "Name: name, dtype: int64"
      ]
     },
     "execution_count": 32,
     "metadata": {},
     "output_type": "execute_result"
    }
   ],
   "source": [
    "archive.name.value_counts().head(50)"
   ]
  },
  {
   "cell_type": "markdown",
   "metadata": {},
   "source": [
    "**NOTES:**\n",
    "\n",
    "> It looks like the dog names are all capitalized, so words that begin in lowercase are probably not names, like \"a\", \"the\" and \"an\". Here's the list of these \"names\"."
   ]
  },
  {
   "cell_type": "code",
   "execution_count": 33,
   "metadata": {},
   "outputs": [
    {
     "data": {
      "text/plain": [
       "a               55\n",
       "actually        2 \n",
       "all             1 \n",
       "an              7 \n",
       "by              1 \n",
       "getting         2 \n",
       "his             1 \n",
       "incredibly      1 \n",
       "infuriating     1 \n",
       "just            4 \n",
       "life            1 \n",
       "light           1 \n",
       "mad             2 \n",
       "my              1 \n",
       "not             2 \n",
       "officially      1 \n",
       "old             1 \n",
       "one             4 \n",
       "quite           4 \n",
       "space           1 \n",
       "such            1 \n",
       "the             8 \n",
       "this            1 \n",
       "unacceptable    1 \n",
       "very            5 \n",
       "Name: name, dtype: int64"
      ]
     },
     "execution_count": 33,
     "metadata": {},
     "output_type": "execute_result"
    }
   ],
   "source": [
    "# list all names that are NOT capitalized\n",
    "err_names_mask = archive.name.str.contains('^[a-z]', regex = True)\n",
    "archive[err_names_mask].name.value_counts().sort_index()"
   ]
  },
  {
   "cell_type": "code",
   "execution_count": 34,
   "metadata": {},
   "outputs": [
    {
     "data": {
      "text/plain": [
       "109"
      ]
     },
     "execution_count": 34,
     "metadata": {},
     "output_type": "execute_result"
    }
   ],
   "source": [
    "len(archive[err_names_mask])"
   ]
  },
  {
   "cell_type": "markdown",
   "metadata": {},
   "source": [
    "**NOTES:**\n",
    "\n",
    "> This list contains non-capitalized words from the **name** column for 109 tweets, none of which are a valid name.\n",
    "\n",
    "---\n",
    "#### `expanded_urls`\n",
    "> Next, check the tweets that are missing data in **expanded_urls**, are they replies or retweets?"
   ]
  },
  {
   "cell_type": "code",
   "execution_count": 35,
   "metadata": {},
   "outputs": [
    {
     "data": {
      "text/plain": [
       "59"
      ]
     },
     "execution_count": 35,
     "metadata": {},
     "output_type": "execute_result"
    }
   ],
   "source": [
    "# number of tweets with missing urls\n",
    "sum(archive.expanded_urls.isna())"
   ]
  },
  {
   "cell_type": "code",
   "execution_count": 36,
   "metadata": {},
   "outputs": [
    {
     "data": {
      "text/plain": [
       "56"
      ]
     },
     "execution_count": 36,
     "metadata": {},
     "output_type": "execute_result"
    }
   ],
   "source": [
    "# how many tweets with missing urls are replies or retweets?\n",
    "sum(archive.expanded_urls.isna() & \\\n",
    "    (archive.in_reply_to_status_id.notnull() | \\\n",
    "     archive.retweeted_status_id.notnull()))"
   ]
  },
  {
   "cell_type": "code",
   "execution_count": 37,
   "metadata": {},
   "outputs": [
    {
     "data": {
      "text/html": [
       "<div>\n",
       "<style scoped>\n",
       "    .dataframe tbody tr th:only-of-type {\n",
       "        vertical-align: middle;\n",
       "    }\n",
       "\n",
       "    .dataframe tbody tr th {\n",
       "        vertical-align: top;\n",
       "    }\n",
       "\n",
       "    .dataframe thead th {\n",
       "        text-align: right;\n",
       "    }\n",
       "</style>\n",
       "<table border=\"1\" class=\"dataframe\">\n",
       "  <thead>\n",
       "    <tr style=\"text-align: right;\">\n",
       "      <th></th>\n",
       "      <th>tweet_id</th>\n",
       "      <th>text</th>\n",
       "      <th>expanded_urls</th>\n",
       "    </tr>\n",
       "  </thead>\n",
       "  <tbody>\n",
       "    <tr>\n",
       "      <th>375</th>\n",
       "      <td>828361771580813312</td>\n",
       "      <td>Beebop and Doobert should start a band 12/10 would listen</td>\n",
       "      <td>NaN</td>\n",
       "    </tr>\n",
       "    <tr>\n",
       "      <th>707</th>\n",
       "      <td>785515384317313025</td>\n",
       "      <td>Today, 10/10, should be National Dog Rates Day</td>\n",
       "      <td>NaN</td>\n",
       "    </tr>\n",
       "    <tr>\n",
       "      <th>1445</th>\n",
       "      <td>696518437233913856</td>\n",
       "      <td>Oh my god 10/10 for every little hot dog pupper</td>\n",
       "      <td>NaN</td>\n",
       "    </tr>\n",
       "  </tbody>\n",
       "</table>\n",
       "</div>"
      ],
      "text/plain": [
       "                tweet_id  \\\n",
       "375   828361771580813312   \n",
       "707   785515384317313025   \n",
       "1445  696518437233913856   \n",
       "\n",
       "                                                           text expanded_urls  \n",
       "375   Beebop and Doobert should start a band 12/10 would listen  NaN           \n",
       "707   Today, 10/10, should be National Dog Rates Day             NaN           \n",
       "1445  Oh my god 10/10 for every little hot dog pupper            NaN           "
      ]
     },
     "execution_count": 37,
     "metadata": {},
     "output_type": "execute_result"
    }
   ],
   "source": [
    "# display tweets that are missing urls, and are NOT replies and are NOT retweets\n",
    "mask = archive.expanded_urls.isna() & \\\n",
    "       archive.in_reply_to_status_id.isna() & \\\n",
    "       archive.retweeted_status_id.isna()\n",
    "archive[mask][['tweet_id', 'text', 'expanded_urls']]"
   ]
  },
  {
   "cell_type": "markdown",
   "metadata": {},
   "source": [
    "**NOTES:**\n",
    "\n",
    "> Of the 59 tweets that are missing data in **expanded_urls**, 56 are replies or retweets. The remaining 3 tweets (at indexes 375, 707 and 1445) with NaN in the **expanded_urls** column all have valid ratings but no urls within the **text** column.\n",
    ">\n",
    "> The question now is whether these tweets are part of the **predictions** or **json_data** tables."
   ]
  },
  {
   "cell_type": "code",
   "execution_count": 38,
   "metadata": {},
   "outputs": [
    {
     "data": {
      "text/plain": [
       "0"
      ]
     },
     "execution_count": 38,
     "metadata": {},
     "output_type": "execute_result"
    }
   ],
   "source": [
    "# are any of these tweets in the predictions table?\n",
    "tweet_set = [828361771580813312, 785515384317313025, 696518437233913856]\n",
    "find_tweet_id = predictions.tweet_id.isin(tweet_set)\n",
    "sum(find_tweet_id)"
   ]
  },
  {
   "cell_type": "code",
   "execution_count": 39,
   "metadata": {},
   "outputs": [
    {
     "data": {
      "text/html": [
       "<div>\n",
       "<style scoped>\n",
       "    .dataframe tbody tr th:only-of-type {\n",
       "        vertical-align: middle;\n",
       "    }\n",
       "\n",
       "    .dataframe tbody tr th {\n",
       "        vertical-align: top;\n",
       "    }\n",
       "\n",
       "    .dataframe thead th {\n",
       "        text-align: right;\n",
       "    }\n",
       "</style>\n",
       "<table border=\"1\" class=\"dataframe\">\n",
       "  <thead>\n",
       "    <tr style=\"text-align: right;\">\n",
       "      <th></th>\n",
       "      <th>tweet_id</th>\n",
       "      <th>retweet_count</th>\n",
       "      <th>favorite_count</th>\n",
       "    </tr>\n",
       "  </thead>\n",
       "  <tbody>\n",
       "    <tr>\n",
       "      <th>366</th>\n",
       "      <td>828361771580813312</td>\n",
       "      <td>184</td>\n",
       "      <td>2323</td>\n",
       "    </tr>\n",
       "    <tr>\n",
       "      <th>695</th>\n",
       "      <td>785515384317313025</td>\n",
       "      <td>1376</td>\n",
       "      <td>6527</td>\n",
       "    </tr>\n",
       "    <tr>\n",
       "      <th>1430</th>\n",
       "      <td>696518437233913856</td>\n",
       "      <td>1814</td>\n",
       "      <td>4086</td>\n",
       "    </tr>\n",
       "  </tbody>\n",
       "</table>\n",
       "</div>"
      ],
      "text/plain": [
       "                tweet_id  retweet_count  favorite_count\n",
       "366   828361771580813312  184            2323          \n",
       "695   785515384317313025  1376           6527          \n",
       "1430  696518437233913856  1814           4086          "
      ]
     },
     "execution_count": 39,
     "metadata": {},
     "output_type": "execute_result"
    }
   ],
   "source": [
    "# are any of these tweets in the json_data table?\n",
    "tweet_set = [828361771580813312, 785515384317313025, 696518437233913856]\n",
    "find_tweet_id = json_data.tweet_id.isin(tweet_set)\n",
    "json_data[find_tweet_id]"
   ]
  },
  {
   "cell_type": "markdown",
   "metadata": {},
   "source": [
    "**NOTES:**\n",
    "\n",
    "> It turns out that these 3 tweets are NOT in the **predictions** table, and even though they ARE in the **json_data** table, there was NO image url extracted from the JSON data.\n",
    "\n",
    "---\n",
    "#### `rating_numerator` and `rating_denominator`"
   ]
  },
  {
   "cell_type": "code",
   "execution_count": 40,
   "metadata": {},
   "outputs": [
    {
     "data": {
      "text/html": [
       "<div>\n",
       "<style scoped>\n",
       "    .dataframe tbody tr th:only-of-type {\n",
       "        vertical-align: middle;\n",
       "    }\n",
       "\n",
       "    .dataframe tbody tr th {\n",
       "        vertical-align: top;\n",
       "    }\n",
       "\n",
       "    .dataframe thead th {\n",
       "        text-align: right;\n",
       "    }\n",
       "</style>\n",
       "<table border=\"1\" class=\"dataframe\">\n",
       "  <thead>\n",
       "    <tr style=\"text-align: right;\">\n",
       "      <th></th>\n",
       "      <th>rating_numerator</th>\n",
       "      <th>rating_denominator</th>\n",
       "    </tr>\n",
       "  </thead>\n",
       "  <tbody>\n",
       "    <tr>\n",
       "      <th>count</th>\n",
       "      <td>2356.000000</td>\n",
       "      <td>2356.000000</td>\n",
       "    </tr>\n",
       "    <tr>\n",
       "      <th>mean</th>\n",
       "      <td>13.126486</td>\n",
       "      <td>10.455433</td>\n",
       "    </tr>\n",
       "    <tr>\n",
       "      <th>std</th>\n",
       "      <td>45.876648</td>\n",
       "      <td>6.745237</td>\n",
       "    </tr>\n",
       "    <tr>\n",
       "      <th>min</th>\n",
       "      <td>0.000000</td>\n",
       "      <td>0.000000</td>\n",
       "    </tr>\n",
       "    <tr>\n",
       "      <th>25%</th>\n",
       "      <td>10.000000</td>\n",
       "      <td>10.000000</td>\n",
       "    </tr>\n",
       "    <tr>\n",
       "      <th>50%</th>\n",
       "      <td>11.000000</td>\n",
       "      <td>10.000000</td>\n",
       "    </tr>\n",
       "    <tr>\n",
       "      <th>75%</th>\n",
       "      <td>12.000000</td>\n",
       "      <td>10.000000</td>\n",
       "    </tr>\n",
       "    <tr>\n",
       "      <th>max</th>\n",
       "      <td>1776.000000</td>\n",
       "      <td>170.000000</td>\n",
       "    </tr>\n",
       "  </tbody>\n",
       "</table>\n",
       "</div>"
      ],
      "text/plain": [
       "       rating_numerator  rating_denominator\n",
       "count  2356.000000       2356.000000       \n",
       "mean   13.126486         10.455433         \n",
       "std    45.876648         6.745237          \n",
       "min    0.000000          0.000000          \n",
       "25%    10.000000         10.000000         \n",
       "50%    11.000000         10.000000         \n",
       "75%    12.000000         10.000000         \n",
       "max    1776.000000       170.000000        "
      ]
     },
     "execution_count": 40,
     "metadata": {},
     "output_type": "execute_result"
    }
   ],
   "source": [
    "archive[['rating_numerator', 'rating_denominator']].describe()"
   ]
  },
  {
   "cell_type": "markdown",
   "metadata": {},
   "source": [
    "**NOTES:**\n",
    "> For **rating_numerator** and **rating_denominator**, the `describe()` method shows us some quality issues:\n",
    ">\n",
    "> - The max values are huge: 1776, 170.\n",
    "> - The minimum is 0 for both."
   ]
  },
  {
   "cell_type": "code",
   "execution_count": 41,
   "metadata": {},
   "outputs": [
    {
     "data": {
      "text/plain": [
       "170    1   \n",
       "150    1   \n",
       "130    1   \n",
       "120    1   \n",
       "110    1   \n",
       "90     1   \n",
       "80     2   \n",
       "70     1   \n",
       "50     3   \n",
       "40     1   \n",
       "20     2   \n",
       "16     1   \n",
       "15     1   \n",
       "11     3   \n",
       "10     2333\n",
       "7      1   \n",
       "2      1   \n",
       "0      1   \n",
       "Name: rating_denominator, dtype: int64"
      ]
     },
     "execution_count": 41,
     "metadata": {},
     "output_type": "execute_result"
    }
   ],
   "source": [
    "archive.rating_denominator.value_counts().sort_index(ascending = False)"
   ]
  },
  {
   "cell_type": "code",
   "execution_count": 42,
   "metadata": {},
   "outputs": [
    {
     "data": {
      "text/plain": [
       "23"
      ]
     },
     "execution_count": 42,
     "metadata": {},
     "output_type": "execute_result"
    }
   ],
   "source": [
    "sum(archive.rating_denominator != 10)"
   ]
  },
  {
   "cell_type": "markdown",
   "metadata": {},
   "source": [
    "**NOTES:**\n",
    "\n",
    "> It's interesting that many of the larger numbers are multiples of 10. When looking at some of those tweets we see that there is more than 1 dog in the photo. Ignoring the retweets and replies we have the following list."
   ]
  },
  {
   "cell_type": "code",
   "execution_count": 43,
   "metadata": {},
   "outputs": [
    {
     "data": {
      "text/html": [
       "<div>\n",
       "<style scoped>\n",
       "    .dataframe tbody tr th:only-of-type {\n",
       "        vertical-align: middle;\n",
       "    }\n",
       "\n",
       "    .dataframe tbody tr th {\n",
       "        vertical-align: top;\n",
       "    }\n",
       "\n",
       "    .dataframe thead th {\n",
       "        text-align: right;\n",
       "    }\n",
       "</style>\n",
       "<table border=\"1\" class=\"dataframe\">\n",
       "  <thead>\n",
       "    <tr style=\"text-align: right;\">\n",
       "      <th></th>\n",
       "      <th>text</th>\n",
       "      <th>tweet_id</th>\n",
       "      <th>rating_numerator</th>\n",
       "      <th>rating_denominator</th>\n",
       "    </tr>\n",
       "  </thead>\n",
       "  <tbody>\n",
       "    <tr>\n",
       "      <th>433</th>\n",
       "      <td>The floofs have been released I repeat the floofs have been released. 84/70 https://t.co/NIYC820tmd</td>\n",
       "      <td>820690176645140481</td>\n",
       "      <td>84</td>\n",
       "      <td>70</td>\n",
       "    </tr>\n",
       "    <tr>\n",
       "      <th>516</th>\n",
       "      <td>Meet Sam. She smiles 24/7 &amp;amp; secretly aspires to be a reindeer. \\nKeep Sam smiling by clicking and sharing this link:\\nhttps://t.co/98tB8y7y7t https://t.co/LouL5vdvxx</td>\n",
       "      <td>810984652412424192</td>\n",
       "      <td>24</td>\n",
       "      <td>7</td>\n",
       "    </tr>\n",
       "    <tr>\n",
       "      <th>902</th>\n",
       "      <td>Why does this never happen at my front door... 165/150 https://t.co/HmwrdfEfUE</td>\n",
       "      <td>758467244762497024</td>\n",
       "      <td>165</td>\n",
       "      <td>150</td>\n",
       "    </tr>\n",
       "    <tr>\n",
       "      <th>1068</th>\n",
       "      <td>After so many requests, this is Bretagne. She was the last surviving 9/11 search dog, and our second ever 14/10. RIP https://t.co/XAVDNDaVgQ</td>\n",
       "      <td>740373189193256964</td>\n",
       "      <td>9</td>\n",
       "      <td>11</td>\n",
       "    </tr>\n",
       "    <tr>\n",
       "      <th>1120</th>\n",
       "      <td>Say hello to this unbelievably well behaved squad of doggos. 204/170 would try to pet all at once https://t.co/yGQI3He3xv</td>\n",
       "      <td>731156023742988288</td>\n",
       "      <td>204</td>\n",
       "      <td>170</td>\n",
       "    </tr>\n",
       "    <tr>\n",
       "      <th>1165</th>\n",
       "      <td>Happy 4/20 from the squad! 13/10 for all https://t.co/eV1diwds8a</td>\n",
       "      <td>722974582966214656</td>\n",
       "      <td>4</td>\n",
       "      <td>20</td>\n",
       "    </tr>\n",
       "    <tr>\n",
       "      <th>1202</th>\n",
       "      <td>This is Bluebert. He just saw that both #FinalFur match ups are split 50/50. Amazed af. 11/10 https://t.co/Kky1DPG4iq</td>\n",
       "      <td>716439118184652801</td>\n",
       "      <td>50</td>\n",
       "      <td>50</td>\n",
       "    </tr>\n",
       "    <tr>\n",
       "      <th>1228</th>\n",
       "      <td>Happy Saturday here's 9 puppers on a bench. 99/90 good work everybody https://t.co/mpvaVxKmc1</td>\n",
       "      <td>713900603437621249</td>\n",
       "      <td>99</td>\n",
       "      <td>90</td>\n",
       "    </tr>\n",
       "    <tr>\n",
       "      <th>1254</th>\n",
       "      <td>Here's a brigade of puppers. All look very prepared for whatever happens next. 80/80 https://t.co/0eb7R1Om12</td>\n",
       "      <td>710658690886586372</td>\n",
       "      <td>80</td>\n",
       "      <td>80</td>\n",
       "    </tr>\n",
       "    <tr>\n",
       "      <th>1274</th>\n",
       "      <td>From left to right:\\nCletus, Jerome, Alejandro, Burp, &amp;amp; Titson\\nNone know where camera is. 45/50 would hug all at once https://t.co/sedre1ivTK</td>\n",
       "      <td>709198395643068416</td>\n",
       "      <td>45</td>\n",
       "      <td>50</td>\n",
       "    </tr>\n",
       "    <tr>\n",
       "      <th>1351</th>\n",
       "      <td>Here is a whole flock of puppers.  60/50 I'll take the lot https://t.co/9dpcw6MdWa</td>\n",
       "      <td>704054845121142784</td>\n",
       "      <td>60</td>\n",
       "      <td>50</td>\n",
       "    </tr>\n",
       "    <tr>\n",
       "      <th>1433</th>\n",
       "      <td>Happy Wednesday here's a bucket of pups. 44/40 would pet all at once https://t.co/HppvrYuamZ</td>\n",
       "      <td>697463031882764288</td>\n",
       "      <td>44</td>\n",
       "      <td>40</td>\n",
       "    </tr>\n",
       "    <tr>\n",
       "      <th>1635</th>\n",
       "      <td>Someone help the girl is being mugged. Several are distracting her while two steal her shoes. Clever puppers 121/110 https://t.co/1zfnTJLt55</td>\n",
       "      <td>684222868335505415</td>\n",
       "      <td>121</td>\n",
       "      <td>110</td>\n",
       "    </tr>\n",
       "    <tr>\n",
       "      <th>1662</th>\n",
       "      <td>This is Darrel. He just robbed a 7/11 and is in a high speed police chase. Was just spotted by the helicopter 10/10 https://t.co/7EsP8LmSp5</td>\n",
       "      <td>682962037429899265</td>\n",
       "      <td>7</td>\n",
       "      <td>11</td>\n",
       "    </tr>\n",
       "    <tr>\n",
       "      <th>1779</th>\n",
       "      <td>IT'S PUPPERGEDDON. Total of 144/120 ...I think https://t.co/ZanVtAtvIq</td>\n",
       "      <td>677716515794329600</td>\n",
       "      <td>144</td>\n",
       "      <td>120</td>\n",
       "    </tr>\n",
       "    <tr>\n",
       "      <th>1843</th>\n",
       "      <td>Here we have an entire platoon of puppers. Total score: 88/80 would pet all at once https://t.co/y93p6FLvVw</td>\n",
       "      <td>675853064436391936</td>\n",
       "      <td>88</td>\n",
       "      <td>80</td>\n",
       "    </tr>\n",
       "    <tr>\n",
       "      <th>2335</th>\n",
       "      <td>This is an Albanian 3 1/2 legged  Episcopalian. Loves well-polished hardwood flooring. Penis on the collar. 9/10 https://t.co/d9NcXFKwLv</td>\n",
       "      <td>666287406224695296</td>\n",
       "      <td>1</td>\n",
       "      <td>2</td>\n",
       "    </tr>\n",
       "  </tbody>\n",
       "</table>\n",
       "</div>"
      ],
      "text/plain": [
       "                                                                                                                                                                           text  \\\n",
       "433   The floofs have been released I repeat the floofs have been released. 84/70 https://t.co/NIYC820tmd                                                                         \n",
       "516   Meet Sam. She smiles 24/7 &amp; secretly aspires to be a reindeer. \\nKeep Sam smiling by clicking and sharing this link:\\nhttps://t.co/98tB8y7y7t https://t.co/LouL5vdvxx   \n",
       "902   Why does this never happen at my front door... 165/150 https://t.co/HmwrdfEfUE                                                                                              \n",
       "1068  After so many requests, this is Bretagne. She was the last surviving 9/11 search dog, and our second ever 14/10. RIP https://t.co/XAVDNDaVgQ                                \n",
       "1120  Say hello to this unbelievably well behaved squad of doggos. 204/170 would try to pet all at once https://t.co/yGQI3He3xv                                                   \n",
       "1165  Happy 4/20 from the squad! 13/10 for all https://t.co/eV1diwds8a                                                                                                            \n",
       "1202  This is Bluebert. He just saw that both #FinalFur match ups are split 50/50. Amazed af. 11/10 https://t.co/Kky1DPG4iq                                                       \n",
       "1228  Happy Saturday here's 9 puppers on a bench. 99/90 good work everybody https://t.co/mpvaVxKmc1                                                                               \n",
       "1254  Here's a brigade of puppers. All look very prepared for whatever happens next. 80/80 https://t.co/0eb7R1Om12                                                                \n",
       "1274  From left to right:\\nCletus, Jerome, Alejandro, Burp, &amp; Titson\\nNone know where camera is. 45/50 would hug all at once https://t.co/sedre1ivTK                          \n",
       "1351  Here is a whole flock of puppers.  60/50 I'll take the lot https://t.co/9dpcw6MdWa                                                                                          \n",
       "1433  Happy Wednesday here's a bucket of pups. 44/40 would pet all at once https://t.co/HppvrYuamZ                                                                                \n",
       "1635  Someone help the girl is being mugged. Several are distracting her while two steal her shoes. Clever puppers 121/110 https://t.co/1zfnTJLt55                                \n",
       "1662  This is Darrel. He just robbed a 7/11 and is in a high speed police chase. Was just spotted by the helicopter 10/10 https://t.co/7EsP8LmSp5                                 \n",
       "1779  IT'S PUPPERGEDDON. Total of 144/120 ...I think https://t.co/ZanVtAtvIq                                                                                                      \n",
       "1843  Here we have an entire platoon of puppers. Total score: 88/80 would pet all at once https://t.co/y93p6FLvVw                                                                 \n",
       "2335  This is an Albanian 3 1/2 legged  Episcopalian. Loves well-polished hardwood flooring. Penis on the collar. 9/10 https://t.co/d9NcXFKwLv                                    \n",
       "\n",
       "                tweet_id  rating_numerator  rating_denominator  \n",
       "433   820690176645140481  84                70                  \n",
       "516   810984652412424192  24                7                   \n",
       "902   758467244762497024  165               150                 \n",
       "1068  740373189193256964  9                 11                  \n",
       "1120  731156023742988288  204               170                 \n",
       "1165  722974582966214656  4                 20                  \n",
       "1202  716439118184652801  50                50                  \n",
       "1228  713900603437621249  99                90                  \n",
       "1254  710658690886586372  80                80                  \n",
       "1274  709198395643068416  45                50                  \n",
       "1351  704054845121142784  60                50                  \n",
       "1433  697463031882764288  44                40                  \n",
       "1635  684222868335505415  121               110                 \n",
       "1662  682962037429899265  7                 11                  \n",
       "1779  677716515794329600  144               120                 \n",
       "1843  675853064436391936  88                80                  \n",
       "2335  666287406224695296  1                 2                   "
      ]
     },
     "execution_count": 43,
     "metadata": {},
     "output_type": "execute_result"
    }
   ],
   "source": [
    "# display tweets that do NOT have denominator of 10,\n",
    "# and are NOT replies and are NOT retweets\n",
    "mask_find = (archive.rating_denominator != 10) & \\\n",
    "            archive.in_reply_to_status_id.isna() & \\\n",
    "            archive.retweeted_status_id.isna()\n",
    "\n",
    "mask_cols = ['text', 'tweet_id', 'rating_numerator', 'rating_denominator']\n",
    "archive[mask_find][mask_cols]"
   ]
  },
  {
   "cell_type": "code",
   "execution_count": 44,
   "metadata": {},
   "outputs": [
    {
     "data": {
      "text/plain": [
       "17"
      ]
     },
     "execution_count": 44,
     "metadata": {},
     "output_type": "execute_result"
    }
   ],
   "source": [
    "sum(mask_find)"
   ]
  },
  {
   "cell_type": "markdown",
   "metadata": {},
   "source": [
    "**NOTES:**\n",
    "\n",
    "> Ignoring the replies and retweets, there are 17 tweets with denominators that aren't 10.\n",
    ">\n",
    "> Many of these which are multiples of 10 are about multiple dogs, and the text indicates this, like \"floofs\", \"puppers\", \"squad\" and \"pups\". I'll just drop the tweets for multiples, but I'll reset the rating for single dogs.\n",
    "\n",
    " | index | tweet_id | original rating | multiple? | revised rating | comment |\n",
    " | --- | --- | --- | --- | --- | --- |\n",
    " | 433  | - |  84/70 | yes | 12/10 | drop; multiple dogs |\n",
    " | 516  | - | 24/7 | no | None | drop; no rating |\n",
    " | 902  | - | 165/150 | yes | 11/10 | drop; multiple dogs |\n",
    " | 1068 | 740373189193256964 | 9/11 | no | 14/10 | **manual fix** |\n",
    " | 1120 | - |  204/170 | yes | 12/10 | drop; multiple dogs |\n",
    " | 1165 | - |  4/20 | yes | 13/10 | drop; multiple dogs |\n",
    " | 1202 | 716439118184652801 | 50/50 | no | 11/10 | **manual fix** |\n",
    " | 1228 | - |  99/90 | yes | 11/10 | drop; multiple dogs |\n",
    " | 1254 | - |  80/80 | yes | 10/10 | drop; multiple dogs |\n",
    " | 1274 | - |  45/50 | yes | 9/10 | drop; multiple dogs |\n",
    " | 1351 | - |  60/50 | yes | 12/20 | drop; multiple dogs |\n",
    " | 1433 | - |  44/40 | yes | 11/10 | drop; multiple dogs |\n",
    " | 1635 | - |  121/110 | yes | 11/10 | drop; multiple dogs |\n",
    " | 1662 | 682962037429899265 | 7/11 | no | 10/10 | **manual fix** |\n",
    " | 1779 | - |  144/120 | yes | 12/10 | drop; multiple dogs |\n",
    " | 1843 | - |  88/80 | yes | 11/10 | drop; multiple dogs |\n",
    " | 2335 | 666287406224695296 | 1/2 | no | 9/10 | **manual fix** |\n"
   ]
  },
  {
   "cell_type": "markdown",
   "metadata": {},
   "source": [
    "#### `rating_numerator`"
   ]
  },
  {
   "cell_type": "code",
   "execution_count": 45,
   "metadata": {},
   "outputs": [
    {
     "data": {
      "text/plain": [
       "1776    1  \n",
       "960     1  \n",
       "666     1  \n",
       "420     2  \n",
       "204     1  \n",
       "182     1  \n",
       "165     1  \n",
       "144     1  \n",
       "143     1  \n",
       "121     1  \n",
       "99      1  \n",
       "88      1  \n",
       "84      1  \n",
       "80      1  \n",
       "75      2  \n",
       "60      1  \n",
       "50      1  \n",
       "45      1  \n",
       "44      1  \n",
       "27      1  \n",
       "26      1  \n",
       "24      1  \n",
       "20      1  \n",
       "17      1  \n",
       "15      2  \n",
       "14      54 \n",
       "13      351\n",
       "12      558\n",
       "11      464\n",
       "10      461\n",
       "9       158\n",
       "8       102\n",
       "7       55 \n",
       "6       32 \n",
       "5       37 \n",
       "4       17 \n",
       "3       19 \n",
       "2       9  \n",
       "1       9  \n",
       "0       2  \n",
       "Name: rating_numerator, dtype: int64"
      ]
     },
     "execution_count": 45,
     "metadata": {},
     "output_type": "execute_result"
    }
   ],
   "source": [
    "archive.rating_numerator.value_counts().sort_index(ascending = False)"
   ]
  },
  {
   "cell_type": "code",
   "execution_count": 46,
   "metadata": {},
   "outputs": [
    {
     "data": {
      "text/plain": [
       "28"
      ]
     },
     "execution_count": 46,
     "metadata": {},
     "output_type": "execute_result"
    }
   ],
   "source": [
    "sum(archive.rating_numerator >= 15)"
   ]
  },
  {
   "cell_type": "markdown",
   "metadata": {},
   "source": [
    "**NOTES:**\n",
    "\n",
    "> The output above shows ALL the **rating_numerator** values, showing a count of 28 tweets with numerator >= 15. Next, looking at ONLY those ratings with denominators = 10, the results are as follows:"
   ]
  },
  {
   "cell_type": "code",
   "execution_count": 47,
   "metadata": {},
   "outputs": [
    {
     "data": {
      "text/plain": [
       "1776    1  \n",
       "666     1  \n",
       "420     2  \n",
       "182     1  \n",
       "75      2  \n",
       "27      1  \n",
       "26      1  \n",
       "17      1  \n",
       "15      2  \n",
       "14      54 \n",
       "13      351\n",
       "12      558\n",
       "11      463\n",
       "10      461\n",
       "9       156\n",
       "8       102\n",
       "7       54 \n",
       "6       32 \n",
       "5       37 \n",
       "4       15 \n",
       "3       19 \n",
       "2       9  \n",
       "1       8  \n",
       "0       2  \n",
       "Name: rating_numerator, dtype: int64"
      ]
     },
     "execution_count": 47,
     "metadata": {},
     "output_type": "execute_result"
    }
   ],
   "source": [
    "df_tweets_denom_10 = archive[archive.rating_denominator == 10]\n",
    "df_tweets_denom_10.rating_numerator.value_counts().sort_index(ascending = False)"
   ]
  },
  {
   "cell_type": "code",
   "execution_count": 48,
   "metadata": {},
   "outputs": [
    {
     "data": {
      "text/plain": [
       "12"
      ]
     },
     "execution_count": 48,
     "metadata": {},
     "output_type": "execute_result"
    }
   ],
   "source": [
    "sum(df_tweets_denom_10.rating_numerator >= 15)"
   ]
  },
  {
   "cell_type": "markdown",
   "metadata": {},
   "source": [
    "**NOTES:**\n",
    "\n",
    "> Looking ONLY at tweets that have denominators = 10, there are 12 with numerators >= 15. I chose 15 as the lower boundary because it's got just 2 counts, while 14 has a count of 54. We can check the texts to see if the numerator makes sense.\n",
    ">\n",
    "> NOTE: The next queries ignore retweets and replies."
   ]
  },
  {
   "cell_type": "code",
   "execution_count": 49,
   "metadata": {},
   "outputs": [
    {
     "data": {
      "text/html": [
       "<div>\n",
       "<style scoped>\n",
       "    .dataframe tbody tr th:only-of-type {\n",
       "        vertical-align: middle;\n",
       "    }\n",
       "\n",
       "    .dataframe tbody tr th {\n",
       "        vertical-align: top;\n",
       "    }\n",
       "\n",
       "    .dataframe thead th {\n",
       "        text-align: right;\n",
       "    }\n",
       "</style>\n",
       "<table border=\"1\" class=\"dataframe\">\n",
       "  <thead>\n",
       "    <tr style=\"text-align: right;\">\n",
       "      <th></th>\n",
       "      <th>text</th>\n",
       "      <th>tweet_id</th>\n",
       "      <th>rating_numerator</th>\n",
       "      <th>rating_denominator</th>\n",
       "    </tr>\n",
       "  </thead>\n",
       "  <tbody>\n",
       "    <tr>\n",
       "      <th>695</th>\n",
       "      <td>This is Logan, the Chow who lived. He solemnly swears he's up to lots of good. H*ckin magical af 9.75/10 https://t.co/yBO5wuqaPS</td>\n",
       "      <td>786709082849828864</td>\n",
       "      <td>75</td>\n",
       "      <td>10</td>\n",
       "    </tr>\n",
       "    <tr>\n",
       "      <th>763</th>\n",
       "      <td>This is Sophie. She's a Jubilant Bush Pupper. Super h*ckin rare. Appears at random just to smile at the locals. 11.27/10 would smile back https://t.co/QFaUiIHxHq</td>\n",
       "      <td>778027034220126208</td>\n",
       "      <td>27</td>\n",
       "      <td>10</td>\n",
       "    </tr>\n",
       "    <tr>\n",
       "      <th>979</th>\n",
       "      <td>This is Atticus. He's quite simply America af. 1776/10 https://t.co/GRXwMxLBkh</td>\n",
       "      <td>749981277374128128</td>\n",
       "      <td>1776</td>\n",
       "      <td>10</td>\n",
       "    </tr>\n",
       "    <tr>\n",
       "      <th>1712</th>\n",
       "      <td>Here we have uncovered an entire battalion of holiday puppers. Average of 11.26/10 https://t.co/eNm2S6p9BD</td>\n",
       "      <td>680494726643068929</td>\n",
       "      <td>26</td>\n",
       "      <td>10</td>\n",
       "    </tr>\n",
       "    <tr>\n",
       "      <th>2074</th>\n",
       "      <td>After so many requests... here you go.\\n\\nGood dogg. 420/10 https://t.co/yfAAo1gdeY</td>\n",
       "      <td>670842764863651840</td>\n",
       "      <td>420</td>\n",
       "      <td>10</td>\n",
       "    </tr>\n",
       "  </tbody>\n",
       "</table>\n",
       "</div>"
      ],
      "text/plain": [
       "                                                                                                                                                                   text  \\\n",
       "695   This is Logan, the Chow who lived. He solemnly swears he's up to lots of good. H*ckin magical af 9.75/10 https://t.co/yBO5wuqaPS                                    \n",
       "763   This is Sophie. She's a Jubilant Bush Pupper. Super h*ckin rare. Appears at random just to smile at the locals. 11.27/10 would smile back https://t.co/QFaUiIHxHq   \n",
       "979   This is Atticus. He's quite simply America af. 1776/10 https://t.co/GRXwMxLBkh                                                                                      \n",
       "1712  Here we have uncovered an entire battalion of holiday puppers. Average of 11.26/10 https://t.co/eNm2S6p9BD                                                          \n",
       "2074  After so many requests... here you go.\\n\\nGood dogg. 420/10 https://t.co/yfAAo1gdeY                                                                                 \n",
       "\n",
       "                tweet_id  rating_numerator  rating_denominator  \n",
       "695   786709082849828864  75                10                  \n",
       "763   778027034220126208  27                10                  \n",
       "979   749981277374128128  1776              10                  \n",
       "1712  680494726643068929  26                10                  \n",
       "2074  670842764863651840  420               10                  "
      ]
     },
     "execution_count": 49,
     "metadata": {},
     "output_type": "execute_result"
    }
   ],
   "source": [
    "# display tweets with numerator >= 15 that DO have denominator of 10,\n",
    "# and are NOT replies and are NOT retweets\n",
    "mask_find = (archive.rating_denominator == 10) & \\\n",
    "            (archive.rating_numerator >= 15) & \\\n",
    "            archive.in_reply_to_status_id.isna() & \\\n",
    "            archive.retweeted_status_id.isna()\n",
    "\n",
    "mask_cols = ['text', 'tweet_id', 'rating_numerator', 'rating_denominator']\n",
    "archive[mask_find][mask_cols]"
   ]
  },
  {
   "cell_type": "markdown",
   "metadata": {},
   "source": [
    "**NOTES:**\n",
    "\n",
    "> Here we have 5 tweets (excluding retweets and replies) with denominator = 10 and numerator >= 15. Looking at the text column we see ratings with decimals or huge numbers.\n",
    ">\n",
    "> Since there are so few, and I don't want to impose a rating myself, I'll ignore these tweets and drop them."
   ]
  },
  {
   "cell_type": "code",
   "execution_count": 50,
   "metadata": {},
   "outputs": [
    {
     "data": {
      "text/html": [
       "<div>\n",
       "<style scoped>\n",
       "    .dataframe tbody tr th:only-of-type {\n",
       "        vertical-align: middle;\n",
       "    }\n",
       "\n",
       "    .dataframe tbody tr th {\n",
       "        vertical-align: top;\n",
       "    }\n",
       "\n",
       "    .dataframe thead th {\n",
       "        text-align: right;\n",
       "    }\n",
       "</style>\n",
       "<table border=\"1\" class=\"dataframe\">\n",
       "  <thead>\n",
       "    <tr style=\"text-align: right;\">\n",
       "      <th></th>\n",
       "      <th>text</th>\n",
       "      <th>tweet_id</th>\n",
       "      <th>rating_numerator</th>\n",
       "      <th>rating_denominator</th>\n",
       "    </tr>\n",
       "  </thead>\n",
       "  <tbody>\n",
       "    <tr>\n",
       "      <th>315</th>\n",
       "      <td>When you're so blinded by your systematic plagiarism that you forget what day it is. 0/10 https://t.co/YbEJPkg4Ag</td>\n",
       "      <td>835152434251116546</td>\n",
       "      <td>0</td>\n",
       "      <td>10</td>\n",
       "    </tr>\n",
       "  </tbody>\n",
       "</table>\n",
       "</div>"
      ],
      "text/plain": [
       "                                                                                                                  text  \\\n",
       "315  When you're so blinded by your systematic plagiarism that you forget what day it is. 0/10 https://t.co/YbEJPkg4Ag   \n",
       "\n",
       "               tweet_id  rating_numerator  rating_denominator  \n",
       "315  835152434251116546  0                 10                  "
      ]
     },
     "execution_count": 50,
     "metadata": {},
     "output_type": "execute_result"
    }
   ],
   "source": [
    "# display tweets with numerator = 0 that DO have denominator of 10,\n",
    "# and are NOT replies and are NOT retweets\n",
    "mask_find = (archive.rating_denominator == 10) & \\\n",
    "            (archive.rating_numerator == 0) & \\\n",
    "            archive.in_reply_to_status_id.isna() & \\\n",
    "            archive.retweeted_status_id.isna()\n",
    "\n",
    "mask_cols = ['text', 'tweet_id', 'rating_numerator', 'rating_denominator']\n",
    "archive[mask_find][mask_cols]"
   ]
  },
  {
   "cell_type": "markdown",
   "metadata": {},
   "source": [
    "> And lastly, here is a tweet with numerator (rating) of '0'. It looks legit!"
   ]
  },
  {
   "cell_type": "markdown",
   "metadata": {},
   "source": [
    "#### `source`"
   ]
  },
  {
   "cell_type": "code",
   "execution_count": 51,
   "metadata": {},
   "outputs": [
    {
     "data": {
      "text/plain": [
       "<a href=\"http://twitter.com/download/iphone\" rel=\"nofollow\">Twitter for iPhone</a>     2221\n",
       "<a href=\"http://vine.co\" rel=\"nofollow\">Vine - Make a Scene</a>                        91  \n",
       "<a href=\"http://twitter.com\" rel=\"nofollow\">Twitter Web Client</a>                     33  \n",
       "<a href=\"https://about.twitter.com/products/tweetdeck\" rel=\"nofollow\">TweetDeck</a>    11  \n",
       "Name: source, dtype: int64"
      ]
     },
     "execution_count": 51,
     "metadata": {},
     "output_type": "execute_result"
    }
   ],
   "source": [
    "archive.source.value_counts()"
   ]
  },
  {
   "cell_type": "markdown",
   "metadata": {},
   "source": [
    "**NOTES:**\n",
    "> There are only 4 types of sources, and they can be simplified by using the display string portion just before the final \"<\\a>\":\n",
    " - Twitter for iPhone\n",
    " - Vine - Make a Scene\n",
    " - Twitter Web Client\n",
    " - TweetDeck"
   ]
  },
  {
   "cell_type": "markdown",
   "metadata": {},
   "source": [
    "#### `doggo`, `floofer`, `pupper`, and `puppo`"
   ]
  },
  {
   "cell_type": "code",
   "execution_count": 52,
   "metadata": {},
   "outputs": [
    {
     "data": {
      "text/plain": [
       "None     2259\n",
       "doggo    97  \n",
       "Name: doggo, dtype: int64"
      ]
     },
     "execution_count": 52,
     "metadata": {},
     "output_type": "execute_result"
    }
   ],
   "source": [
    "archive.doggo.value_counts()"
   ]
  },
  {
   "cell_type": "code",
   "execution_count": 53,
   "metadata": {},
   "outputs": [
    {
     "data": {
      "text/plain": [
       "None       2346\n",
       "floofer    10  \n",
       "Name: floofer, dtype: int64"
      ]
     },
     "execution_count": 53,
     "metadata": {},
     "output_type": "execute_result"
    }
   ],
   "source": [
    "archive.floofer.value_counts()"
   ]
  },
  {
   "cell_type": "code",
   "execution_count": 54,
   "metadata": {},
   "outputs": [
    {
     "data": {
      "text/plain": [
       "None      2099\n",
       "pupper    257 \n",
       "Name: pupper, dtype: int64"
      ]
     },
     "execution_count": 54,
     "metadata": {},
     "output_type": "execute_result"
    }
   ],
   "source": [
    "archive.pupper.value_counts()"
   ]
  },
  {
   "cell_type": "code",
   "execution_count": 55,
   "metadata": {},
   "outputs": [
    {
     "data": {
      "text/plain": [
       "None     2326\n",
       "puppo    30  \n",
       "Name: puppo, dtype: int64"
      ]
     },
     "execution_count": 55,
     "metadata": {},
     "output_type": "execute_result"
    }
   ],
   "source": [
    "archive.puppo.value_counts()"
   ]
  },
  {
   "cell_type": "code",
   "execution_count": 56,
   "metadata": {},
   "outputs": [
    {
     "data": {
      "text/plain": [
       "46      Meet Grizzwald. He may be the floofiest floofer I ever did see. Lost eyes saving a schoolbus from a volcano erpuption. 13/10 heroic as h*ck https://t.co/rf661IFEYP \n",
       "200     At first I thought this was a shy doggo, but it's actually a Rare Canadian Floofer Owl. Amateurs would confuse the two. 11/10 only send dogs https://t.co/TXdT3tmuYk\n",
       "582     This is Doc. He takes time out of every day to worship our plant overlords. 12/10 quite the floofer https://t.co/azMneS6Ly5                                         \n",
       "774     Atlas rolled around in some chalk and now he's a magical rainbow floofer. 13/10 please never take a bath https://t.co/nzqTNw0744                                    \n",
       "984     This is Blu. He's a wild bush Floofer. I wish anything made me as happy as bushes make Blu. 12/10 would frolic with https://t.co/HHUAnBb6QB                         \n",
       "1022    Here's a golden floofer helping with the groceries. Bed got in way. Still 11/10 helpful af (vid by @categoen) https://t.co/6ZRoZUWFmd                               \n",
       "1091    Just wanted to share this super rare Rainbow Floofer in case you guys haven't seen it yet. 13/10 colorful af https://t.co/CaG9MzD3WT                                \n",
       "1110    This is Moose. He's a Polynesian Floofer. Dapper af. 10/10 would pet diligently https://t.co/mVfqRdppTL                                                             \n",
       "1534    Here we are witnessing a rare High Stepping Alaskan Floofer. 12/10 dangerously petable (vid by @TheMrsNux) https://t.co/K4s9IJh2jm                                  \n",
       "1614    Say hello to Petrick. He's an Altostratus Floofer. Just had a run in with a trash bag. Groovy checkered floor. 11/10 https://t.co/rwW7z1JAOF                        \n",
       "Name: text, dtype: object"
      ]
     },
     "execution_count": 56,
     "metadata": {},
     "output_type": "execute_result"
    }
   ],
   "source": [
    "archive[archive.floofer == 'floofer'].text"
   ]
  },
  {
   "cell_type": "markdown",
   "metadata": {},
   "source": [
    "**NOTES:**\n",
    "> Using the floofer category as an example, it looks like there are a few ways that this type is spelled: \"floofer\", \"floofiest\", and \"Floofer\".  \n",
    "The other dog stage types may be similar in the variety of spelling."
   ]
  },
  {
   "cell_type": "markdown",
   "metadata": {},
   "source": [
    "---\n",
    "<a id='assess_predictions'></a>\n",
    "### `predictions`"
   ]
  },
  {
   "cell_type": "code",
   "execution_count": 57,
   "metadata": {},
   "outputs": [
    {
     "name": "stdout",
     "output_type": "stream",
     "text": [
      "<class 'pandas.core.frame.DataFrame'>\n",
      "RangeIndex: 2075 entries, 0 to 2074\n",
      "Data columns (total 12 columns):\n",
      "tweet_id    2075 non-null int64\n",
      "jpg_url     2075 non-null object\n",
      "img_num     2075 non-null int64\n",
      "p1          2075 non-null object\n",
      "p1_conf     2075 non-null float64\n",
      "p1_dog      2075 non-null bool\n",
      "p2          2075 non-null object\n",
      "p2_conf     2075 non-null float64\n",
      "p2_dog      2075 non-null bool\n",
      "p3          2075 non-null object\n",
      "p3_conf     2075 non-null float64\n",
      "p3_dog      2075 non-null bool\n",
      "dtypes: bool(3), float64(3), int64(2), object(4)\n",
      "memory usage: 152.1+ KB\n"
     ]
    }
   ],
   "source": [
    "predictions.info()"
   ]
  },
  {
   "cell_type": "code",
   "execution_count": 58,
   "metadata": {},
   "outputs": [
    {
     "data": {
      "text/html": [
       "<div>\n",
       "<style scoped>\n",
       "    .dataframe tbody tr th:only-of-type {\n",
       "        vertical-align: middle;\n",
       "    }\n",
       "\n",
       "    .dataframe tbody tr th {\n",
       "        vertical-align: top;\n",
       "    }\n",
       "\n",
       "    .dataframe thead th {\n",
       "        text-align: right;\n",
       "    }\n",
       "</style>\n",
       "<table border=\"1\" class=\"dataframe\">\n",
       "  <thead>\n",
       "    <tr style=\"text-align: right;\">\n",
       "      <th></th>\n",
       "      <th>tweet_id</th>\n",
       "      <th>jpg_url</th>\n",
       "      <th>img_num</th>\n",
       "      <th>p1</th>\n",
       "      <th>p1_conf</th>\n",
       "      <th>p1_dog</th>\n",
       "      <th>p2</th>\n",
       "      <th>p2_conf</th>\n",
       "      <th>p2_dog</th>\n",
       "      <th>p3</th>\n",
       "      <th>p3_conf</th>\n",
       "      <th>p3_dog</th>\n",
       "    </tr>\n",
       "  </thead>\n",
       "  <tbody>\n",
       "    <tr>\n",
       "      <th>0</th>\n",
       "      <td>666020888022790149</td>\n",
       "      <td>https://pbs.twimg.com/media/CT4udn0WwAA0aMy.jpg</td>\n",
       "      <td>1</td>\n",
       "      <td>Welsh_springer_spaniel</td>\n",
       "      <td>0.465074</td>\n",
       "      <td>True</td>\n",
       "      <td>collie</td>\n",
       "      <td>0.156665</td>\n",
       "      <td>True</td>\n",
       "      <td>Shetland_sheepdog</td>\n",
       "      <td>0.061428</td>\n",
       "      <td>True</td>\n",
       "    </tr>\n",
       "    <tr>\n",
       "      <th>1</th>\n",
       "      <td>666029285002620928</td>\n",
       "      <td>https://pbs.twimg.com/media/CT42GRgUYAA5iDo.jpg</td>\n",
       "      <td>1</td>\n",
       "      <td>redbone</td>\n",
       "      <td>0.506826</td>\n",
       "      <td>True</td>\n",
       "      <td>miniature_pinscher</td>\n",
       "      <td>0.074192</td>\n",
       "      <td>True</td>\n",
       "      <td>Rhodesian_ridgeback</td>\n",
       "      <td>0.072010</td>\n",
       "      <td>True</td>\n",
       "    </tr>\n",
       "    <tr>\n",
       "      <th>2</th>\n",
       "      <td>666033412701032449</td>\n",
       "      <td>https://pbs.twimg.com/media/CT4521TWwAEvMyu.jpg</td>\n",
       "      <td>1</td>\n",
       "      <td>German_shepherd</td>\n",
       "      <td>0.596461</td>\n",
       "      <td>True</td>\n",
       "      <td>malinois</td>\n",
       "      <td>0.138584</td>\n",
       "      <td>True</td>\n",
       "      <td>bloodhound</td>\n",
       "      <td>0.116197</td>\n",
       "      <td>True</td>\n",
       "    </tr>\n",
       "    <tr>\n",
       "      <th>3</th>\n",
       "      <td>666044226329800704</td>\n",
       "      <td>https://pbs.twimg.com/media/CT5Dr8HUEAA-lEu.jpg</td>\n",
       "      <td>1</td>\n",
       "      <td>Rhodesian_ridgeback</td>\n",
       "      <td>0.408143</td>\n",
       "      <td>True</td>\n",
       "      <td>redbone</td>\n",
       "      <td>0.360687</td>\n",
       "      <td>True</td>\n",
       "      <td>miniature_pinscher</td>\n",
       "      <td>0.222752</td>\n",
       "      <td>True</td>\n",
       "    </tr>\n",
       "    <tr>\n",
       "      <th>4</th>\n",
       "      <td>666049248165822465</td>\n",
       "      <td>https://pbs.twimg.com/media/CT5IQmsXIAAKY4A.jpg</td>\n",
       "      <td>1</td>\n",
       "      <td>miniature_pinscher</td>\n",
       "      <td>0.560311</td>\n",
       "      <td>True</td>\n",
       "      <td>Rottweiler</td>\n",
       "      <td>0.243682</td>\n",
       "      <td>True</td>\n",
       "      <td>Doberman</td>\n",
       "      <td>0.154629</td>\n",
       "      <td>True</td>\n",
       "    </tr>\n",
       "    <tr>\n",
       "      <th>5</th>\n",
       "      <td>666050758794694657</td>\n",
       "      <td>https://pbs.twimg.com/media/CT5Jof1WUAEuVxN.jpg</td>\n",
       "      <td>1</td>\n",
       "      <td>Bernese_mountain_dog</td>\n",
       "      <td>0.651137</td>\n",
       "      <td>True</td>\n",
       "      <td>English_springer</td>\n",
       "      <td>0.263788</td>\n",
       "      <td>True</td>\n",
       "      <td>Greater_Swiss_Mountain_dog</td>\n",
       "      <td>0.016199</td>\n",
       "      <td>True</td>\n",
       "    </tr>\n",
       "    <tr>\n",
       "      <th>6</th>\n",
       "      <td>666051853826850816</td>\n",
       "      <td>https://pbs.twimg.com/media/CT5KoJ1WoAAJash.jpg</td>\n",
       "      <td>1</td>\n",
       "      <td>box_turtle</td>\n",
       "      <td>0.933012</td>\n",
       "      <td>False</td>\n",
       "      <td>mud_turtle</td>\n",
       "      <td>0.045885</td>\n",
       "      <td>False</td>\n",
       "      <td>terrapin</td>\n",
       "      <td>0.017885</td>\n",
       "      <td>False</td>\n",
       "    </tr>\n",
       "    <tr>\n",
       "      <th>7</th>\n",
       "      <td>666055525042405380</td>\n",
       "      <td>https://pbs.twimg.com/media/CT5N9tpXIAAifs1.jpg</td>\n",
       "      <td>1</td>\n",
       "      <td>chow</td>\n",
       "      <td>0.692517</td>\n",
       "      <td>True</td>\n",
       "      <td>Tibetan_mastiff</td>\n",
       "      <td>0.058279</td>\n",
       "      <td>True</td>\n",
       "      <td>fur_coat</td>\n",
       "      <td>0.054449</td>\n",
       "      <td>False</td>\n",
       "    </tr>\n",
       "    <tr>\n",
       "      <th>8</th>\n",
       "      <td>666057090499244032</td>\n",
       "      <td>https://pbs.twimg.com/media/CT5PY90WoAAQGLo.jpg</td>\n",
       "      <td>1</td>\n",
       "      <td>shopping_cart</td>\n",
       "      <td>0.962465</td>\n",
       "      <td>False</td>\n",
       "      <td>shopping_basket</td>\n",
       "      <td>0.014594</td>\n",
       "      <td>False</td>\n",
       "      <td>golden_retriever</td>\n",
       "      <td>0.007959</td>\n",
       "      <td>True</td>\n",
       "    </tr>\n",
       "    <tr>\n",
       "      <th>9</th>\n",
       "      <td>666058600524156928</td>\n",
       "      <td>https://pbs.twimg.com/media/CT5Qw94XAAA_2dP.jpg</td>\n",
       "      <td>1</td>\n",
       "      <td>miniature_poodle</td>\n",
       "      <td>0.201493</td>\n",
       "      <td>True</td>\n",
       "      <td>komondor</td>\n",
       "      <td>0.192305</td>\n",
       "      <td>True</td>\n",
       "      <td>soft-coated_wheaten_terrier</td>\n",
       "      <td>0.082086</td>\n",
       "      <td>True</td>\n",
       "    </tr>\n",
       "    <tr>\n",
       "      <th>10</th>\n",
       "      <td>666063827256086533</td>\n",
       "      <td>https://pbs.twimg.com/media/CT5Vg_wXIAAXfnj.jpg</td>\n",
       "      <td>1</td>\n",
       "      <td>golden_retriever</td>\n",
       "      <td>0.775930</td>\n",
       "      <td>True</td>\n",
       "      <td>Tibetan_mastiff</td>\n",
       "      <td>0.093718</td>\n",
       "      <td>True</td>\n",
       "      <td>Labrador_retriever</td>\n",
       "      <td>0.072427</td>\n",
       "      <td>True</td>\n",
       "    </tr>\n",
       "    <tr>\n",
       "      <th>11</th>\n",
       "      <td>666071193221509120</td>\n",
       "      <td>https://pbs.twimg.com/media/CT5cN_3WEAAlOoZ.jpg</td>\n",
       "      <td>1</td>\n",
       "      <td>Gordon_setter</td>\n",
       "      <td>0.503672</td>\n",
       "      <td>True</td>\n",
       "      <td>Yorkshire_terrier</td>\n",
       "      <td>0.174201</td>\n",
       "      <td>True</td>\n",
       "      <td>Pekinese</td>\n",
       "      <td>0.109454</td>\n",
       "      <td>True</td>\n",
       "    </tr>\n",
       "    <tr>\n",
       "      <th>12</th>\n",
       "      <td>666073100786774016</td>\n",
       "      <td>https://pbs.twimg.com/media/CT5d9DZXAAALcwe.jpg</td>\n",
       "      <td>1</td>\n",
       "      <td>Walker_hound</td>\n",
       "      <td>0.260857</td>\n",
       "      <td>True</td>\n",
       "      <td>English_foxhound</td>\n",
       "      <td>0.175382</td>\n",
       "      <td>True</td>\n",
       "      <td>Ibizan_hound</td>\n",
       "      <td>0.097471</td>\n",
       "      <td>True</td>\n",
       "    </tr>\n",
       "    <tr>\n",
       "      <th>13</th>\n",
       "      <td>666082916733198337</td>\n",
       "      <td>https://pbs.twimg.com/media/CT5m4VGWEAAtKc8.jpg</td>\n",
       "      <td>1</td>\n",
       "      <td>pug</td>\n",
       "      <td>0.489814</td>\n",
       "      <td>True</td>\n",
       "      <td>bull_mastiff</td>\n",
       "      <td>0.404722</td>\n",
       "      <td>True</td>\n",
       "      <td>French_bulldog</td>\n",
       "      <td>0.048960</td>\n",
       "      <td>True</td>\n",
       "    </tr>\n",
       "    <tr>\n",
       "      <th>14</th>\n",
       "      <td>666094000022159362</td>\n",
       "      <td>https://pbs.twimg.com/media/CT5w9gUW4AAsBNN.jpg</td>\n",
       "      <td>1</td>\n",
       "      <td>bloodhound</td>\n",
       "      <td>0.195217</td>\n",
       "      <td>True</td>\n",
       "      <td>German_shepherd</td>\n",
       "      <td>0.078260</td>\n",
       "      <td>True</td>\n",
       "      <td>malinois</td>\n",
       "      <td>0.075628</td>\n",
       "      <td>True</td>\n",
       "    </tr>\n",
       "    <tr>\n",
       "      <th>15</th>\n",
       "      <td>666099513787052032</td>\n",
       "      <td>https://pbs.twimg.com/media/CT51-JJUEAA6hV8.jpg</td>\n",
       "      <td>1</td>\n",
       "      <td>Lhasa</td>\n",
       "      <td>0.582330</td>\n",
       "      <td>True</td>\n",
       "      <td>Shih-Tzu</td>\n",
       "      <td>0.166192</td>\n",
       "      <td>True</td>\n",
       "      <td>Dandie_Dinmont</td>\n",
       "      <td>0.089688</td>\n",
       "      <td>True</td>\n",
       "    </tr>\n",
       "    <tr>\n",
       "      <th>16</th>\n",
       "      <td>666102155909144576</td>\n",
       "      <td>https://pbs.twimg.com/media/CT54YGiWUAEZnoK.jpg</td>\n",
       "      <td>1</td>\n",
       "      <td>English_setter</td>\n",
       "      <td>0.298617</td>\n",
       "      <td>True</td>\n",
       "      <td>Newfoundland</td>\n",
       "      <td>0.149842</td>\n",
       "      <td>True</td>\n",
       "      <td>borzoi</td>\n",
       "      <td>0.133649</td>\n",
       "      <td>True</td>\n",
       "    </tr>\n",
       "    <tr>\n",
       "      <th>17</th>\n",
       "      <td>666104133288665088</td>\n",
       "      <td>https://pbs.twimg.com/media/CT56LSZWoAAlJj2.jpg</td>\n",
       "      <td>1</td>\n",
       "      <td>hen</td>\n",
       "      <td>0.965932</td>\n",
       "      <td>False</td>\n",
       "      <td>cock</td>\n",
       "      <td>0.033919</td>\n",
       "      <td>False</td>\n",
       "      <td>partridge</td>\n",
       "      <td>0.000052</td>\n",
       "      <td>False</td>\n",
       "    </tr>\n",
       "    <tr>\n",
       "      <th>18</th>\n",
       "      <td>666268910803644416</td>\n",
       "      <td>https://pbs.twimg.com/media/CT8QCd1WEAADXws.jpg</td>\n",
       "      <td>1</td>\n",
       "      <td>desktop_computer</td>\n",
       "      <td>0.086502</td>\n",
       "      <td>False</td>\n",
       "      <td>desk</td>\n",
       "      <td>0.085547</td>\n",
       "      <td>False</td>\n",
       "      <td>bookcase</td>\n",
       "      <td>0.079480</td>\n",
       "      <td>False</td>\n",
       "    </tr>\n",
       "    <tr>\n",
       "      <th>19</th>\n",
       "      <td>666273097616637952</td>\n",
       "      <td>https://pbs.twimg.com/media/CT8T1mtUwAA3aqm.jpg</td>\n",
       "      <td>1</td>\n",
       "      <td>Italian_greyhound</td>\n",
       "      <td>0.176053</td>\n",
       "      <td>True</td>\n",
       "      <td>toy_terrier</td>\n",
       "      <td>0.111884</td>\n",
       "      <td>True</td>\n",
       "      <td>basenji</td>\n",
       "      <td>0.111152</td>\n",
       "      <td>True</td>\n",
       "    </tr>\n",
       "  </tbody>\n",
       "</table>\n",
       "</div>"
      ],
      "text/plain": [
       "              tweet_id                                          jpg_url  \\\n",
       "0   666020888022790149  https://pbs.twimg.com/media/CT4udn0WwAA0aMy.jpg   \n",
       "1   666029285002620928  https://pbs.twimg.com/media/CT42GRgUYAA5iDo.jpg   \n",
       "2   666033412701032449  https://pbs.twimg.com/media/CT4521TWwAEvMyu.jpg   \n",
       "3   666044226329800704  https://pbs.twimg.com/media/CT5Dr8HUEAA-lEu.jpg   \n",
       "4   666049248165822465  https://pbs.twimg.com/media/CT5IQmsXIAAKY4A.jpg   \n",
       "5   666050758794694657  https://pbs.twimg.com/media/CT5Jof1WUAEuVxN.jpg   \n",
       "6   666051853826850816  https://pbs.twimg.com/media/CT5KoJ1WoAAJash.jpg   \n",
       "7   666055525042405380  https://pbs.twimg.com/media/CT5N9tpXIAAifs1.jpg   \n",
       "8   666057090499244032  https://pbs.twimg.com/media/CT5PY90WoAAQGLo.jpg   \n",
       "9   666058600524156928  https://pbs.twimg.com/media/CT5Qw94XAAA_2dP.jpg   \n",
       "10  666063827256086533  https://pbs.twimg.com/media/CT5Vg_wXIAAXfnj.jpg   \n",
       "11  666071193221509120  https://pbs.twimg.com/media/CT5cN_3WEAAlOoZ.jpg   \n",
       "12  666073100786774016  https://pbs.twimg.com/media/CT5d9DZXAAALcwe.jpg   \n",
       "13  666082916733198337  https://pbs.twimg.com/media/CT5m4VGWEAAtKc8.jpg   \n",
       "14  666094000022159362  https://pbs.twimg.com/media/CT5w9gUW4AAsBNN.jpg   \n",
       "15  666099513787052032  https://pbs.twimg.com/media/CT51-JJUEAA6hV8.jpg   \n",
       "16  666102155909144576  https://pbs.twimg.com/media/CT54YGiWUAEZnoK.jpg   \n",
       "17  666104133288665088  https://pbs.twimg.com/media/CT56LSZWoAAlJj2.jpg   \n",
       "18  666268910803644416  https://pbs.twimg.com/media/CT8QCd1WEAADXws.jpg   \n",
       "19  666273097616637952  https://pbs.twimg.com/media/CT8T1mtUwAA3aqm.jpg   \n",
       "\n",
       "    img_num                      p1   p1_conf  p1_dog                  p2  \\\n",
       "0   1        Welsh_springer_spaniel  0.465074  True    collie               \n",
       "1   1        redbone                 0.506826  True    miniature_pinscher   \n",
       "2   1        German_shepherd         0.596461  True    malinois             \n",
       "3   1        Rhodesian_ridgeback     0.408143  True    redbone              \n",
       "4   1        miniature_pinscher      0.560311  True    Rottweiler           \n",
       "5   1        Bernese_mountain_dog    0.651137  True    English_springer     \n",
       "6   1        box_turtle              0.933012  False   mud_turtle           \n",
       "7   1        chow                    0.692517  True    Tibetan_mastiff      \n",
       "8   1        shopping_cart           0.962465  False   shopping_basket      \n",
       "9   1        miniature_poodle        0.201493  True    komondor             \n",
       "10  1        golden_retriever        0.775930  True    Tibetan_mastiff      \n",
       "11  1        Gordon_setter           0.503672  True    Yorkshire_terrier    \n",
       "12  1        Walker_hound            0.260857  True    English_foxhound     \n",
       "13  1        pug                     0.489814  True    bull_mastiff         \n",
       "14  1        bloodhound              0.195217  True    German_shepherd      \n",
       "15  1        Lhasa                   0.582330  True    Shih-Tzu             \n",
       "16  1        English_setter          0.298617  True    Newfoundland         \n",
       "17  1        hen                     0.965932  False   cock                 \n",
       "18  1        desktop_computer        0.086502  False   desk                 \n",
       "19  1        Italian_greyhound       0.176053  True    toy_terrier          \n",
       "\n",
       "     p2_conf  p2_dog                           p3   p3_conf  p3_dog  \n",
       "0   0.156665  True    Shetland_sheepdog            0.061428  True    \n",
       "1   0.074192  True    Rhodesian_ridgeback          0.072010  True    \n",
       "2   0.138584  True    bloodhound                   0.116197  True    \n",
       "3   0.360687  True    miniature_pinscher           0.222752  True    \n",
       "4   0.243682  True    Doberman                     0.154629  True    \n",
       "5   0.263788  True    Greater_Swiss_Mountain_dog   0.016199  True    \n",
       "6   0.045885  False   terrapin                     0.017885  False   \n",
       "7   0.058279  True    fur_coat                     0.054449  False   \n",
       "8   0.014594  False   golden_retriever             0.007959  True    \n",
       "9   0.192305  True    soft-coated_wheaten_terrier  0.082086  True    \n",
       "10  0.093718  True    Labrador_retriever           0.072427  True    \n",
       "11  0.174201  True    Pekinese                     0.109454  True    \n",
       "12  0.175382  True    Ibizan_hound                 0.097471  True    \n",
       "13  0.404722  True    French_bulldog               0.048960  True    \n",
       "14  0.078260  True    malinois                     0.075628  True    \n",
       "15  0.166192  True    Dandie_Dinmont               0.089688  True    \n",
       "16  0.149842  True    borzoi                       0.133649  True    \n",
       "17  0.033919  False   partridge                    0.000052  False   \n",
       "18  0.085547  False   bookcase                     0.079480  False   \n",
       "19  0.111884  True    basenji                      0.111152  True    "
      ]
     },
     "execution_count": 58,
     "metadata": {},
     "output_type": "execute_result"
    }
   ],
   "source": [
    "predictions.head(20)"
   ]
  },
  {
   "cell_type": "code",
   "execution_count": 59,
   "metadata": {},
   "outputs": [
    {
     "data": {
      "text/plain": [
       "True     1532\n",
       "False    543 \n",
       "Name: p1_dog, dtype: int64"
      ]
     },
     "execution_count": 59,
     "metadata": {},
     "output_type": "execute_result"
    }
   ],
   "source": [
    "predictions.p1_dog.value_counts()"
   ]
  },
  {
   "cell_type": "code",
   "execution_count": 60,
   "metadata": {},
   "outputs": [
    {
     "data": {
      "text/plain": [
       "True     1553\n",
       "False    522 \n",
       "Name: p2_dog, dtype: int64"
      ]
     },
     "execution_count": 60,
     "metadata": {},
     "output_type": "execute_result"
    }
   ],
   "source": [
    "predictions.p2_dog.value_counts()"
   ]
  },
  {
   "cell_type": "code",
   "execution_count": 61,
   "metadata": {},
   "outputs": [
    {
     "data": {
      "text/plain": [
       "True     1499\n",
       "False    576 \n",
       "Name: p3_dog, dtype: int64"
      ]
     },
     "execution_count": 61,
     "metadata": {},
     "output_type": "execute_result"
    }
   ],
   "source": [
    "predictions.p3_dog.value_counts()"
   ]
  },
  {
   "cell_type": "code",
   "execution_count": 62,
   "metadata": {},
   "outputs": [
    {
     "data": {
      "text/html": [
       "<div>\n",
       "<style scoped>\n",
       "    .dataframe tbody tr th:only-of-type {\n",
       "        vertical-align: middle;\n",
       "    }\n",
       "\n",
       "    .dataframe tbody tr th {\n",
       "        vertical-align: top;\n",
       "    }\n",
       "\n",
       "    .dataframe thead th {\n",
       "        text-align: right;\n",
       "    }\n",
       "</style>\n",
       "<table border=\"1\" class=\"dataframe\">\n",
       "  <thead>\n",
       "    <tr style=\"text-align: right;\">\n",
       "      <th></th>\n",
       "      <th>tweet_id</th>\n",
       "      <th>p1</th>\n",
       "      <th>p1_dog</th>\n",
       "      <th>p2</th>\n",
       "      <th>p2_dog</th>\n",
       "      <th>p3</th>\n",
       "      <th>p3_dog</th>\n",
       "    </tr>\n",
       "  </thead>\n",
       "  <tbody>\n",
       "    <tr>\n",
       "      <th>6</th>\n",
       "      <td>666051853826850816</td>\n",
       "      <td>box_turtle</td>\n",
       "      <td>False</td>\n",
       "      <td>mud_turtle</td>\n",
       "      <td>False</td>\n",
       "      <td>terrapin</td>\n",
       "      <td>False</td>\n",
       "    </tr>\n",
       "    <tr>\n",
       "      <th>17</th>\n",
       "      <td>666104133288665088</td>\n",
       "      <td>hen</td>\n",
       "      <td>False</td>\n",
       "      <td>cock</td>\n",
       "      <td>False</td>\n",
       "      <td>partridge</td>\n",
       "      <td>False</td>\n",
       "    </tr>\n",
       "    <tr>\n",
       "      <th>18</th>\n",
       "      <td>666268910803644416</td>\n",
       "      <td>desktop_computer</td>\n",
       "      <td>False</td>\n",
       "      <td>desk</td>\n",
       "      <td>False</td>\n",
       "      <td>bookcase</td>\n",
       "      <td>False</td>\n",
       "    </tr>\n",
       "    <tr>\n",
       "      <th>21</th>\n",
       "      <td>666293911632134144</td>\n",
       "      <td>three-toed_sloth</td>\n",
       "      <td>False</td>\n",
       "      <td>otter</td>\n",
       "      <td>False</td>\n",
       "      <td>great_grey_owl</td>\n",
       "      <td>False</td>\n",
       "    </tr>\n",
       "    <tr>\n",
       "      <th>25</th>\n",
       "      <td>666362758909284353</td>\n",
       "      <td>guinea_pig</td>\n",
       "      <td>False</td>\n",
       "      <td>skunk</td>\n",
       "      <td>False</td>\n",
       "      <td>hamster</td>\n",
       "      <td>False</td>\n",
       "    </tr>\n",
       "    <tr>\n",
       "      <th>29</th>\n",
       "      <td>666411507551481857</td>\n",
       "      <td>coho</td>\n",
       "      <td>False</td>\n",
       "      <td>barracouta</td>\n",
       "      <td>False</td>\n",
       "      <td>gar</td>\n",
       "      <td>False</td>\n",
       "    </tr>\n",
       "    <tr>\n",
       "      <th>45</th>\n",
       "      <td>666786068205871104</td>\n",
       "      <td>snail</td>\n",
       "      <td>False</td>\n",
       "      <td>slug</td>\n",
       "      <td>False</td>\n",
       "      <td>acorn</td>\n",
       "      <td>False</td>\n",
       "    </tr>\n",
       "    <tr>\n",
       "      <th>50</th>\n",
       "      <td>666837028449972224</td>\n",
       "      <td>triceratops</td>\n",
       "      <td>False</td>\n",
       "      <td>armadillo</td>\n",
       "      <td>False</td>\n",
       "      <td>common_iguana</td>\n",
       "      <td>False</td>\n",
       "    </tr>\n",
       "    <tr>\n",
       "      <th>51</th>\n",
       "      <td>666983947667116034</td>\n",
       "      <td>swab</td>\n",
       "      <td>False</td>\n",
       "      <td>chain_saw</td>\n",
       "      <td>False</td>\n",
       "      <td>wig</td>\n",
       "      <td>False</td>\n",
       "    </tr>\n",
       "    <tr>\n",
       "      <th>53</th>\n",
       "      <td>667012601033924608</td>\n",
       "      <td>hyena</td>\n",
       "      <td>False</td>\n",
       "      <td>African_hunting_dog</td>\n",
       "      <td>False</td>\n",
       "      <td>coyote</td>\n",
       "      <td>False</td>\n",
       "    </tr>\n",
       "    <tr>\n",
       "      <th>56</th>\n",
       "      <td>667065535570550784</td>\n",
       "      <td>jigsaw_puzzle</td>\n",
       "      <td>False</td>\n",
       "      <td>doormat</td>\n",
       "      <td>False</td>\n",
       "      <td>space_heater</td>\n",
       "      <td>False</td>\n",
       "    </tr>\n",
       "    <tr>\n",
       "      <th>69</th>\n",
       "      <td>667188689915760640</td>\n",
       "      <td>vacuum</td>\n",
       "      <td>False</td>\n",
       "      <td>swab</td>\n",
       "      <td>False</td>\n",
       "      <td>toilet_tissue</td>\n",
       "      <td>False</td>\n",
       "    </tr>\n",
       "    <tr>\n",
       "      <th>73</th>\n",
       "      <td>667369227918143488</td>\n",
       "      <td>teddy</td>\n",
       "      <td>False</td>\n",
       "      <td>bath_towel</td>\n",
       "      <td>False</td>\n",
       "      <td>Christmas_stocking</td>\n",
       "      <td>False</td>\n",
       "    </tr>\n",
       "    <tr>\n",
       "      <th>77</th>\n",
       "      <td>667437278097252352</td>\n",
       "      <td>porcupine</td>\n",
       "      <td>False</td>\n",
       "      <td>bath_towel</td>\n",
       "      <td>False</td>\n",
       "      <td>badger</td>\n",
       "      <td>False</td>\n",
       "    </tr>\n",
       "    <tr>\n",
       "      <th>78</th>\n",
       "      <td>667443425659232256</td>\n",
       "      <td>goose</td>\n",
       "      <td>False</td>\n",
       "      <td>drake</td>\n",
       "      <td>False</td>\n",
       "      <td>hen</td>\n",
       "      <td>False</td>\n",
       "    </tr>\n",
       "    <tr>\n",
       "      <th>93</th>\n",
       "      <td>667549055577362432</td>\n",
       "      <td>electric_fan</td>\n",
       "      <td>False</td>\n",
       "      <td>spotlight</td>\n",
       "      <td>False</td>\n",
       "      <td>lampshade</td>\n",
       "      <td>False</td>\n",
       "    </tr>\n",
       "    <tr>\n",
       "      <th>94</th>\n",
       "      <td>667550882905632768</td>\n",
       "      <td>web_site</td>\n",
       "      <td>False</td>\n",
       "      <td>dishwasher</td>\n",
       "      <td>False</td>\n",
       "      <td>oscilloscope</td>\n",
       "      <td>False</td>\n",
       "    </tr>\n",
       "    <tr>\n",
       "      <th>96</th>\n",
       "      <td>667724302356258817</td>\n",
       "      <td>ibex</td>\n",
       "      <td>False</td>\n",
       "      <td>bighorn</td>\n",
       "      <td>False</td>\n",
       "      <td>ram</td>\n",
       "      <td>False</td>\n",
       "    </tr>\n",
       "    <tr>\n",
       "      <th>98</th>\n",
       "      <td>667766675769573376</td>\n",
       "      <td>fire_engine</td>\n",
       "      <td>False</td>\n",
       "      <td>tow_truck</td>\n",
       "      <td>False</td>\n",
       "      <td>jeep</td>\n",
       "      <td>False</td>\n",
       "    </tr>\n",
       "    <tr>\n",
       "      <th>100</th>\n",
       "      <td>667782464991965184</td>\n",
       "      <td>lorikeet</td>\n",
       "      <td>False</td>\n",
       "      <td>hummingbird</td>\n",
       "      <td>False</td>\n",
       "      <td>African_grey</td>\n",
       "      <td>False</td>\n",
       "    </tr>\n",
       "  </tbody>\n",
       "</table>\n",
       "</div>"
      ],
      "text/plain": [
       "               tweet_id                p1  p1_dog                   p2  \\\n",
       "6    666051853826850816  box_turtle        False   mud_turtle            \n",
       "17   666104133288665088  hen               False   cock                  \n",
       "18   666268910803644416  desktop_computer  False   desk                  \n",
       "21   666293911632134144  three-toed_sloth  False   otter                 \n",
       "25   666362758909284353  guinea_pig        False   skunk                 \n",
       "29   666411507551481857  coho              False   barracouta            \n",
       "45   666786068205871104  snail             False   slug                  \n",
       "50   666837028449972224  triceratops       False   armadillo             \n",
       "51   666983947667116034  swab              False   chain_saw             \n",
       "53   667012601033924608  hyena             False   African_hunting_dog   \n",
       "56   667065535570550784  jigsaw_puzzle     False   doormat               \n",
       "69   667188689915760640  vacuum            False   swab                  \n",
       "73   667369227918143488  teddy             False   bath_towel            \n",
       "77   667437278097252352  porcupine         False   bath_towel            \n",
       "78   667443425659232256  goose             False   drake                 \n",
       "93   667549055577362432  electric_fan      False   spotlight             \n",
       "94   667550882905632768  web_site          False   dishwasher            \n",
       "96   667724302356258817  ibex              False   bighorn               \n",
       "98   667766675769573376  fire_engine       False   tow_truck             \n",
       "100  667782464991965184  lorikeet          False   hummingbird           \n",
       "\n",
       "     p2_dog                  p3  p3_dog  \n",
       "6    False   terrapin            False   \n",
       "17   False   partridge           False   \n",
       "18   False   bookcase            False   \n",
       "21   False   great_grey_owl      False   \n",
       "25   False   hamster             False   \n",
       "29   False   gar                 False   \n",
       "45   False   acorn               False   \n",
       "50   False   common_iguana       False   \n",
       "51   False   wig                 False   \n",
       "53   False   coyote              False   \n",
       "56   False   space_heater        False   \n",
       "69   False   toilet_tissue       False   \n",
       "73   False   Christmas_stocking  False   \n",
       "77   False   badger              False   \n",
       "78   False   hen                 False   \n",
       "93   False   lampshade           False   \n",
       "94   False   oscilloscope        False   \n",
       "96   False   ram                 False   \n",
       "98   False   jeep                False   \n",
       "100  False   African_grey        False   "
      ]
     },
     "execution_count": 62,
     "metadata": {},
     "output_type": "execute_result"
    }
   ],
   "source": [
    "# check out 20 of the entries that don't predict dogs\n",
    "predictions[~predictions.p1_dog & \\\n",
    "               ~predictions.p2_dog & \\\n",
    "               ~predictions.p3_dog][['tweet_id', 'p1', 'p1_dog',\n",
    "                                        'p2', 'p2_dog', 'p3', 'p3_dog']].head(20)"
   ]
  },
  {
   "cell_type": "code",
   "execution_count": 63,
   "metadata": {
    "scrolled": false
   },
   "outputs": [
    {
     "data": {
      "text/plain": [
       "324"
      ]
     },
     "execution_count": 63,
     "metadata": {},
     "output_type": "execute_result"
    }
   ],
   "source": [
    "sum(~predictions.p1_dog & \\\n",
    "    ~predictions.p2_dog & \\\n",
    "    ~predictions.p3_dog)"
   ]
  },
  {
   "cell_type": "markdown",
   "metadata": {},
   "source": [
    "**NOTES:**\n",
    "> In each of the prediction columns there are over 500 instances where the algorithm did not predict a dog breed from the image. When combined, there are 324 cases where there is NO valid dog breed from any of the three predictions.\n",
    ">\n",
    "> The best prediction for dog breed could be combined with the twitter archive table; this is essentially another variable pertaining to the dog on which the archive is based."
   ]
  },
  {
   "cell_type": "markdown",
   "metadata": {},
   "source": [
    "---\n",
    "<a id='assess_json_data'></a>\n",
    "### `json_data`"
   ]
  },
  {
   "cell_type": "code",
   "execution_count": 64,
   "metadata": {},
   "outputs": [
    {
     "name": "stdout",
     "output_type": "stream",
     "text": [
      "<class 'pandas.core.frame.DataFrame'>\n",
      "RangeIndex: 2340 entries, 0 to 2339\n",
      "Data columns (total 3 columns):\n",
      "tweet_id          2340 non-null int64\n",
      "retweet_count     2340 non-null int64\n",
      "favorite_count    2340 non-null int64\n",
      "dtypes: int64(3)\n",
      "memory usage: 55.0 KB\n"
     ]
    }
   ],
   "source": [
    "json_data.info()"
   ]
  },
  {
   "cell_type": "code",
   "execution_count": 65,
   "metadata": {},
   "outputs": [
    {
     "data": {
      "text/html": [
       "<div>\n",
       "<style scoped>\n",
       "    .dataframe tbody tr th:only-of-type {\n",
       "        vertical-align: middle;\n",
       "    }\n",
       "\n",
       "    .dataframe tbody tr th {\n",
       "        vertical-align: top;\n",
       "    }\n",
       "\n",
       "    .dataframe thead th {\n",
       "        text-align: right;\n",
       "    }\n",
       "</style>\n",
       "<table border=\"1\" class=\"dataframe\">\n",
       "  <thead>\n",
       "    <tr style=\"text-align: right;\">\n",
       "      <th></th>\n",
       "      <th>tweet_id</th>\n",
       "      <th>retweet_count</th>\n",
       "      <th>favorite_count</th>\n",
       "    </tr>\n",
       "  </thead>\n",
       "  <tbody>\n",
       "    <tr>\n",
       "      <th>0</th>\n",
       "      <td>892420643555336193</td>\n",
       "      <td>8330</td>\n",
       "      <td>38089</td>\n",
       "    </tr>\n",
       "    <tr>\n",
       "      <th>1</th>\n",
       "      <td>892177421306343426</td>\n",
       "      <td>6154</td>\n",
       "      <td>32679</td>\n",
       "    </tr>\n",
       "    <tr>\n",
       "      <th>2</th>\n",
       "      <td>891815181378084864</td>\n",
       "      <td>4073</td>\n",
       "      <td>24595</td>\n",
       "    </tr>\n",
       "    <tr>\n",
       "      <th>3</th>\n",
       "      <td>891689557279858688</td>\n",
       "      <td>8474</td>\n",
       "      <td>41449</td>\n",
       "    </tr>\n",
       "    <tr>\n",
       "      <th>4</th>\n",
       "      <td>891327558926688256</td>\n",
       "      <td>9167</td>\n",
       "      <td>39623</td>\n",
       "    </tr>\n",
       "    <tr>\n",
       "      <th>5</th>\n",
       "      <td>891087950875897856</td>\n",
       "      <td>3052</td>\n",
       "      <td>19898</td>\n",
       "    </tr>\n",
       "    <tr>\n",
       "      <th>6</th>\n",
       "      <td>890971913173991426</td>\n",
       "      <td>2024</td>\n",
       "      <td>11624</td>\n",
       "    </tr>\n",
       "    <tr>\n",
       "      <th>7</th>\n",
       "      <td>890729181411237888</td>\n",
       "      <td>18488</td>\n",
       "      <td>64265</td>\n",
       "    </tr>\n",
       "    <tr>\n",
       "      <th>8</th>\n",
       "      <td>890609185150312448</td>\n",
       "      <td>4190</td>\n",
       "      <td>27333</td>\n",
       "    </tr>\n",
       "    <tr>\n",
       "      <th>9</th>\n",
       "      <td>890240255349198849</td>\n",
       "      <td>7229</td>\n",
       "      <td>31363</td>\n",
       "    </tr>\n",
       "    <tr>\n",
       "      <th>10</th>\n",
       "      <td>890006608113172480</td>\n",
       "      <td>7186</td>\n",
       "      <td>30142</td>\n",
       "    </tr>\n",
       "    <tr>\n",
       "      <th>11</th>\n",
       "      <td>889880896479866881</td>\n",
       "      <td>4877</td>\n",
       "      <td>27316</td>\n",
       "    </tr>\n",
       "    <tr>\n",
       "      <th>12</th>\n",
       "      <td>889665388333682689</td>\n",
       "      <td>9856</td>\n",
       "      <td>47282</td>\n",
       "    </tr>\n",
       "    <tr>\n",
       "      <th>13</th>\n",
       "      <td>889638837579907072</td>\n",
       "      <td>4447</td>\n",
       "      <td>26686</td>\n",
       "    </tr>\n",
       "    <tr>\n",
       "      <th>14</th>\n",
       "      <td>889531135344209921</td>\n",
       "      <td>2202</td>\n",
       "      <td>14853</td>\n",
       "    </tr>\n",
       "    <tr>\n",
       "      <th>15</th>\n",
       "      <td>889278841981685760</td>\n",
       "      <td>5266</td>\n",
       "      <td>24813</td>\n",
       "    </tr>\n",
       "    <tr>\n",
       "      <th>16</th>\n",
       "      <td>888917238123831296</td>\n",
       "      <td>4407</td>\n",
       "      <td>28615</td>\n",
       "    </tr>\n",
       "    <tr>\n",
       "      <th>17</th>\n",
       "      <td>888804989199671297</td>\n",
       "      <td>4206</td>\n",
       "      <td>25117</td>\n",
       "    </tr>\n",
       "    <tr>\n",
       "      <th>18</th>\n",
       "      <td>888554962724278272</td>\n",
       "      <td>3481</td>\n",
       "      <td>19490</td>\n",
       "    </tr>\n",
       "    <tr>\n",
       "      <th>19</th>\n",
       "      <td>888078434458587136</td>\n",
       "      <td>3423</td>\n",
       "      <td>21380</td>\n",
       "    </tr>\n",
       "  </tbody>\n",
       "</table>\n",
       "</div>"
      ],
      "text/plain": [
       "              tweet_id  retweet_count  favorite_count\n",
       "0   892420643555336193  8330           38089         \n",
       "1   892177421306343426  6154           32679         \n",
       "2   891815181378084864  4073           24595         \n",
       "3   891689557279858688  8474           41449         \n",
       "4   891327558926688256  9167           39623         \n",
       "5   891087950875897856  3052           19898         \n",
       "6   890971913173991426  2024           11624         \n",
       "7   890729181411237888  18488          64265         \n",
       "8   890609185150312448  4190           27333         \n",
       "9   890240255349198849  7229           31363         \n",
       "10  890006608113172480  7186           30142         \n",
       "11  889880896479866881  4877           27316         \n",
       "12  889665388333682689  9856           47282         \n",
       "13  889638837579907072  4447           26686         \n",
       "14  889531135344209921  2202           14853         \n",
       "15  889278841981685760  5266           24813         \n",
       "16  888917238123831296  4407           28615         \n",
       "17  888804989199671297  4206           25117         \n",
       "18  888554962724278272  3481           19490         \n",
       "19  888078434458587136  3423           21380         "
      ]
     },
     "execution_count": 65,
     "metadata": {},
     "output_type": "execute_result"
    }
   ],
   "source": [
    "json_data.head(20)"
   ]
  },
  {
   "cell_type": "code",
   "execution_count": 66,
   "metadata": {},
   "outputs": [
    {
     "data": {
      "text/html": [
       "<div>\n",
       "<style scoped>\n",
       "    .dataframe tbody tr th:only-of-type {\n",
       "        vertical-align: middle;\n",
       "    }\n",
       "\n",
       "    .dataframe tbody tr th {\n",
       "        vertical-align: top;\n",
       "    }\n",
       "\n",
       "    .dataframe thead th {\n",
       "        text-align: right;\n",
       "    }\n",
       "</style>\n",
       "<table border=\"1\" class=\"dataframe\">\n",
       "  <thead>\n",
       "    <tr style=\"text-align: right;\">\n",
       "      <th></th>\n",
       "      <th>tweet_id</th>\n",
       "      <th>retweet_count</th>\n",
       "      <th>favorite_count</th>\n",
       "    </tr>\n",
       "  </thead>\n",
       "  <tbody>\n",
       "    <tr>\n",
       "      <th>count</th>\n",
       "      <td>2.340000e+03</td>\n",
       "      <td>2340.000000</td>\n",
       "      <td>2340.000000</td>\n",
       "    </tr>\n",
       "    <tr>\n",
       "      <th>mean</th>\n",
       "      <td>7.422176e+17</td>\n",
       "      <td>2934.637607</td>\n",
       "      <td>7976.021795</td>\n",
       "    </tr>\n",
       "    <tr>\n",
       "      <th>std</th>\n",
       "      <td>6.832564e+16</td>\n",
       "      <td>4943.049421</td>\n",
       "      <td>12350.111679</td>\n",
       "    </tr>\n",
       "    <tr>\n",
       "      <th>min</th>\n",
       "      <td>6.660209e+17</td>\n",
       "      <td>0.000000</td>\n",
       "      <td>0.000000</td>\n",
       "    </tr>\n",
       "    <tr>\n",
       "      <th>25%</th>\n",
       "      <td>6.783394e+17</td>\n",
       "      <td>590.000000</td>\n",
       "      <td>1377.500000</td>\n",
       "    </tr>\n",
       "    <tr>\n",
       "      <th>50%</th>\n",
       "      <td>7.186224e+17</td>\n",
       "      <td>1371.000000</td>\n",
       "      <td>3470.500000</td>\n",
       "    </tr>\n",
       "    <tr>\n",
       "      <th>75%</th>\n",
       "      <td>7.986954e+17</td>\n",
       "      <td>3420.750000</td>\n",
       "      <td>9766.250000</td>\n",
       "    </tr>\n",
       "    <tr>\n",
       "      <th>max</th>\n",
       "      <td>8.924206e+17</td>\n",
       "      <td>83795.000000</td>\n",
       "      <td>164524.000000</td>\n",
       "    </tr>\n",
       "  </tbody>\n",
       "</table>\n",
       "</div>"
      ],
      "text/plain": [
       "           tweet_id  retweet_count  favorite_count\n",
       "count  2.340000e+03  2340.000000    2340.000000   \n",
       "mean   7.422176e+17  2934.637607    7976.021795   \n",
       "std    6.832564e+16  4943.049421    12350.111679  \n",
       "min    6.660209e+17  0.000000       0.000000      \n",
       "25%    6.783394e+17  590.000000     1377.500000   \n",
       "50%    7.186224e+17  1371.000000    3470.500000   \n",
       "75%    7.986954e+17  3420.750000    9766.250000   \n",
       "max    8.924206e+17  83795.000000   164524.000000 "
      ]
     },
     "execution_count": 66,
     "metadata": {},
     "output_type": "execute_result"
    }
   ],
   "source": [
    "json_data.describe()"
   ]
  },
  {
   "cell_type": "markdown",
   "metadata": {},
   "source": [
    "<a id='clean'></a>\n",
    "\n",
    "---\n",
    "## Clean Data"
   ]
  },
  {
   "cell_type": "code",
   "execution_count": 67,
   "metadata": {
    "scrolled": false
   },
   "outputs": [],
   "source": [
    "# create copies of the dataframes for cleaning\n",
    "archive_clean = archive.copy()\n",
    "predictions_clean = predictions.copy()\n",
    "json_data_clean = json_data.copy()"
   ]
  },
  {
   "cell_type": "code",
   "execution_count": 68,
   "metadata": {},
   "outputs": [
    {
     "data": {
      "text/plain": [
       "2356"
      ]
     },
     "execution_count": 68,
     "metadata": {},
     "output_type": "execute_result"
    }
   ],
   "source": [
    "len_archive = archive_clean.shape[0]; len_archive"
   ]
  },
  {
   "cell_type": "markdown",
   "metadata": {},
   "source": [
    "<a id='clean_qa1'></a>\n",
    "### Quality `archive` #1.\n",
    "There are 181 retweets, and we’re only interested in “original tweets”.\n",
    "\n",
    "##### Define\n",
    "> Drop all rows containing retweets, where these columns will be non-null: `retweeted_status_id`, `retweeted_status_user_id` and `retweeted_status_timestamp`.\n",
    "\n",
    "##### Code"
   ]
  },
  {
   "cell_type": "code",
   "execution_count": 69,
   "metadata": {},
   "outputs": [
    {
     "name": "stdout",
     "output_type": "stream",
     "text": [
      "# of retweets:  181\n"
     ]
    }
   ],
   "source": [
    "print(\"# of retweets:  {}\".format(sum(archive_clean.retweeted_status_id.notnull())))"
   ]
  },
  {
   "cell_type": "code",
   "execution_count": 70,
   "metadata": {},
   "outputs": [],
   "source": [
    "archive_clean = archive_clean[archive_clean.retweeted_status_id.isna()]"
   ]
  },
  {
   "cell_type": "markdown",
   "metadata": {},
   "source": [
    "##### Test"
   ]
  },
  {
   "cell_type": "code",
   "execution_count": 71,
   "metadata": {},
   "outputs": [
    {
     "name": "stdout",
     "output_type": "stream",
     "text": [
      "<class 'pandas.core.frame.DataFrame'>\n",
      "Int64Index: 2175 entries, 0 to 2355\n",
      "Data columns (total 17 columns):\n",
      "tweet_id                      2175 non-null int64\n",
      "in_reply_to_status_id         78 non-null float64\n",
      "in_reply_to_user_id           78 non-null float64\n",
      "timestamp                     2175 non-null object\n",
      "source                        2175 non-null object\n",
      "text                          2175 non-null object\n",
      "retweeted_status_id           0 non-null float64\n",
      "retweeted_status_user_id      0 non-null float64\n",
      "retweeted_status_timestamp    0 non-null object\n",
      "expanded_urls                 2117 non-null object\n",
      "rating_numerator              2175 non-null int64\n",
      "rating_denominator            2175 non-null int64\n",
      "name                          2175 non-null object\n",
      "doggo                         2175 non-null object\n",
      "floofer                       2175 non-null object\n",
      "pupper                        2175 non-null object\n",
      "puppo                         2175 non-null object\n",
      "dtypes: float64(4), int64(3), object(10)\n",
      "memory usage: 305.9+ KB\n"
     ]
    }
   ],
   "source": [
    "archive_clean.info()"
   ]
  },
  {
   "cell_type": "code",
   "execution_count": 72,
   "metadata": {},
   "outputs": [
    {
     "name": "stdout",
     "output_type": "stream",
     "text": [
      "# of rows dropped:  181\n"
     ]
    }
   ],
   "source": [
    "# confirm the rows are dropped; compare with original table length\n",
    "print(\"# of rows dropped:  {}\".format(len_archive - archive_clean.shape[0]))\n",
    "# reset the variable for length of the archive\n",
    "len_archive = archive_clean.shape[0]"
   ]
  },
  {
   "cell_type": "markdown",
   "metadata": {},
   "source": [
    "---\n",
    "<a id='clean_qa2'></a>\n",
    "### Quality `archive` #2.\n",
    "There are 78 reply tweets; we’re only interested in “original tweets”.\n",
    "\n",
    "##### Define\n",
    "> Drop all rows that are replies, those that have non-null values in these columns: `in_reply_to_status_id` and `in_reply_to_user_id`.\n",
    "##### Code"
   ]
  },
  {
   "cell_type": "code",
   "execution_count": 73,
   "metadata": {},
   "outputs": [
    {
     "name": "stdout",
     "output_type": "stream",
     "text": [
      "# of replies:  78\n"
     ]
    }
   ],
   "source": [
    "print(\"# of replies:  {}\".format(sum(archive_clean.in_reply_to_status_id.notnull())))"
   ]
  },
  {
   "cell_type": "code",
   "execution_count": 74,
   "metadata": {},
   "outputs": [],
   "source": [
    "archive_clean = archive_clean[archive_clean.in_reply_to_status_id.isna()]"
   ]
  },
  {
   "cell_type": "markdown",
   "metadata": {},
   "source": [
    "##### Test"
   ]
  },
  {
   "cell_type": "code",
   "execution_count": 75,
   "metadata": {},
   "outputs": [
    {
     "name": "stdout",
     "output_type": "stream",
     "text": [
      "<class 'pandas.core.frame.DataFrame'>\n",
      "Int64Index: 2097 entries, 0 to 2355\n",
      "Data columns (total 17 columns):\n",
      "tweet_id                      2097 non-null int64\n",
      "in_reply_to_status_id         0 non-null float64\n",
      "in_reply_to_user_id           0 non-null float64\n",
      "timestamp                     2097 non-null object\n",
      "source                        2097 non-null object\n",
      "text                          2097 non-null object\n",
      "retweeted_status_id           0 non-null float64\n",
      "retweeted_status_user_id      0 non-null float64\n",
      "retweeted_status_timestamp    0 non-null object\n",
      "expanded_urls                 2094 non-null object\n",
      "rating_numerator              2097 non-null int64\n",
      "rating_denominator            2097 non-null int64\n",
      "name                          2097 non-null object\n",
      "doggo                         2097 non-null object\n",
      "floofer                       2097 non-null object\n",
      "pupper                        2097 non-null object\n",
      "puppo                         2097 non-null object\n",
      "dtypes: float64(4), int64(3), object(10)\n",
      "memory usage: 294.9+ KB\n"
     ]
    }
   ],
   "source": [
    "archive_clean.info()"
   ]
  },
  {
   "cell_type": "code",
   "execution_count": 76,
   "metadata": {},
   "outputs": [
    {
     "name": "stdout",
     "output_type": "stream",
     "text": [
      "# of rows dropped:  78\n"
     ]
    }
   ],
   "source": [
    "# confirm the rows are dropped; compare with previous table length\n",
    "print(\"# of rows dropped:  {}\".format(len_archive - archive_clean.shape[0]))\n",
    "# reset the variable for length of the archive\n",
    "len_archive = archive_clean.shape[0]"
   ]
  },
  {
   "cell_type": "markdown",
   "metadata": {},
   "source": [
    "---\n",
    "<a id='clean_ta2'></a>\n",
    "### Tidiness `archive` #2.\n",
    "All columns related to “retweets” will be empty (we're not interested in retweets).\n",
    "\n",
    "##### Define\n",
    "> Since we don't want retweets, we can drop all columns related to retweets: `retweeted_status_id`, `retweeted_status_user_id`, `retweeted_status_timestamp`.\n",
    "\n",
    "##### Code"
   ]
  },
  {
   "cell_type": "code",
   "execution_count": 77,
   "metadata": {},
   "outputs": [],
   "source": [
    "archive_clean = archive_clean.drop(['retweeted_status_id',\n",
    "                                    'retweeted_status_user_id',\n",
    "                                    'retweeted_status_timestamp'], axis = 1)"
   ]
  },
  {
   "cell_type": "markdown",
   "metadata": {},
   "source": [
    "##### Test"
   ]
  },
  {
   "cell_type": "code",
   "execution_count": 78,
   "metadata": {},
   "outputs": [
    {
     "data": {
      "text/plain": [
       "['tweet_id',\n",
       " 'in_reply_to_status_id',\n",
       " 'in_reply_to_user_id',\n",
       " 'timestamp',\n",
       " 'source',\n",
       " 'text',\n",
       " 'expanded_urls',\n",
       " 'rating_numerator',\n",
       " 'rating_denominator',\n",
       " 'name',\n",
       " 'doggo',\n",
       " 'floofer',\n",
       " 'pupper',\n",
       " 'puppo']"
      ]
     },
     "execution_count": 78,
     "metadata": {},
     "output_type": "execute_result"
    }
   ],
   "source": [
    "# Confirm all retweet related columns are gone\n",
    "list(archive_clean)"
   ]
  },
  {
   "cell_type": "markdown",
   "metadata": {},
   "source": [
    "---\n",
    "<a id='clean_ta3'></a>\n",
    "### Tidiness `archive` #3.\n",
    "All columns related to “replies” will be empty (we're not interested in replies).\n",
    "\n",
    "\n",
    "##### Define\n",
    "> Drop all columns related to replies: `in_reply_to_status_id` and `in_reply_to_user_id`.\n",
    "##### Code"
   ]
  },
  {
   "cell_type": "code",
   "execution_count": 79,
   "metadata": {},
   "outputs": [],
   "source": [
    "archive_clean = archive_clean.drop(['in_reply_to_status_id',\n",
    "                                    'in_reply_to_user_id'], axis = 1)"
   ]
  },
  {
   "cell_type": "markdown",
   "metadata": {},
   "source": [
    "##### Test"
   ]
  },
  {
   "cell_type": "code",
   "execution_count": 80,
   "metadata": {},
   "outputs": [
    {
     "data": {
      "text/plain": [
       "['tweet_id',\n",
       " 'timestamp',\n",
       " 'source',\n",
       " 'text',\n",
       " 'expanded_urls',\n",
       " 'rating_numerator',\n",
       " 'rating_denominator',\n",
       " 'name',\n",
       " 'doggo',\n",
       " 'floofer',\n",
       " 'pupper',\n",
       " 'puppo']"
      ]
     },
     "execution_count": 80,
     "metadata": {},
     "output_type": "execute_result"
    }
   ],
   "source": [
    "# Confirm all reply related columns are gone\n",
    "list(archive_clean)"
   ]
  },
  {
   "cell_type": "markdown",
   "metadata": {},
   "source": [
    "---\n",
    "<a id='clean_qa4'></a>\n",
    "### Quality `archive` #4.\n",
    "The *timestamp* column is in string format, it's the wrong data type.\n",
    "\n",
    "##### Define\n",
    "> Convert `timestamp` to datetime data type.\n",
    "##### Code"
   ]
  },
  {
   "cell_type": "code",
   "execution_count": 81,
   "metadata": {},
   "outputs": [],
   "source": [
    "archive_clean['timestamp'] = pd.to_datetime(archive_clean.timestamp)\n",
    "archive_clean['timestamp'] = archive_clean.timestamp.dt.floor('s')"
   ]
  },
  {
   "cell_type": "markdown",
   "metadata": {},
   "source": [
    "##### Test"
   ]
  },
  {
   "cell_type": "code",
   "execution_count": 82,
   "metadata": {},
   "outputs": [
    {
     "name": "stdout",
     "output_type": "stream",
     "text": [
      "<class 'pandas.core.frame.DataFrame'>\n",
      "Int64Index: 2097 entries, 0 to 2355\n",
      "Data columns (total 12 columns):\n",
      "tweet_id              2097 non-null int64\n",
      "timestamp             2097 non-null datetime64[ns, UTC]\n",
      "source                2097 non-null object\n",
      "text                  2097 non-null object\n",
      "expanded_urls         2094 non-null object\n",
      "rating_numerator      2097 non-null int64\n",
      "rating_denominator    2097 non-null int64\n",
      "name                  2097 non-null object\n",
      "doggo                 2097 non-null object\n",
      "floofer               2097 non-null object\n",
      "pupper                2097 non-null object\n",
      "puppo                 2097 non-null object\n",
      "dtypes: datetime64[ns, UTC](1), int64(3), object(8)\n",
      "memory usage: 213.0+ KB\n"
     ]
    }
   ],
   "source": [
    "archive_clean.info()"
   ]
  },
  {
   "cell_type": "markdown",
   "metadata": {},
   "source": [
    "---\n",
    "<a id='clean_qa9'></a>\n",
    "### Quality `archive` #9.\n",
    "The *source* column can be simplified by extracting and replacing with it's display string.\n",
    "\n",
    "#### Define\n",
    "> Replace the `source` string with the display portion of itself. Extract the string between `<a href=\"\">` and `</a>`.\n",
    "#### Code"
   ]
  },
  {
   "cell_type": "code",
   "execution_count": 83,
   "metadata": {},
   "outputs": [
    {
     "data": {
      "text/plain": [
       "<a href=\"http://twitter.com/download/iphone\" rel=\"nofollow\">Twitter for iPhone</a>     1964\n",
       "<a href=\"http://vine.co\" rel=\"nofollow\">Vine - Make a Scene</a>                        91  \n",
       "<a href=\"http://twitter.com\" rel=\"nofollow\">Twitter Web Client</a>                     31  \n",
       "<a href=\"https://about.twitter.com/products/tweetdeck\" rel=\"nofollow\">TweetDeck</a>    11  \n",
       "Name: source, dtype: int64"
      ]
     },
     "execution_count": 83,
     "metadata": {},
     "output_type": "execute_result"
    }
   ],
   "source": [
    "archive_clean.source.value_counts()"
   ]
  },
  {
   "cell_type": "code",
   "execution_count": 84,
   "metadata": {
    "scrolled": true
   },
   "outputs": [],
   "source": [
    "archive_clean['source'] = archive_clean['source'].str.extract('^<a.+>(.+)</a>$')"
   ]
  },
  {
   "cell_type": "markdown",
   "metadata": {},
   "source": [
    "#### Test"
   ]
  },
  {
   "cell_type": "code",
   "execution_count": 85,
   "metadata": {},
   "outputs": [
    {
     "data": {
      "text/plain": [
       "Twitter for iPhone     1964\n",
       "Vine - Make a Scene    91  \n",
       "Twitter Web Client     31  \n",
       "TweetDeck              11  \n",
       "Name: source, dtype: int64"
      ]
     },
     "execution_count": 85,
     "metadata": {},
     "output_type": "execute_result"
    }
   ],
   "source": [
    "archive_clean.source.value_counts()"
   ]
  },
  {
   "cell_type": "markdown",
   "metadata": {},
   "source": [
    "---\n",
    "<a id='clean_qa7-1'></a>\n",
    "### Quality `archive` \\#7 - Part 1.\n",
    "Some tweets have wrong values extracted for rating; text contains the tweeter's rating.\n",
    "\n",
    "##### Define\n",
    "> Manual fix:\n",
    "- 740373189193256964: replace 9/11 with 14/10\n",
    "- 716439118184652801: replace 50/50 with 11/10\n",
    "- 682962037429899265: replace 7/11 with 10/10\n",
    "- 666287406224695296: replace 1/2 with 9/10\n",
    "\n",
    "##### Code"
   ]
  },
  {
   "cell_type": "code",
   "execution_count": 86,
   "metadata": {},
   "outputs": [],
   "source": [
    "mask_row = archive_clean.tweet_id == 740373189193256964\n",
    "archive_clean.loc[mask_row, 'rating_numerator'] = 14\n",
    "archive_clean.loc[mask_row, 'rating_denominator'] = 10"
   ]
  },
  {
   "cell_type": "code",
   "execution_count": 87,
   "metadata": {},
   "outputs": [],
   "source": [
    "mask_row = archive_clean.tweet_id == 716439118184652801\n",
    "archive_clean.loc[mask_row, 'rating_numerator'] = 11\n",
    "archive_clean.loc[mask_row, 'rating_denominator'] = 10"
   ]
  },
  {
   "cell_type": "code",
   "execution_count": 88,
   "metadata": {},
   "outputs": [],
   "source": [
    "mask_row = archive_clean.tweet_id == 682962037429899265\n",
    "archive_clean.loc[mask_row, 'rating_numerator'] = 10\n",
    "archive_clean.loc[mask_row, 'rating_denominator'] = 10"
   ]
  },
  {
   "cell_type": "code",
   "execution_count": 89,
   "metadata": {},
   "outputs": [],
   "source": [
    "mask_row = archive_clean.tweet_id == 666287406224695296\n",
    "archive_clean.loc[mask_row, 'rating_numerator'] = 9\n",
    "archive_clean.loc[mask_row, 'rating_denominator'] = 10"
   ]
  },
  {
   "cell_type": "markdown",
   "metadata": {},
   "source": [
    "##### Test"
   ]
  },
  {
   "cell_type": "code",
   "execution_count": 90,
   "metadata": {},
   "outputs": [
    {
     "data": {
      "text/html": [
       "<div>\n",
       "<style scoped>\n",
       "    .dataframe tbody tr th:only-of-type {\n",
       "        vertical-align: middle;\n",
       "    }\n",
       "\n",
       "    .dataframe tbody tr th {\n",
       "        vertical-align: top;\n",
       "    }\n",
       "\n",
       "    .dataframe thead th {\n",
       "        text-align: right;\n",
       "    }\n",
       "</style>\n",
       "<table border=\"1\" class=\"dataframe\">\n",
       "  <thead>\n",
       "    <tr style=\"text-align: right;\">\n",
       "      <th></th>\n",
       "      <th>tweet_id</th>\n",
       "      <th>text</th>\n",
       "      <th>rating_numerator</th>\n",
       "      <th>rating_denominator</th>\n",
       "    </tr>\n",
       "  </thead>\n",
       "  <tbody>\n",
       "    <tr>\n",
       "      <th>1068</th>\n",
       "      <td>740373189193256964</td>\n",
       "      <td>After so many requests, this is Bretagne. She was the last surviving 9/11 search dog, and our second ever 14/10. RIP https://t.co/XAVDNDaVgQ</td>\n",
       "      <td>14</td>\n",
       "      <td>10</td>\n",
       "    </tr>\n",
       "    <tr>\n",
       "      <th>1202</th>\n",
       "      <td>716439118184652801</td>\n",
       "      <td>This is Bluebert. He just saw that both #FinalFur match ups are split 50/50. Amazed af. 11/10 https://t.co/Kky1DPG4iq</td>\n",
       "      <td>11</td>\n",
       "      <td>10</td>\n",
       "    </tr>\n",
       "    <tr>\n",
       "      <th>1662</th>\n",
       "      <td>682962037429899265</td>\n",
       "      <td>This is Darrel. He just robbed a 7/11 and is in a high speed police chase. Was just spotted by the helicopter 10/10 https://t.co/7EsP8LmSp5</td>\n",
       "      <td>10</td>\n",
       "      <td>10</td>\n",
       "    </tr>\n",
       "    <tr>\n",
       "      <th>2335</th>\n",
       "      <td>666287406224695296</td>\n",
       "      <td>This is an Albanian 3 1/2 legged  Episcopalian. Loves well-polished hardwood flooring. Penis on the collar. 9/10 https://t.co/d9NcXFKwLv</td>\n",
       "      <td>9</td>\n",
       "      <td>10</td>\n",
       "    </tr>\n",
       "  </tbody>\n",
       "</table>\n",
       "</div>"
      ],
      "text/plain": [
       "                tweet_id  \\\n",
       "1068  740373189193256964   \n",
       "1202  716439118184652801   \n",
       "1662  682962037429899265   \n",
       "2335  666287406224695296   \n",
       "\n",
       "                                                                                                                                              text  \\\n",
       "1068  After so many requests, this is Bretagne. She was the last surviving 9/11 search dog, and our second ever 14/10. RIP https://t.co/XAVDNDaVgQ   \n",
       "1202  This is Bluebert. He just saw that both #FinalFur match ups are split 50/50. Amazed af. 11/10 https://t.co/Kky1DPG4iq                          \n",
       "1662  This is Darrel. He just robbed a 7/11 and is in a high speed police chase. Was just spotted by the helicopter 10/10 https://t.co/7EsP8LmSp5    \n",
       "2335  This is an Albanian 3 1/2 legged  Episcopalian. Loves well-polished hardwood flooring. Penis on the collar. 9/10 https://t.co/d9NcXFKwLv       \n",
       "\n",
       "      rating_numerator  rating_denominator  \n",
       "1068  14                10                  \n",
       "1202  11                10                  \n",
       "1662  10                10                  \n",
       "2335  9                 10                  "
      ]
     },
     "execution_count": 90,
     "metadata": {},
     "output_type": "execute_result"
    }
   ],
   "source": [
    "mask_cols = ['tweet_id', 'text', 'rating_numerator', 'rating_denominator']\n",
    "archive_clean[(archive_clean.tweet_id == 740373189193256964) | \\\n",
    "              (archive_clean.tweet_id == 716439118184652801) | \\\n",
    "              (archive_clean.tweet_id == 682962037429899265) | \\\n",
    "              (archive_clean.tweet_id == 666287406224695296) ][mask_cols]"
   ]
  },
  {
   "cell_type": "markdown",
   "metadata": {},
   "source": [
    "---\n",
    "<a id='clean_qa7-2'></a>\n",
    "### Quality `archive` \\#7 - Part 2.\n",
    "Some tweets with *rating_denominator* NOT equal to 10; multiple dogs or no valid rating.\n",
    "\n",
    "##### Define\n",
    "> Drop the remaining tweets with `rating_denominator` values that are NOT equal to 10.\n",
    "##### Code"
   ]
  },
  {
   "cell_type": "code",
   "execution_count": 91,
   "metadata": {},
   "outputs": [
    {
     "data": {
      "text/plain": [
       "170    1   \n",
       "150    1   \n",
       "120    1   \n",
       "110    1   \n",
       "90     1   \n",
       "80     2   \n",
       "70     1   \n",
       "50     2   \n",
       "40     1   \n",
       "20     1   \n",
       "10     2084\n",
       "7      1   \n",
       "Name: rating_denominator, dtype: int64"
      ]
     },
     "execution_count": 91,
     "metadata": {},
     "output_type": "execute_result"
    }
   ],
   "source": [
    "# display denominators\n",
    "archive_clean.rating_denominator.value_counts().sort_index(ascending = False)"
   ]
  },
  {
   "cell_type": "code",
   "execution_count": 92,
   "metadata": {},
   "outputs": [],
   "source": [
    "archive_clean = archive_clean[archive_clean.rating_denominator == 10]"
   ]
  },
  {
   "cell_type": "markdown",
   "metadata": {},
   "source": [
    "##### Test"
   ]
  },
  {
   "cell_type": "code",
   "execution_count": 93,
   "metadata": {},
   "outputs": [
    {
     "data": {
      "text/plain": [
       "10    2084\n",
       "Name: rating_denominator, dtype: int64"
      ]
     },
     "execution_count": 93,
     "metadata": {},
     "output_type": "execute_result"
    }
   ],
   "source": [
    "# check the values in the column - should only be \"10\"\n",
    "archive_clean.rating_denominator.value_counts().sort_index(ascending = False)"
   ]
  },
  {
   "cell_type": "markdown",
   "metadata": {},
   "source": [
    "---\n",
    "<a id='clean_qa8'></a>\n",
    "### Quality `archive` #8.\n",
    "There are 5 tweets with *rating_numerator* >= 15, which either don't make sense or are huge.\n",
    "\n",
    "##### Define\n",
    "> Drop tweets that have `rating_numerator` >= 15.\n",
    "##### Code"
   ]
  },
  {
   "cell_type": "code",
   "execution_count": 94,
   "metadata": {},
   "outputs": [
    {
     "data": {
      "text/plain": [
       "1776    1\n",
       "420     1\n",
       "75      1\n",
       "27      1\n",
       "26      1\n",
       "Name: rating_numerator, dtype: int64"
      ]
     },
     "execution_count": 94,
     "metadata": {},
     "output_type": "execute_result"
    }
   ],
   "source": [
    "# display numerators greater than 15\n",
    "mask = archive_clean.rating_numerator >= 15\n",
    "archive_clean[mask].rating_numerator.value_counts().sort_index(ascending = False)"
   ]
  },
  {
   "cell_type": "code",
   "execution_count": 95,
   "metadata": {},
   "outputs": [],
   "source": [
    "archive_clean = archive_clean[archive_clean.rating_numerator < 15]"
   ]
  },
  {
   "cell_type": "markdown",
   "metadata": {},
   "source": [
    "##### Test"
   ]
  },
  {
   "cell_type": "code",
   "execution_count": 96,
   "metadata": {},
   "outputs": [
    {
     "data": {
      "text/plain": [
       "14    39 \n",
       "13    287\n",
       "12    486\n",
       "11    414\n",
       "10    437\n",
       "9     153\n",
       "8     98 \n",
       "7     51 \n",
       "6     32 \n",
       "5     34 \n",
       "4     15 \n",
       "3     19 \n",
       "2     9  \n",
       "1     4  \n",
       "0     1  \n",
       "Name: rating_numerator, dtype: int64"
      ]
     },
     "execution_count": 96,
     "metadata": {},
     "output_type": "execute_result"
    }
   ],
   "source": [
    "# display ALL numerators\n",
    "archive_clean.rating_numerator.value_counts().sort_index(ascending = False)"
   ]
  },
  {
   "cell_type": "markdown",
   "metadata": {},
   "source": [
    "---\n",
    "<a id='clean_qa3'></a>\n",
    "### Quality `archive` #3.\n",
    "Tweets with missing data in *expanded_urls* (links to the tweet).\n",
    "\n",
    "##### Define\n",
    "> Drop tweets with missing data in the `expanded_urls`.\n",
    "##### Code"
   ]
  },
  {
   "cell_type": "code",
   "execution_count": 97,
   "metadata": {},
   "outputs": [
    {
     "name": "stdout",
     "output_type": "stream",
     "text": [
      "<class 'pandas.core.frame.DataFrame'>\n",
      "Int64Index: 2079 entries, 0 to 2355\n",
      "Data columns (total 12 columns):\n",
      "tweet_id              2079 non-null int64\n",
      "timestamp             2079 non-null datetime64[ns, UTC]\n",
      "source                2079 non-null object\n",
      "text                  2079 non-null object\n",
      "expanded_urls         2076 non-null object\n",
      "rating_numerator      2079 non-null int64\n",
      "rating_denominator    2079 non-null int64\n",
      "name                  2079 non-null object\n",
      "doggo                 2079 non-null object\n",
      "floofer               2079 non-null object\n",
      "pupper                2079 non-null object\n",
      "puppo                 2079 non-null object\n",
      "dtypes: datetime64[ns, UTC](1), int64(3), object(8)\n",
      "memory usage: 211.1+ KB\n"
     ]
    }
   ],
   "source": [
    "archive_clean.info()"
   ]
  },
  {
   "cell_type": "code",
   "execution_count": 98,
   "metadata": {},
   "outputs": [],
   "source": [
    "archive_clean = archive_clean[archive_clean.expanded_urls.notnull()]"
   ]
  },
  {
   "cell_type": "markdown",
   "metadata": {},
   "source": [
    "##### Test"
   ]
  },
  {
   "cell_type": "code",
   "execution_count": 99,
   "metadata": {},
   "outputs": [
    {
     "name": "stdout",
     "output_type": "stream",
     "text": [
      "<class 'pandas.core.frame.DataFrame'>\n",
      "Int64Index: 2076 entries, 0 to 2355\n",
      "Data columns (total 12 columns):\n",
      "tweet_id              2076 non-null int64\n",
      "timestamp             2076 non-null datetime64[ns, UTC]\n",
      "source                2076 non-null object\n",
      "text                  2076 non-null object\n",
      "expanded_urls         2076 non-null object\n",
      "rating_numerator      2076 non-null int64\n",
      "rating_denominator    2076 non-null int64\n",
      "name                  2076 non-null object\n",
      "doggo                 2076 non-null object\n",
      "floofer               2076 non-null object\n",
      "pupper                2076 non-null object\n",
      "puppo                 2076 non-null object\n",
      "dtypes: datetime64[ns, UTC](1), int64(3), object(8)\n",
      "memory usage: 210.8+ KB\n"
     ]
    }
   ],
   "source": [
    "archive_clean.info()"
   ]
  },
  {
   "cell_type": "markdown",
   "metadata": {},
   "source": [
    "---\n",
    "<a id='clean_ta1'></a>\n",
    "### Tidiness `archive` #1.\n",
    "There are 4 columns for dog stages: `doggo`, `floofer`, `pupper`, `puppo`.\n",
    "\n",
    "##### Define\n",
    "> Melt the 4 columns with the dog stages:\n",
    " - Create a temporary column called `none` to store the `None` values; use lowercase 'n' to avoid confusion with 'None' special NA value.\n",
    " - Create a new column `stage` to store the categories: `doggo`, `floofer`, `pupper`, `puppo`, as well as `None`, and select the stage from the column that contains a value.\n",
    " - Cast the `stage` column to categorical data type.\n",
    " - Drop the 4 original dog stage columns, and the temporary `none` column.\n",
    "\n",
    "##### Code"
   ]
  },
  {
   "cell_type": "code",
   "execution_count": 100,
   "metadata": {},
   "outputs": [
    {
     "data": {
      "text/html": [
       "<div>\n",
       "<style scoped>\n",
       "    .dataframe tbody tr th:only-of-type {\n",
       "        vertical-align: middle;\n",
       "    }\n",
       "\n",
       "    .dataframe tbody tr th {\n",
       "        vertical-align: top;\n",
       "    }\n",
       "\n",
       "    .dataframe thead th {\n",
       "        text-align: right;\n",
       "    }\n",
       "</style>\n",
       "<table border=\"1\" class=\"dataframe\">\n",
       "  <thead>\n",
       "    <tr style=\"text-align: right;\">\n",
       "      <th></th>\n",
       "      <th>doggo</th>\n",
       "      <th>floofer</th>\n",
       "      <th>pupper</th>\n",
       "      <th>puppo</th>\n",
       "    </tr>\n",
       "  </thead>\n",
       "  <tbody>\n",
       "    <tr>\n",
       "      <th>count</th>\n",
       "      <td>2076</td>\n",
       "      <td>2076</td>\n",
       "      <td>2076</td>\n",
       "      <td>2076</td>\n",
       "    </tr>\n",
       "    <tr>\n",
       "      <th>unique</th>\n",
       "      <td>2</td>\n",
       "      <td>2</td>\n",
       "      <td>2</td>\n",
       "      <td>2</td>\n",
       "    </tr>\n",
       "    <tr>\n",
       "      <th>top</th>\n",
       "      <td>None</td>\n",
       "      <td>None</td>\n",
       "      <td>None</td>\n",
       "      <td>None</td>\n",
       "    </tr>\n",
       "    <tr>\n",
       "      <th>freq</th>\n",
       "      <td>1993</td>\n",
       "      <td>2066</td>\n",
       "      <td>1848</td>\n",
       "      <td>2052</td>\n",
       "    </tr>\n",
       "  </tbody>\n",
       "</table>\n",
       "</div>"
      ],
      "text/plain": [
       "       doggo floofer pupper puppo\n",
       "count   2076  2076    2076   2076\n",
       "unique  2     2       2      2   \n",
       "top     None  None    None   None\n",
       "freq    1993  2066    1848   2052"
      ]
     },
     "execution_count": 100,
     "metadata": {},
     "output_type": "execute_result"
    }
   ],
   "source": [
    "archive_clean[['doggo', 'floofer', 'pupper', 'puppo']].describe()"
   ]
  },
  {
   "cell_type": "markdown",
   "metadata": {},
   "source": [
    "**NOTE:**\n",
    "> From the describe() output here, I'm going to order the dog stages by count, in increasing order: floofer, puppo, doggo and pupper."
   ]
  },
  {
   "cell_type": "code",
   "execution_count": 101,
   "metadata": {},
   "outputs": [
    {
     "data": {
      "text/plain": [
       "0    1742\n",
       "1    323 \n",
       "2    11  \n",
       "Name: none, dtype: int64"
      ]
     },
     "execution_count": 101,
     "metadata": {},
     "output_type": "execute_result"
    }
   ],
   "source": [
    "# replace the stage name with 1, and 'None' with 0, like a dummy variable\n",
    "make_dummy = lambda x: 0 if x == 'None' else 1\n",
    "\n",
    "archive_clean.doggo = archive_clean.doggo.apply(make_dummy)\n",
    "archive_clean.floofer = archive_clean.floofer.apply(make_dummy)\n",
    "archive_clean.pupper = archive_clean.pupper.apply(make_dummy)\n",
    "archive_clean.puppo = archive_clean.puppo.apply(make_dummy)\n",
    "\n",
    "# by adding the stage columns, we can see how many are 'none' and how many stages are set\n",
    "archive_clean['none'] = archive_clean['doggo'] + archive_clean['floofer'] + \\\n",
    "                        archive_clean['pupper'] + archive_clean['puppo']\n",
    "\n",
    "# have a look at what we have before we continue...\n",
    "archive_clean['none'].value_counts()"
   ]
  },
  {
   "cell_type": "markdown",
   "metadata": {},
   "source": [
    "**NOTE:**\n",
    "> Here we have a little surprise! Turns out there are 11 tweets that have 2 dog stages set, so these must be tweets about multiple dogs. As there are only 11 entries, I'll just carry on with selecting the first of the dog stages in increasing count order - floofer, puppo, doggo and pupper - so we don't loose too much information."
   ]
  },
  {
   "cell_type": "code",
   "execution_count": 102,
   "metadata": {},
   "outputs": [],
   "source": [
    "# if there are NO stages specified then set 'None' to 1\n",
    "stage_none = lambda x: 1 if x == 0 else 0\n",
    "\n",
    "# reset values in 'none' \n",
    "archive_clean['none'] = archive_clean['none'].apply(stage_none)\n",
    "\n",
    "# Order the stages in increasing count order: floofer, puppo, doggo and pupper\n",
    "# set the choice order for dog stage based on count order\n",
    "stage = ['floofer', 'puppo', 'doggo', 'pupper', 'none']\n",
    "\n",
    "# set the conditions for selecting the dog stage based on count order\n",
    "conditions = [\n",
    "    (archive_clean[stage[0]] == 1),\n",
    "    (archive_clean[stage[1]] == 1),\n",
    "    (archive_clean[stage[2]] == 1),\n",
    "    (archive_clean[stage[3]] == 1),\n",
    "    (archive_clean[stage[4]] == 1)]\n",
    "\n",
    "# select the dog stage based on the first successful condition; stage[4] is 'None'\n",
    "archive_clean['stage'] = np.select(conditions, stage, default = stage[4])\n",
    "\n",
    "# now we can drop the original 4 dog stage columns, AND the temporary 'None'\n",
    "archive_clean.drop(stage, axis = 1, inplace = True)\n",
    "\n",
    "# set the 'stage' column data type to category\n",
    "archive_clean['stage'] = archive_clean.stage.astype('category')\n",
    "\n",
    "# Source for algorithm:    https://code.i-harness.com/en/q/19c9fbc"
   ]
  },
  {
   "cell_type": "markdown",
   "metadata": {},
   "source": [
    "##### Test"
   ]
  },
  {
   "cell_type": "code",
   "execution_count": 103,
   "metadata": {},
   "outputs": [
    {
     "name": "stdout",
     "output_type": "stream",
     "text": [
      "<class 'pandas.core.frame.DataFrame'>\n",
      "Int64Index: 2076 entries, 0 to 2355\n",
      "Data columns (total 9 columns):\n",
      "tweet_id              2076 non-null int64\n",
      "timestamp             2076 non-null datetime64[ns, UTC]\n",
      "source                2076 non-null object\n",
      "text                  2076 non-null object\n",
      "expanded_urls         2076 non-null object\n",
      "rating_numerator      2076 non-null int64\n",
      "rating_denominator    2076 non-null int64\n",
      "name                  2076 non-null object\n",
      "stage                 2076 non-null category\n",
      "dtypes: category(1), datetime64[ns, UTC](1), int64(3), object(4)\n",
      "memory usage: 148.2+ KB\n"
     ]
    }
   ],
   "source": [
    "archive_clean.info()"
   ]
  },
  {
   "cell_type": "code",
   "execution_count": 104,
   "metadata": {},
   "outputs": [
    {
     "data": {
      "text/plain": [
       "none       1742\n",
       "pupper     219 \n",
       "doggo      81  \n",
       "puppo      24  \n",
       "floofer    10  \n",
       "Name: stage, dtype: int64"
      ]
     },
     "execution_count": 104,
     "metadata": {},
     "output_type": "execute_result"
    }
   ],
   "source": [
    "archive_clean.stage.value_counts()"
   ]
  },
  {
   "cell_type": "markdown",
   "metadata": {},
   "source": [
    "---\n",
    "<a id='clean_qj1'></a>\n",
    "<a id='clean_tj1'></a>\n",
    "### Tidiness `json_data` #1. & Quality `json_data` #1.\n",
    "The `json_data` table should be part of the `archive` table.\n",
    "\n",
    "There is also missing data for these fields which is handled in the **Additional Cleaning** part just below.\n",
    "\n",
    "##### Define\n",
    "> Merge the `retweet_count` and `favorite_count` columns to the **archive** table, joining on `tweet_id`.\n",
    "##### Code"
   ]
  },
  {
   "cell_type": "code",
   "execution_count": 105,
   "metadata": {},
   "outputs": [
    {
     "name": "stdout",
     "output_type": "stream",
     "text": [
      "<class 'pandas.core.frame.DataFrame'>\n",
      "RangeIndex: 2340 entries, 0 to 2339\n",
      "Data columns (total 3 columns):\n",
      "tweet_id          2340 non-null int64\n",
      "retweet_count     2340 non-null int64\n",
      "favorite_count    2340 non-null int64\n",
      "dtypes: int64(3)\n",
      "memory usage: 55.0 KB\n"
     ]
    }
   ],
   "source": [
    "json_data_clean.info()"
   ]
  },
  {
   "cell_type": "code",
   "execution_count": 106,
   "metadata": {},
   "outputs": [],
   "source": [
    "archive_clean = pd.merge(archive_clean, json_data_clean, \n",
    "                         on = 'tweet_id', how = 'left')"
   ]
  },
  {
   "cell_type": "markdown",
   "metadata": {},
   "source": [
    "##### Test"
   ]
  },
  {
   "cell_type": "code",
   "execution_count": 107,
   "metadata": {},
   "outputs": [
    {
     "name": "stdout",
     "output_type": "stream",
     "text": [
      "<class 'pandas.core.frame.DataFrame'>\n",
      "Int64Index: 2076 entries, 0 to 2075\n",
      "Data columns (total 11 columns):\n",
      "tweet_id              2076 non-null int64\n",
      "timestamp             2076 non-null datetime64[ns, UTC]\n",
      "source                2076 non-null object\n",
      "text                  2076 non-null object\n",
      "expanded_urls         2076 non-null object\n",
      "rating_numerator      2076 non-null int64\n",
      "rating_denominator    2076 non-null int64\n",
      "name                  2076 non-null object\n",
      "stage                 2076 non-null category\n",
      "retweet_count         2074 non-null float64\n",
      "favorite_count        2074 non-null float64\n",
      "dtypes: category(1), datetime64[ns, UTC](1), float64(2), int64(3), object(4)\n",
      "memory usage: 180.6+ KB\n"
     ]
    }
   ],
   "source": [
    "archive_clean.info()"
   ]
  },
  {
   "cell_type": "markdown",
   "metadata": {},
   "source": [
    "#### Additional Cleaning\n",
    "The merge of the **json_data** table with the **archive** table caused the data types for `retweet_count` and `favorite_count` to change from int64 to float64. There is also missing data for these fields.\n",
    "\n",
    "##### Define\n",
    "> - Drop tweets with missing **json_data**.\n",
    "> - Change the data type for the `retweet_count` and `favorite_count` to be int.\n",
    "##### Code"
   ]
  },
  {
   "cell_type": "code",
   "execution_count": 108,
   "metadata": {},
   "outputs": [
    {
     "data": {
      "text/html": [
       "<div>\n",
       "<style scoped>\n",
       "    .dataframe tbody tr th:only-of-type {\n",
       "        vertical-align: middle;\n",
       "    }\n",
       "\n",
       "    .dataframe tbody tr th {\n",
       "        vertical-align: top;\n",
       "    }\n",
       "\n",
       "    .dataframe thead th {\n",
       "        text-align: right;\n",
       "    }\n",
       "</style>\n",
       "<table border=\"1\" class=\"dataframe\">\n",
       "  <thead>\n",
       "    <tr style=\"text-align: right;\">\n",
       "      <th></th>\n",
       "      <th>tweet_id</th>\n",
       "      <th>retweet_count</th>\n",
       "      <th>favorite_count</th>\n",
       "    </tr>\n",
       "  </thead>\n",
       "  <tbody>\n",
       "    <tr>\n",
       "      <th>720</th>\n",
       "      <td>754011816964026368</td>\n",
       "      <td>NaN</td>\n",
       "      <td>NaN</td>\n",
       "    </tr>\n",
       "    <tr>\n",
       "      <th>1470</th>\n",
       "      <td>680055455951884288</td>\n",
       "      <td>NaN</td>\n",
       "      <td>NaN</td>\n",
       "    </tr>\n",
       "  </tbody>\n",
       "</table>\n",
       "</div>"
      ],
      "text/plain": [
       "                tweet_id  retweet_count  favorite_count\n",
       "720   754011816964026368 NaN            NaN            \n",
       "1470  680055455951884288 NaN            NaN            "
      ]
     },
     "execution_count": 108,
     "metadata": {},
     "output_type": "execute_result"
    }
   ],
   "source": [
    "mask_cols = ['tweet_id', 'retweet_count', 'favorite_count']\n",
    "archive_clean[archive_clean.retweet_count.isna() | archive_clean.favorite_count.isna()][mask_cols]"
   ]
  },
  {
   "cell_type": "code",
   "execution_count": 109,
   "metadata": {},
   "outputs": [],
   "source": [
    "archive_clean = archive_clean[~(archive_clean.retweet_count.isna() | archive_clean.favorite_count.isna())]\n",
    "\n",
    "# recast the count columns to int type\n",
    "archive_clean.retweet_count = archive_clean.retweet_count.astype(int)\n",
    "archive_clean.favorite_count = archive_clean.favorite_count.astype(int)"
   ]
  },
  {
   "cell_type": "markdown",
   "metadata": {},
   "source": [
    "##### Test"
   ]
  },
  {
   "cell_type": "code",
   "execution_count": 110,
   "metadata": {},
   "outputs": [
    {
     "name": "stdout",
     "output_type": "stream",
     "text": [
      "<class 'pandas.core.frame.DataFrame'>\n",
      "Int64Index: 2074 entries, 0 to 2075\n",
      "Data columns (total 11 columns):\n",
      "tweet_id              2074 non-null int64\n",
      "timestamp             2074 non-null datetime64[ns, UTC]\n",
      "source                2074 non-null object\n",
      "text                  2074 non-null object\n",
      "expanded_urls         2074 non-null object\n",
      "rating_numerator      2074 non-null int64\n",
      "rating_denominator    2074 non-null int64\n",
      "name                  2074 non-null object\n",
      "stage                 2074 non-null category\n",
      "retweet_count         2074 non-null int64\n",
      "favorite_count        2074 non-null int64\n",
      "dtypes: category(1), datetime64[ns, UTC](1), int64(5), object(4)\n",
      "memory usage: 180.5+ KB\n"
     ]
    }
   ],
   "source": [
    "archive_clean.info()"
   ]
  },
  {
   "cell_type": "markdown",
   "metadata": {},
   "source": [
    "---\n",
    "<a id='clean_qa5'></a>\n",
    "### Quality `archive` #5.\n",
    "There are many tweets with regular words in the *name* column that are NOT a valid name.\n",
    "\n",
    "##### Define\n",
    "> Replace all lowercase words in the `name` column with the string \"none\".\n",
    "##### Code"
   ]
  },
  {
   "cell_type": "code",
   "execution_count": 111,
   "metadata": {},
   "outputs": [
    {
     "data": {
      "text/plain": [
       "a               54\n",
       "actually        2 \n",
       "all             1 \n",
       "an              6 \n",
       "by              1 \n",
       "getting         2 \n",
       "his             1 \n",
       "incredibly      1 \n",
       "infuriating     1 \n",
       "just            3 \n",
       "life            1 \n",
       "light           1 \n",
       "mad             1 \n",
       "my              1 \n",
       "not             2 \n",
       "officially      1 \n",
       "old             1 \n",
       "one             4 \n",
       "quite           3 \n",
       "space           1 \n",
       "such            1 \n",
       "the             8 \n",
       "unacceptable    1 \n",
       "very            4 \n",
       "Name: name, dtype: int64"
      ]
     },
     "execution_count": 111,
     "metadata": {},
     "output_type": "execute_result"
    }
   ],
   "source": [
    "names_mask = archive_clean.name.str.contains('^[a-z]', regex = True)\n",
    "archive_clean[names_mask].name.value_counts().sort_index()"
   ]
  },
  {
   "cell_type": "code",
   "execution_count": 112,
   "metadata": {},
   "outputs": [],
   "source": [
    "archive_clean.loc[names_mask, 'name'] = \"none\""
   ]
  },
  {
   "cell_type": "markdown",
   "metadata": {},
   "source": [
    "##### Test"
   ]
  },
  {
   "cell_type": "code",
   "execution_count": 113,
   "metadata": {},
   "outputs": [
    {
     "data": {
      "text/plain": [
       "none    102\n",
       "Name: name, dtype: int64"
      ]
     },
     "execution_count": 113,
     "metadata": {},
     "output_type": "execute_result"
    }
   ],
   "source": [
    "# All these entries were changed to \"none\"\n",
    "archive_clean[names_mask].name.value_counts().sort_index()"
   ]
  },
  {
   "cell_type": "markdown",
   "metadata": {},
   "source": [
    "---\n",
    "<a id='clean_tp3'></a>\n",
    "### Tidiness `predictions` #3.\n",
    "The _best_ dog breed prediction and associated confidence level can be combined with the `archive` table; these pieces of information provide additional data about the dog in the tweet based on the tweet's image.\n",
    "\n",
    "_**NOTE:** We only want to keep tweets that have images._\n",
    "\n",
    "_**NOTE:** This also solves_ **Quality `predictions` \\#1** _issue, that there are fewer image predictions than tweets in the archive._\n",
    "\n",
    "##### Define\n",
    "> This is a 2-step process, first creating the columns in the **predictions** table, then merging to **archive**.\n",
    ">\n",
    "> Part 1:\n",
    "> - Create two new columns in **predictions** called `breed` and `confidence`: check each dog breed prediction flag in order (`p1_dog`, `p2_dog`, `p3_dog`), and copy the breed with the highest confidence level into the `breed` column.\n",
    "> - Copy the associated confidence level into the new `confidence` column.\n",
    "> - For cases where all 3 prediction flags are False (NOT a valid dog breed), set `breed` as 'none' and `confidence` to 0.\n",
    ">\n",
    "> Part 2:\n",
    "> - Merge the new `breed` and `confidence` columns into the tweet **archive** table, using an 'inner' join so that we are left with only tweets _with_ images.\n",
    "> - Now we can fix the `confidence` column; round the values up to a whole number in percentage format.\n",
    "\n",
    "##### Code - Part 1"
   ]
  },
  {
   "cell_type": "code",
   "execution_count": 114,
   "metadata": {},
   "outputs": [],
   "source": [
    "# Source:    https://code.i-harness.com/en/q/19c9fbc\n",
    "\n",
    "# setup the conditions for selection\n",
    "conditions = [(predictions_clean['p1_dog'] == True),\n",
    "              (predictions_clean['p2_dog'] == True),\n",
    "              (predictions_clean['p3_dog'] == True)]\n",
    "\n",
    "# set the choice order based on the selection conditions for predicted breed\n",
    "choices_breed = [predictions_clean['p1'], \n",
    "                 predictions_clean['p2'],\n",
    "                 predictions_clean['p3']]\n",
    "\n",
    "# set the choice order for confidence level based on the selection conditions\n",
    "choices_confidence = [predictions_clean['p1_conf'], \n",
    "                      predictions_clean['p2_conf'], \n",
    "                      predictions_clean['p3_conf']]\n",
    "\n",
    "# select the predicted breed based on the first successful condition\n",
    "predictions_clean['breed'] = np.select(conditions, choices_breed, \n",
    "                                       default = 'none')\n",
    "\n",
    "# select the predicted confidence level based on the first successful condition\n",
    "predictions_clean['confidence'] = np.select(conditions, choices_confidence, \n",
    "                                            default = 0)"
   ]
  },
  {
   "cell_type": "markdown",
   "metadata": {},
   "source": [
    "##### Test - Part 1"
   ]
  },
  {
   "cell_type": "code",
   "execution_count": 115,
   "metadata": {},
   "outputs": [
    {
     "data": {
      "text/html": [
       "<div>\n",
       "<style scoped>\n",
       "    .dataframe tbody tr th:only-of-type {\n",
       "        vertical-align: middle;\n",
       "    }\n",
       "\n",
       "    .dataframe tbody tr th {\n",
       "        vertical-align: top;\n",
       "    }\n",
       "\n",
       "    .dataframe thead th {\n",
       "        text-align: right;\n",
       "    }\n",
       "</style>\n",
       "<table border=\"1\" class=\"dataframe\">\n",
       "  <thead>\n",
       "    <tr style=\"text-align: right;\">\n",
       "      <th></th>\n",
       "      <th>tweet_id</th>\n",
       "      <th>jpg_url</th>\n",
       "      <th>img_num</th>\n",
       "      <th>p1</th>\n",
       "      <th>p1_conf</th>\n",
       "      <th>p1_dog</th>\n",
       "      <th>p2</th>\n",
       "      <th>p2_conf</th>\n",
       "      <th>p2_dog</th>\n",
       "      <th>p3</th>\n",
       "      <th>p3_conf</th>\n",
       "      <th>p3_dog</th>\n",
       "      <th>breed</th>\n",
       "      <th>confidence</th>\n",
       "    </tr>\n",
       "  </thead>\n",
       "  <tbody>\n",
       "    <tr>\n",
       "      <th>0</th>\n",
       "      <td>666020888022790149</td>\n",
       "      <td>https://pbs.twimg.com/media/CT4udn0WwAA0aMy.jpg</td>\n",
       "      <td>1</td>\n",
       "      <td>Welsh_springer_spaniel</td>\n",
       "      <td>0.465074</td>\n",
       "      <td>True</td>\n",
       "      <td>collie</td>\n",
       "      <td>0.156665</td>\n",
       "      <td>True</td>\n",
       "      <td>Shetland_sheepdog</td>\n",
       "      <td>0.061428</td>\n",
       "      <td>True</td>\n",
       "      <td>Welsh_springer_spaniel</td>\n",
       "      <td>0.465074</td>\n",
       "    </tr>\n",
       "    <tr>\n",
       "      <th>1</th>\n",
       "      <td>666029285002620928</td>\n",
       "      <td>https://pbs.twimg.com/media/CT42GRgUYAA5iDo.jpg</td>\n",
       "      <td>1</td>\n",
       "      <td>redbone</td>\n",
       "      <td>0.506826</td>\n",
       "      <td>True</td>\n",
       "      <td>miniature_pinscher</td>\n",
       "      <td>0.074192</td>\n",
       "      <td>True</td>\n",
       "      <td>Rhodesian_ridgeback</td>\n",
       "      <td>0.072010</td>\n",
       "      <td>True</td>\n",
       "      <td>redbone</td>\n",
       "      <td>0.506826</td>\n",
       "    </tr>\n",
       "    <tr>\n",
       "      <th>2</th>\n",
       "      <td>666033412701032449</td>\n",
       "      <td>https://pbs.twimg.com/media/CT4521TWwAEvMyu.jpg</td>\n",
       "      <td>1</td>\n",
       "      <td>German_shepherd</td>\n",
       "      <td>0.596461</td>\n",
       "      <td>True</td>\n",
       "      <td>malinois</td>\n",
       "      <td>0.138584</td>\n",
       "      <td>True</td>\n",
       "      <td>bloodhound</td>\n",
       "      <td>0.116197</td>\n",
       "      <td>True</td>\n",
       "      <td>German_shepherd</td>\n",
       "      <td>0.596461</td>\n",
       "    </tr>\n",
       "    <tr>\n",
       "      <th>3</th>\n",
       "      <td>666044226329800704</td>\n",
       "      <td>https://pbs.twimg.com/media/CT5Dr8HUEAA-lEu.jpg</td>\n",
       "      <td>1</td>\n",
       "      <td>Rhodesian_ridgeback</td>\n",
       "      <td>0.408143</td>\n",
       "      <td>True</td>\n",
       "      <td>redbone</td>\n",
       "      <td>0.360687</td>\n",
       "      <td>True</td>\n",
       "      <td>miniature_pinscher</td>\n",
       "      <td>0.222752</td>\n",
       "      <td>True</td>\n",
       "      <td>Rhodesian_ridgeback</td>\n",
       "      <td>0.408143</td>\n",
       "    </tr>\n",
       "    <tr>\n",
       "      <th>4</th>\n",
       "      <td>666049248165822465</td>\n",
       "      <td>https://pbs.twimg.com/media/CT5IQmsXIAAKY4A.jpg</td>\n",
       "      <td>1</td>\n",
       "      <td>miniature_pinscher</td>\n",
       "      <td>0.560311</td>\n",
       "      <td>True</td>\n",
       "      <td>Rottweiler</td>\n",
       "      <td>0.243682</td>\n",
       "      <td>True</td>\n",
       "      <td>Doberman</td>\n",
       "      <td>0.154629</td>\n",
       "      <td>True</td>\n",
       "      <td>miniature_pinscher</td>\n",
       "      <td>0.560311</td>\n",
       "    </tr>\n",
       "    <tr>\n",
       "      <th>5</th>\n",
       "      <td>666050758794694657</td>\n",
       "      <td>https://pbs.twimg.com/media/CT5Jof1WUAEuVxN.jpg</td>\n",
       "      <td>1</td>\n",
       "      <td>Bernese_mountain_dog</td>\n",
       "      <td>0.651137</td>\n",
       "      <td>True</td>\n",
       "      <td>English_springer</td>\n",
       "      <td>0.263788</td>\n",
       "      <td>True</td>\n",
       "      <td>Greater_Swiss_Mountain_dog</td>\n",
       "      <td>0.016199</td>\n",
       "      <td>True</td>\n",
       "      <td>Bernese_mountain_dog</td>\n",
       "      <td>0.651137</td>\n",
       "    </tr>\n",
       "    <tr>\n",
       "      <th>6</th>\n",
       "      <td>666051853826850816</td>\n",
       "      <td>https://pbs.twimg.com/media/CT5KoJ1WoAAJash.jpg</td>\n",
       "      <td>1</td>\n",
       "      <td>box_turtle</td>\n",
       "      <td>0.933012</td>\n",
       "      <td>False</td>\n",
       "      <td>mud_turtle</td>\n",
       "      <td>0.045885</td>\n",
       "      <td>False</td>\n",
       "      <td>terrapin</td>\n",
       "      <td>0.017885</td>\n",
       "      <td>False</td>\n",
       "      <td>none</td>\n",
       "      <td>0.000000</td>\n",
       "    </tr>\n",
       "    <tr>\n",
       "      <th>7</th>\n",
       "      <td>666055525042405380</td>\n",
       "      <td>https://pbs.twimg.com/media/CT5N9tpXIAAifs1.jpg</td>\n",
       "      <td>1</td>\n",
       "      <td>chow</td>\n",
       "      <td>0.692517</td>\n",
       "      <td>True</td>\n",
       "      <td>Tibetan_mastiff</td>\n",
       "      <td>0.058279</td>\n",
       "      <td>True</td>\n",
       "      <td>fur_coat</td>\n",
       "      <td>0.054449</td>\n",
       "      <td>False</td>\n",
       "      <td>chow</td>\n",
       "      <td>0.692517</td>\n",
       "    </tr>\n",
       "    <tr>\n",
       "      <th>8</th>\n",
       "      <td>666057090499244032</td>\n",
       "      <td>https://pbs.twimg.com/media/CT5PY90WoAAQGLo.jpg</td>\n",
       "      <td>1</td>\n",
       "      <td>shopping_cart</td>\n",
       "      <td>0.962465</td>\n",
       "      <td>False</td>\n",
       "      <td>shopping_basket</td>\n",
       "      <td>0.014594</td>\n",
       "      <td>False</td>\n",
       "      <td>golden_retriever</td>\n",
       "      <td>0.007959</td>\n",
       "      <td>True</td>\n",
       "      <td>golden_retriever</td>\n",
       "      <td>0.007959</td>\n",
       "    </tr>\n",
       "    <tr>\n",
       "      <th>9</th>\n",
       "      <td>666058600524156928</td>\n",
       "      <td>https://pbs.twimg.com/media/CT5Qw94XAAA_2dP.jpg</td>\n",
       "      <td>1</td>\n",
       "      <td>miniature_poodle</td>\n",
       "      <td>0.201493</td>\n",
       "      <td>True</td>\n",
       "      <td>komondor</td>\n",
       "      <td>0.192305</td>\n",
       "      <td>True</td>\n",
       "      <td>soft-coated_wheaten_terrier</td>\n",
       "      <td>0.082086</td>\n",
       "      <td>True</td>\n",
       "      <td>miniature_poodle</td>\n",
       "      <td>0.201493</td>\n",
       "    </tr>\n",
       "  </tbody>\n",
       "</table>\n",
       "</div>"
      ],
      "text/plain": [
       "             tweet_id                                          jpg_url  \\\n",
       "0  666020888022790149  https://pbs.twimg.com/media/CT4udn0WwAA0aMy.jpg   \n",
       "1  666029285002620928  https://pbs.twimg.com/media/CT42GRgUYAA5iDo.jpg   \n",
       "2  666033412701032449  https://pbs.twimg.com/media/CT4521TWwAEvMyu.jpg   \n",
       "3  666044226329800704  https://pbs.twimg.com/media/CT5Dr8HUEAA-lEu.jpg   \n",
       "4  666049248165822465  https://pbs.twimg.com/media/CT5IQmsXIAAKY4A.jpg   \n",
       "5  666050758794694657  https://pbs.twimg.com/media/CT5Jof1WUAEuVxN.jpg   \n",
       "6  666051853826850816  https://pbs.twimg.com/media/CT5KoJ1WoAAJash.jpg   \n",
       "7  666055525042405380  https://pbs.twimg.com/media/CT5N9tpXIAAifs1.jpg   \n",
       "8  666057090499244032  https://pbs.twimg.com/media/CT5PY90WoAAQGLo.jpg   \n",
       "9  666058600524156928  https://pbs.twimg.com/media/CT5Qw94XAAA_2dP.jpg   \n",
       "\n",
       "   img_num                      p1   p1_conf  p1_dog                  p2  \\\n",
       "0  1        Welsh_springer_spaniel  0.465074  True    collie               \n",
       "1  1        redbone                 0.506826  True    miniature_pinscher   \n",
       "2  1        German_shepherd         0.596461  True    malinois             \n",
       "3  1        Rhodesian_ridgeback     0.408143  True    redbone              \n",
       "4  1        miniature_pinscher      0.560311  True    Rottweiler           \n",
       "5  1        Bernese_mountain_dog    0.651137  True    English_springer     \n",
       "6  1        box_turtle              0.933012  False   mud_turtle           \n",
       "7  1        chow                    0.692517  True    Tibetan_mastiff      \n",
       "8  1        shopping_cart           0.962465  False   shopping_basket      \n",
       "9  1        miniature_poodle        0.201493  True    komondor             \n",
       "\n",
       "    p2_conf  p2_dog                           p3   p3_conf  p3_dog  \\\n",
       "0  0.156665  True    Shetland_sheepdog            0.061428  True     \n",
       "1  0.074192  True    Rhodesian_ridgeback          0.072010  True     \n",
       "2  0.138584  True    bloodhound                   0.116197  True     \n",
       "3  0.360687  True    miniature_pinscher           0.222752  True     \n",
       "4  0.243682  True    Doberman                     0.154629  True     \n",
       "5  0.263788  True    Greater_Swiss_Mountain_dog   0.016199  True     \n",
       "6  0.045885  False   terrapin                     0.017885  False    \n",
       "7  0.058279  True    fur_coat                     0.054449  False    \n",
       "8  0.014594  False   golden_retriever             0.007959  True     \n",
       "9  0.192305  True    soft-coated_wheaten_terrier  0.082086  True     \n",
       "\n",
       "                    breed  confidence  \n",
       "0  Welsh_springer_spaniel  0.465074    \n",
       "1  redbone                 0.506826    \n",
       "2  German_shepherd         0.596461    \n",
       "3  Rhodesian_ridgeback     0.408143    \n",
       "4  miniature_pinscher      0.560311    \n",
       "5  Bernese_mountain_dog    0.651137    \n",
       "6  none                    0.000000    \n",
       "7  chow                    0.692517    \n",
       "8  golden_retriever        0.007959    \n",
       "9  miniature_poodle        0.201493    "
      ]
     },
     "execution_count": 115,
     "metadata": {},
     "output_type": "execute_result"
    }
   ],
   "source": [
    "predictions_clean.head(10)"
   ]
  },
  {
   "cell_type": "markdown",
   "metadata": {},
   "source": [
    "##### Code - Part 2"
   ]
  },
  {
   "cell_type": "code",
   "execution_count": 116,
   "metadata": {},
   "outputs": [
    {
     "name": "stdout",
     "output_type": "stream",
     "text": [
      "<class 'pandas.core.frame.DataFrame'>\n",
      "Int64Index: 2074 entries, 0 to 2075\n",
      "Data columns (total 11 columns):\n",
      "tweet_id              2074 non-null int64\n",
      "timestamp             2074 non-null datetime64[ns, UTC]\n",
      "source                2074 non-null object\n",
      "text                  2074 non-null object\n",
      "expanded_urls         2074 non-null object\n",
      "rating_numerator      2074 non-null int64\n",
      "rating_denominator    2074 non-null int64\n",
      "name                  2074 non-null object\n",
      "stage                 2074 non-null category\n",
      "retweet_count         2074 non-null int64\n",
      "favorite_count        2074 non-null int64\n",
      "dtypes: category(1), datetime64[ns, UTC](1), int64(5), object(4)\n",
      "memory usage: 180.5+ KB\n"
     ]
    }
   ],
   "source": [
    "archive_clean.info()"
   ]
  },
  {
   "cell_type": "code",
   "execution_count": 117,
   "metadata": {},
   "outputs": [],
   "source": [
    "# merge the breed and confidence columns to archive\n",
    "mask_cols = ['tweet_id', 'breed', 'confidence']\n",
    "archive_clean = pd.merge(archive_clean, predictions_clean[mask_cols],\n",
    "                         on = 'tweet_id', how = 'inner')\n",
    "\n",
    "# change data type for the confidence interval to a rounded, whole integer (%)\n",
    "archive_clean.confidence = (archive_clean.confidence * 100).astype(int)\n",
    "\n",
    "# after the two columns are merged, we can drop them from the 'predictions' table\n",
    "predictions_clean.drop(['breed', 'confidence'], axis = 1, inplace = True)"
   ]
  },
  {
   "cell_type": "markdown",
   "metadata": {},
   "source": [
    "##### Test - Part 2"
   ]
  },
  {
   "cell_type": "code",
   "execution_count": 118,
   "metadata": {
    "scrolled": false
   },
   "outputs": [
    {
     "name": "stdout",
     "output_type": "stream",
     "text": [
      "<class 'pandas.core.frame.DataFrame'>\n",
      "Int64Index: 1951 entries, 0 to 1950\n",
      "Data columns (total 13 columns):\n",
      "tweet_id              1951 non-null int64\n",
      "timestamp             1951 non-null datetime64[ns, UTC]\n",
      "source                1951 non-null object\n",
      "text                  1951 non-null object\n",
      "expanded_urls         1951 non-null object\n",
      "rating_numerator      1951 non-null int64\n",
      "rating_denominator    1951 non-null int64\n",
      "name                  1951 non-null object\n",
      "stage                 1951 non-null category\n",
      "retweet_count         1951 non-null int64\n",
      "favorite_count        1951 non-null int64\n",
      "breed                 1951 non-null object\n",
      "confidence            1951 non-null int64\n",
      "dtypes: category(1), datetime64[ns, UTC](1), int64(6), object(5)\n",
      "memory usage: 200.2+ KB\n"
     ]
    }
   ],
   "source": [
    "archive_clean.info()"
   ]
  },
  {
   "cell_type": "code",
   "execution_count": 119,
   "metadata": {},
   "outputs": [
    {
     "data": {
      "text/html": [
       "<div>\n",
       "<style scoped>\n",
       "    .dataframe tbody tr th:only-of-type {\n",
       "        vertical-align: middle;\n",
       "    }\n",
       "\n",
       "    .dataframe tbody tr th {\n",
       "        vertical-align: top;\n",
       "    }\n",
       "\n",
       "    .dataframe thead th {\n",
       "        text-align: right;\n",
       "    }\n",
       "</style>\n",
       "<table border=\"1\" class=\"dataframe\">\n",
       "  <thead>\n",
       "    <tr style=\"text-align: right;\">\n",
       "      <th></th>\n",
       "      <th>tweet_id</th>\n",
       "      <th>timestamp</th>\n",
       "      <th>source</th>\n",
       "      <th>text</th>\n",
       "      <th>expanded_urls</th>\n",
       "      <th>rating_numerator</th>\n",
       "      <th>rating_denominator</th>\n",
       "      <th>name</th>\n",
       "      <th>stage</th>\n",
       "      <th>retweet_count</th>\n",
       "      <th>favorite_count</th>\n",
       "      <th>breed</th>\n",
       "      <th>confidence</th>\n",
       "    </tr>\n",
       "  </thead>\n",
       "  <tbody>\n",
       "    <tr>\n",
       "      <th>0</th>\n",
       "      <td>892420643555336193</td>\n",
       "      <td>2017-08-01 16:23:56+00:00</td>\n",
       "      <td>Twitter for iPhone</td>\n",
       "      <td>This is Phineas. He's a mystical boy. Only ever appears in the hole of a donut. 13/10 https://t.co/MgUWQ76dJU</td>\n",
       "      <td>https://twitter.com/dog_rates/status/892420643555336193/photo/1</td>\n",
       "      <td>13</td>\n",
       "      <td>10</td>\n",
       "      <td>Phineas</td>\n",
       "      <td>none</td>\n",
       "      <td>8330</td>\n",
       "      <td>38089</td>\n",
       "      <td>none</td>\n",
       "      <td>0</td>\n",
       "    </tr>\n",
       "    <tr>\n",
       "      <th>1</th>\n",
       "      <td>892177421306343426</td>\n",
       "      <td>2017-08-01 00:17:27+00:00</td>\n",
       "      <td>Twitter for iPhone</td>\n",
       "      <td>This is Tilly. She's just checking pup on you. Hopes you're doing ok. If not, she's available for pats, snugs, boops, the whole bit. 13/10 https://t.co/0Xxu71qeIV</td>\n",
       "      <td>https://twitter.com/dog_rates/status/892177421306343426/photo/1</td>\n",
       "      <td>13</td>\n",
       "      <td>10</td>\n",
       "      <td>Tilly</td>\n",
       "      <td>none</td>\n",
       "      <td>6154</td>\n",
       "      <td>32679</td>\n",
       "      <td>Chihuahua</td>\n",
       "      <td>32</td>\n",
       "    </tr>\n",
       "    <tr>\n",
       "      <th>2</th>\n",
       "      <td>891815181378084864</td>\n",
       "      <td>2017-07-31 00:18:03+00:00</td>\n",
       "      <td>Twitter for iPhone</td>\n",
       "      <td>This is Archie. He is a rare Norwegian Pouncing Corgo. Lives in the tall grass. You never know when one may strike. 12/10 https://t.co/wUnZnhtVJB</td>\n",
       "      <td>https://twitter.com/dog_rates/status/891815181378084864/photo/1</td>\n",
       "      <td>12</td>\n",
       "      <td>10</td>\n",
       "      <td>Archie</td>\n",
       "      <td>none</td>\n",
       "      <td>4073</td>\n",
       "      <td>24595</td>\n",
       "      <td>Chihuahua</td>\n",
       "      <td>71</td>\n",
       "    </tr>\n",
       "    <tr>\n",
       "      <th>3</th>\n",
       "      <td>891689557279858688</td>\n",
       "      <td>2017-07-30 15:58:51+00:00</td>\n",
       "      <td>Twitter for iPhone</td>\n",
       "      <td>This is Darla. She commenced a snooze mid meal. 13/10 happens to the best of us https://t.co/tD36da7qLQ</td>\n",
       "      <td>https://twitter.com/dog_rates/status/891689557279858688/photo/1</td>\n",
       "      <td>13</td>\n",
       "      <td>10</td>\n",
       "      <td>Darla</td>\n",
       "      <td>none</td>\n",
       "      <td>8474</td>\n",
       "      <td>41449</td>\n",
       "      <td>Labrador_retriever</td>\n",
       "      <td>16</td>\n",
       "    </tr>\n",
       "    <tr>\n",
       "      <th>4</th>\n",
       "      <td>891327558926688256</td>\n",
       "      <td>2017-07-29 16:00:24+00:00</td>\n",
       "      <td>Twitter for iPhone</td>\n",
       "      <td>This is Franklin. He would like you to stop calling him \"cute.\" He is a very fierce shark and should be respected as such. 12/10 #BarkWeek https://t.co/AtUZn91f7f</td>\n",
       "      <td>https://twitter.com/dog_rates/status/891327558926688256/photo/1,https://twitter.com/dog_rates/status/891327558926688256/photo/1</td>\n",
       "      <td>12</td>\n",
       "      <td>10</td>\n",
       "      <td>Franklin</td>\n",
       "      <td>none</td>\n",
       "      <td>9167</td>\n",
       "      <td>39623</td>\n",
       "      <td>basset</td>\n",
       "      <td>55</td>\n",
       "    </tr>\n",
       "  </tbody>\n",
       "</table>\n",
       "</div>"
      ],
      "text/plain": [
       "             tweet_id                 timestamp              source  \\\n",
       "0  892420643555336193 2017-08-01 16:23:56+00:00  Twitter for iPhone   \n",
       "1  892177421306343426 2017-08-01 00:17:27+00:00  Twitter for iPhone   \n",
       "2  891815181378084864 2017-07-31 00:18:03+00:00  Twitter for iPhone   \n",
       "3  891689557279858688 2017-07-30 15:58:51+00:00  Twitter for iPhone   \n",
       "4  891327558926688256 2017-07-29 16:00:24+00:00  Twitter for iPhone   \n",
       "\n",
       "                                                                                                                                                                 text  \\\n",
       "0  This is Phineas. He's a mystical boy. Only ever appears in the hole of a donut. 13/10 https://t.co/MgUWQ76dJU                                                        \n",
       "1  This is Tilly. She's just checking pup on you. Hopes you're doing ok. If not, she's available for pats, snugs, boops, the whole bit. 13/10 https://t.co/0Xxu71qeIV   \n",
       "2  This is Archie. He is a rare Norwegian Pouncing Corgo. Lives in the tall grass. You never know when one may strike. 12/10 https://t.co/wUnZnhtVJB                    \n",
       "3  This is Darla. She commenced a snooze mid meal. 13/10 happens to the best of us https://t.co/tD36da7qLQ                                                              \n",
       "4  This is Franklin. He would like you to stop calling him \"cute.\" He is a very fierce shark and should be respected as such. 12/10 #BarkWeek https://t.co/AtUZn91f7f   \n",
       "\n",
       "                                                                                                                     expanded_urls  \\\n",
       "0  https://twitter.com/dog_rates/status/892420643555336193/photo/1                                                                   \n",
       "1  https://twitter.com/dog_rates/status/892177421306343426/photo/1                                                                   \n",
       "2  https://twitter.com/dog_rates/status/891815181378084864/photo/1                                                                   \n",
       "3  https://twitter.com/dog_rates/status/891689557279858688/photo/1                                                                   \n",
       "4  https://twitter.com/dog_rates/status/891327558926688256/photo/1,https://twitter.com/dog_rates/status/891327558926688256/photo/1   \n",
       "\n",
       "   rating_numerator  rating_denominator      name stage  retweet_count  \\\n",
       "0  13                10                  Phineas   none  8330            \n",
       "1  13                10                  Tilly     none  6154            \n",
       "2  12                10                  Archie    none  4073            \n",
       "3  13                10                  Darla     none  8474            \n",
       "4  12                10                  Franklin  none  9167            \n",
       "\n",
       "   favorite_count               breed  confidence  \n",
       "0  38089           none                0           \n",
       "1  32679           Chihuahua           32          \n",
       "2  24595           Chihuahua           71          \n",
       "3  41449           Labrador_retriever  16          \n",
       "4  39623           basset              55          "
      ]
     },
     "execution_count": 119,
     "metadata": {},
     "output_type": "execute_result"
    }
   ],
   "source": [
    "archive_clean.head()"
   ]
  },
  {
   "cell_type": "code",
   "execution_count": 120,
   "metadata": {},
   "outputs": [
    {
     "data": {
      "text/plain": [
       "['tweet_id',\n",
       " 'jpg_url',\n",
       " 'img_num',\n",
       " 'p1',\n",
       " 'p1_conf',\n",
       " 'p1_dog',\n",
       " 'p2',\n",
       " 'p2_conf',\n",
       " 'p2_dog',\n",
       " 'p3',\n",
       " 'p3_conf',\n",
       " 'p3_dog']"
      ]
     },
     "execution_count": 120,
     "metadata": {},
     "output_type": "execute_result"
    }
   ],
   "source": [
    "list(predictions_clean)"
   ]
  },
  {
   "cell_type": "markdown",
   "metadata": {},
   "source": [
    "---\n",
    "<a id='clean_qj2'></a>\n",
    "<a id='clean_qp1'></a>\n",
    "### Quality `json_data` \\#2.  &  Quality `predictions` \\#1.\n",
    "We only want to keep tweets that have images.\n",
    "\n",
    "_**NOTE:** Both of these issues were resolved just above at the same time as for_ **Tidiness `predictions` \\#3**.\n",
    "\n",
    "##### Define\n",
    "> **Nothing to do here.**\n"
   ]
  },
  {
   "cell_type": "markdown",
   "metadata": {},
   "source": [
    "---\n",
    "<a id='clean_ta4'></a>\n",
    "### Tidiness `archive` #4.\n",
    "All values in the `rating_denominator` column are 10, so we don't need this column any more, and the `rating_numerator` column can be renamed `rating`.\n",
    "\n",
    "##### Define\n",
    "> - Drop the `rating_denominator` column.\n",
    "> - Rename the `rating_numerator` column to be `rating`.\n",
    "\n",
    "##### Code"
   ]
  },
  {
   "cell_type": "code",
   "execution_count": 121,
   "metadata": {},
   "outputs": [
    {
     "data": {
      "text/plain": [
       "10    1951\n",
       "Name: rating_denominator, dtype: int64"
      ]
     },
     "execution_count": 121,
     "metadata": {},
     "output_type": "execute_result"
    }
   ],
   "source": [
    "archive_clean.rating_denominator.value_counts()"
   ]
  },
  {
   "cell_type": "code",
   "execution_count": 122,
   "metadata": {},
   "outputs": [],
   "source": [
    "archive_clean.drop(['rating_denominator'], axis = 1, inplace = True)\n",
    "archive_clean.rename(index = str, columns = {'rating_numerator': 'rating'}, inplace = True)"
   ]
  },
  {
   "cell_type": "markdown",
   "metadata": {},
   "source": [
    "##### Test"
   ]
  },
  {
   "cell_type": "code",
   "execution_count": 123,
   "metadata": {},
   "outputs": [
    {
     "data": {
      "text/plain": [
       "['tweet_id',\n",
       " 'timestamp',\n",
       " 'source',\n",
       " 'text',\n",
       " 'expanded_urls',\n",
       " 'rating',\n",
       " 'name',\n",
       " 'stage',\n",
       " 'retweet_count',\n",
       " 'favorite_count',\n",
       " 'breed',\n",
       " 'confidence']"
      ]
     },
     "execution_count": 123,
     "metadata": {},
     "output_type": "execute_result"
    }
   ],
   "source": [
    "list(archive_clean)"
   ]
  },
  {
   "cell_type": "markdown",
   "metadata": {},
   "source": [
    "---\n",
    "<a id='clean_ta5'></a>\n",
    "### Tidiness `archive` \\#5.\n",
    "Columns with numerical data are located to the far right of the table, which makes it difficult to readily see the data that will be used for analyses.\n",
    "\n",
    "##### Define\n",
    "> - Reorder the column placement: bring numerical columns to the left.\n",
    "> - Drop the `expanded_urls` column.\n",
    "\n",
    "##### Code"
   ]
  },
  {
   "cell_type": "code",
   "execution_count": 124,
   "metadata": {
    "scrolled": true
   },
   "outputs": [
    {
     "name": "stdout",
     "output_type": "stream",
     "text": [
      "['tweet_id', 'timestamp', 'source', 'text', 'expanded_urls', 'rating', 'name', 'stage', 'retweet_count', 'favorite_count', 'breed', 'confidence']\n"
     ]
    }
   ],
   "source": [
    "col_list = list(archive_clean.columns)\n",
    "print(col_list)"
   ]
  },
  {
   "cell_type": "code",
   "execution_count": 125,
   "metadata": {},
   "outputs": [],
   "source": [
    "# set the columns in a new order\n",
    "col_list = ['tweet_id', 'timestamp', 'rating', 'retweet_count', 'favorite_count',\n",
    "            'breed', 'confidence', 'name', 'stage', 'source', 'text']\n",
    "\n",
    "archive_clean = archive_clean[col_list]"
   ]
  },
  {
   "cell_type": "markdown",
   "metadata": {},
   "source": [
    "##### Test"
   ]
  },
  {
   "cell_type": "code",
   "execution_count": 126,
   "metadata": {},
   "outputs": [
    {
     "data": {
      "text/html": [
       "<div>\n",
       "<style scoped>\n",
       "    .dataframe tbody tr th:only-of-type {\n",
       "        vertical-align: middle;\n",
       "    }\n",
       "\n",
       "    .dataframe tbody tr th {\n",
       "        vertical-align: top;\n",
       "    }\n",
       "\n",
       "    .dataframe thead th {\n",
       "        text-align: right;\n",
       "    }\n",
       "</style>\n",
       "<table border=\"1\" class=\"dataframe\">\n",
       "  <thead>\n",
       "    <tr style=\"text-align: right;\">\n",
       "      <th></th>\n",
       "      <th>tweet_id</th>\n",
       "      <th>timestamp</th>\n",
       "      <th>rating</th>\n",
       "      <th>retweet_count</th>\n",
       "      <th>favorite_count</th>\n",
       "      <th>breed</th>\n",
       "      <th>confidence</th>\n",
       "      <th>name</th>\n",
       "      <th>stage</th>\n",
       "      <th>source</th>\n",
       "      <th>text</th>\n",
       "    </tr>\n",
       "  </thead>\n",
       "  <tbody>\n",
       "    <tr>\n",
       "      <th>0</th>\n",
       "      <td>892420643555336193</td>\n",
       "      <td>2017-08-01 16:23:56+00:00</td>\n",
       "      <td>13</td>\n",
       "      <td>8330</td>\n",
       "      <td>38089</td>\n",
       "      <td>none</td>\n",
       "      <td>0</td>\n",
       "      <td>Phineas</td>\n",
       "      <td>none</td>\n",
       "      <td>Twitter for iPhone</td>\n",
       "      <td>This is Phineas. He's a mystical boy. Only ever appears in the hole of a donut. 13/10 https://t.co/MgUWQ76dJU</td>\n",
       "    </tr>\n",
       "    <tr>\n",
       "      <th>1</th>\n",
       "      <td>892177421306343426</td>\n",
       "      <td>2017-08-01 00:17:27+00:00</td>\n",
       "      <td>13</td>\n",
       "      <td>6154</td>\n",
       "      <td>32679</td>\n",
       "      <td>Chihuahua</td>\n",
       "      <td>32</td>\n",
       "      <td>Tilly</td>\n",
       "      <td>none</td>\n",
       "      <td>Twitter for iPhone</td>\n",
       "      <td>This is Tilly. She's just checking pup on you. Hopes you're doing ok. If not, she's available for pats, snugs, boops, the whole bit. 13/10 https://t.co/0Xxu71qeIV</td>\n",
       "    </tr>\n",
       "  </tbody>\n",
       "</table>\n",
       "</div>"
      ],
      "text/plain": [
       "             tweet_id                 timestamp  rating  retweet_count  \\\n",
       "0  892420643555336193 2017-08-01 16:23:56+00:00  13      8330            \n",
       "1  892177421306343426 2017-08-01 00:17:27+00:00  13      6154            \n",
       "\n",
       "   favorite_count      breed  confidence     name stage              source  \\\n",
       "0  38089           none       0           Phineas  none  Twitter for iPhone   \n",
       "1  32679           Chihuahua  32          Tilly    none  Twitter for iPhone   \n",
       "\n",
       "                                                                                                                                                                 text  \n",
       "0  This is Phineas. He's a mystical boy. Only ever appears in the hole of a donut. 13/10 https://t.co/MgUWQ76dJU                                                       \n",
       "1  This is Tilly. She's just checking pup on you. Hopes you're doing ok. If not, she's available for pats, snugs, boops, the whole bit. 13/10 https://t.co/0Xxu71qeIV  "
      ]
     },
     "execution_count": 126,
     "metadata": {},
     "output_type": "execute_result"
    }
   ],
   "source": [
    "archive_clean.head(2)"
   ]
  },
  {
   "cell_type": "markdown",
   "metadata": {},
   "source": [
    "---\n",
    "## Store Data\n",
    "The cleaned twitter archive data in `archive_clean` is ready for the analysis phase. The `predictions_clean` and `json_data_clean` tables have not been cleaned as they will not be used again. Now we store the `archive_clean` table into the 'twitter_archive_master.csv' file."
   ]
  },
  {
   "cell_type": "code",
   "execution_count": 127,
   "metadata": {},
   "outputs": [],
   "source": [
    "archive_clean.to_csv('twitter_archive_master.csv', index = False)"
   ]
  },
  {
   "cell_type": "code",
   "execution_count": 128,
   "metadata": {},
   "outputs": [
    {
     "name": "stdout",
     "output_type": "stream",
     "text": [
      "tweet_data_extra.csv  twitter-archive-enhanced.csv  twitter_archive_master.csv\r\n"
     ]
    }
   ],
   "source": [
    "ls *.csv"
   ]
  },
  {
   "cell_type": "markdown",
   "metadata": {},
   "source": [
    "---\n",
    "<a id='analyze'></a>\n",
    "## Analyze Data\n",
    "\n",
    "The following analyses, tables and plots, are created with the cleaned data from the previous section. The variables that are used primarily - rating, timestamp, retweet_count, favorite_count and breed - have all undergone cleaning to varying degrees."
   ]
  },
  {
   "cell_type": "code",
   "execution_count": 129,
   "metadata": {},
   "outputs": [],
   "source": [
    "# Set default display parameter for plots.\n",
    "plt.rcParams['figure.figsize'] = (8, 5)"
   ]
  },
  {
   "cell_type": "code",
   "execution_count": 130,
   "metadata": {},
   "outputs": [
    {
     "name": "stdout",
     "output_type": "stream",
     "text": [
      "<class 'pandas.core.frame.DataFrame'>\n",
      "Index: 1951 entries, 0 to 1950\n",
      "Data columns (total 11 columns):\n",
      "tweet_id          1951 non-null int64\n",
      "timestamp         1951 non-null datetime64[ns, UTC]\n",
      "rating            1951 non-null int64\n",
      "retweet_count     1951 non-null int64\n",
      "favorite_count    1951 non-null int64\n",
      "breed             1951 non-null object\n",
      "confidence        1951 non-null int64\n",
      "name              1951 non-null object\n",
      "stage             1951 non-null category\n",
      "source            1951 non-null object\n",
      "text              1951 non-null object\n",
      "dtypes: category(1), datetime64[ns, UTC](1), int64(5), object(4)\n",
      "memory usage: 169.8+ KB\n"
     ]
    }
   ],
   "source": [
    "# make a copy of the archive master table for analysis\n",
    "we_rate_dogs = archive_clean.copy()\n",
    "we_rate_dogs.info()"
   ]
  },
  {
   "cell_type": "code",
   "execution_count": 131,
   "metadata": {},
   "outputs": [
    {
     "data": {
      "text/plain": [
       "(Timestamp('2015-11-15 22:32:08+0000', tz='UTC'),\n",
       " Timestamp('2017-08-01 16:23:56+0000', tz='UTC'))"
      ]
     },
     "execution_count": 131,
     "metadata": {},
     "output_type": "execute_result"
    }
   ],
   "source": [
    "# time range for tweets\n",
    "we_rate_dogs.timestamp.min(), we_rate_dogs.timestamp.max()"
   ]
  },
  {
   "cell_type": "markdown",
   "metadata": {},
   "source": [
    "### Simple Statistics\n",
    "First some simple questions to ask about the WeRateDogs tweets:"
   ]
  },
  {
   "cell_type": "code",
   "execution_count": 132,
   "metadata": {},
   "outputs": [
    {
     "data": {
      "text/html": [
       "<div>\n",
       "<style scoped>\n",
       "    .dataframe tbody tr th:only-of-type {\n",
       "        vertical-align: middle;\n",
       "    }\n",
       "\n",
       "    .dataframe tbody tr th {\n",
       "        vertical-align: top;\n",
       "    }\n",
       "\n",
       "    .dataframe thead th {\n",
       "        text-align: right;\n",
       "    }\n",
       "</style>\n",
       "<table border=\"1\" class=\"dataframe\">\n",
       "  <thead>\n",
       "    <tr style=\"text-align: right;\">\n",
       "      <th></th>\n",
       "      <th>rating</th>\n",
       "      <th>retweet_count</th>\n",
       "      <th>favorite_count</th>\n",
       "      <th>confidence</th>\n",
       "    </tr>\n",
       "  </thead>\n",
       "  <tbody>\n",
       "    <tr>\n",
       "      <th>count</th>\n",
       "      <td>1951.000000</td>\n",
       "      <td>1951.000000</td>\n",
       "      <td>1951.000000</td>\n",
       "      <td>1951.000000</td>\n",
       "    </tr>\n",
       "    <tr>\n",
       "      <th>mean</th>\n",
       "      <td>10.538698</td>\n",
       "      <td>2677.820092</td>\n",
       "      <td>8819.283957</td>\n",
       "      <td>46.103024</td>\n",
       "    </tr>\n",
       "    <tr>\n",
       "      <th>std</th>\n",
       "      <td>2.175013</td>\n",
       "      <td>4775.448373</td>\n",
       "      <td>12923.497863</td>\n",
       "      <td>33.820024</td>\n",
       "    </tr>\n",
       "    <tr>\n",
       "      <th>min</th>\n",
       "      <td>0.000000</td>\n",
       "      <td>12.000000</td>\n",
       "      <td>80.000000</td>\n",
       "      <td>0.000000</td>\n",
       "    </tr>\n",
       "    <tr>\n",
       "      <th>25%</th>\n",
       "      <td>10.000000</td>\n",
       "      <td>592.000000</td>\n",
       "      <td>1874.000000</td>\n",
       "      <td>14.000000</td>\n",
       "    </tr>\n",
       "    <tr>\n",
       "      <th>50%</th>\n",
       "      <td>11.000000</td>\n",
       "      <td>1277.000000</td>\n",
       "      <td>3970.000000</td>\n",
       "      <td>45.000000</td>\n",
       "    </tr>\n",
       "    <tr>\n",
       "      <th>75%</th>\n",
       "      <td>12.000000</td>\n",
       "      <td>3058.500000</td>\n",
       "      <td>10986.500000</td>\n",
       "      <td>77.000000</td>\n",
       "    </tr>\n",
       "    <tr>\n",
       "      <th>max</th>\n",
       "      <td>14.000000</td>\n",
       "      <td>83795.000000</td>\n",
       "      <td>164524.000000</td>\n",
       "      <td>99.000000</td>\n",
       "    </tr>\n",
       "  </tbody>\n",
       "</table>\n",
       "</div>"
      ],
      "text/plain": [
       "            rating  retweet_count  favorite_count   confidence\n",
       "count  1951.000000  1951.000000    1951.000000     1951.000000\n",
       "mean   10.538698    2677.820092    8819.283957     46.103024  \n",
       "std    2.175013     4775.448373    12923.497863    33.820024  \n",
       "min    0.000000     12.000000      80.000000       0.000000   \n",
       "25%    10.000000    592.000000     1874.000000     14.000000  \n",
       "50%    11.000000    1277.000000    3970.000000     45.000000  \n",
       "75%    12.000000    3058.500000    10986.500000    77.000000  \n",
       "max    14.000000    83795.000000   164524.000000   99.000000  "
      ]
     },
     "execution_count": 132,
     "metadata": {},
     "output_type": "execute_result"
    }
   ],
   "source": [
    "we_rate_dogs[['rating', 'retweet_count', 'favorite_count', 'confidence']].describe()"
   ]
  },
  {
   "cell_type": "code",
   "execution_count": 133,
   "metadata": {},
   "outputs": [
    {
     "data": {
      "image/png": "[encoded data removed]",
      "text/plain": [
       "<Figure size 576x360 with 1 Axes>"
      ]
     },
     "metadata": {},
     "output_type": "display_data"
    }
   ],
   "source": [
    "we_rate_dogs['rating'].plot(kind = 'hist', bins = 15)\n",
    "\n",
    "plt.xlim(0, 15)\n",
    "plt.ylabel('Number of Tweets', fontsize = 14)\n",
    "plt.xlabel('Rating', fontsize = 14)\n",
    "plt.title('Distribution of Ratings', fontsize = 16)\n",
    "plt.show();"
   ]
  },
  {
   "cell_type": "markdown",
   "metadata": {},
   "source": [
    "The distribution of ratings is very skewed to the left. From the descriptive statistics above we see that 75% of all ratings are between 10 and 14 inclusive (the IQR is from 10 to 12)."
   ]
  },
  {
   "cell_type": "code",
   "execution_count": 134,
   "metadata": {},
   "outputs": [
    {
     "name": "stdout",
     "output_type": "stream",
     "text": [
      "Number of tweets with rating 10+:  1542\n",
      "Percentage of tweets:                79%\n"
     ]
    }
   ],
   "source": [
    "# Percentage of tweets with rating of 10 and up\n",
    "rating_10up_total = sum(we_rate_dogs.rating >= 10)\n",
    "rating_10up_perc = round(rating_10up_total * 100 / we_rate_dogs.shape[0])\n",
    "print(\"Number of tweets with rating 10+:  {}\".format(rating_10up_total))\n",
    "print(\"Percentage of tweets:                {}%\".format(round(rating_10up_perc, 3)))"
   ]
  },
  {
   "cell_type": "code",
   "execution_count": 135,
   "metadata": {},
   "outputs": [
    {
     "data": {
      "text/plain": [
       "0"
      ]
     },
     "execution_count": 135,
     "metadata": {},
     "output_type": "execute_result"
    }
   ],
   "source": [
    "# How many tweets have favorite count <= retweet count?\n",
    "sum(we_rate_dogs.favorite_count <= we_rate_dogs.retweet_count)"
   ]
  },
  {
   "cell_type": "markdown",
   "metadata": {},
   "source": [
    "#### What is the most favourited tweet to date? Top 5?"
   ]
  },
  {
   "cell_type": "code",
   "execution_count": 136,
   "metadata": {},
   "outputs": [
    {
     "data": {
      "text/html": [
       "<div>\n",
       "<style scoped>\n",
       "    .dataframe tbody tr th:only-of-type {\n",
       "        vertical-align: middle;\n",
       "    }\n",
       "\n",
       "    .dataframe tbody tr th {\n",
       "        vertical-align: top;\n",
       "    }\n",
       "\n",
       "    .dataframe thead th {\n",
       "        text-align: right;\n",
       "    }\n",
       "</style>\n",
       "<table border=\"1\" class=\"dataframe\">\n",
       "  <thead>\n",
       "    <tr style=\"text-align: right;\">\n",
       "      <th></th>\n",
       "      <th>tweet_id</th>\n",
       "      <th>timestamp</th>\n",
       "      <th>rating</th>\n",
       "      <th>retweet_count</th>\n",
       "      <th>favorite_count</th>\n",
       "      <th>breed</th>\n",
       "      <th>confidence</th>\n",
       "      <th>name</th>\n",
       "      <th>stage</th>\n",
       "      <th>source</th>\n",
       "      <th>text</th>\n",
       "    </tr>\n",
       "  </thead>\n",
       "  <tbody>\n",
       "    <tr>\n",
       "      <th>762</th>\n",
       "      <td>744234799360020481</td>\n",
       "      <td>2016-06-18 18:26:18+00:00</td>\n",
       "      <td>13</td>\n",
       "      <td>83795</td>\n",
       "      <td>164524</td>\n",
       "      <td>Labrador_retriever</td>\n",
       "      <td>82</td>\n",
       "      <td>None</td>\n",
       "      <td>doggo</td>\n",
       "      <td>Twitter for iPhone</td>\n",
       "      <td>Here's a doggo realizing you can stand in a pool. 13/10 enlightened af (vid by Tina Conrad) https://t.co/7wE9LTEXC4</td>\n",
       "    </tr>\n",
       "    <tr>\n",
       "      <th>306</th>\n",
       "      <td>822872901745569793</td>\n",
       "      <td>2017-01-21 18:26:02+00:00</td>\n",
       "      <td>13</td>\n",
       "      <td>47772</td>\n",
       "      <td>140616</td>\n",
       "      <td>Lakeland_terrier</td>\n",
       "      <td>19</td>\n",
       "      <td>None</td>\n",
       "      <td>puppo</td>\n",
       "      <td>Twitter for iPhone</td>\n",
       "      <td>Here's a super supportive puppo participating in the Toronto  #WomensMarch today. 13/10 https://t.co/nTz3FtorBc</td>\n",
       "    </tr>\n",
       "    <tr>\n",
       "      <th>395</th>\n",
       "      <td>807106840509214720</td>\n",
       "      <td>2016-12-09 06:17:20+00:00</td>\n",
       "      <td>13</td>\n",
       "      <td>61068</td>\n",
       "      <td>127238</td>\n",
       "      <td>Chihuahua</td>\n",
       "      <td>50</td>\n",
       "      <td>Stephan</td>\n",
       "      <td>none</td>\n",
       "      <td>Twitter for iPhone</td>\n",
       "      <td>This is Stephan. He just wants to help. 13/10 such a good boy https://t.co/DkBYaCAg2d</td>\n",
       "    </tr>\n",
       "    <tr>\n",
       "      <th>108</th>\n",
       "      <td>866450705531457537</td>\n",
       "      <td>2017-05-22 00:28:40+00:00</td>\n",
       "      <td>13</td>\n",
       "      <td>35492</td>\n",
       "      <td>122083</td>\n",
       "      <td>French_bulldog</td>\n",
       "      <td>90</td>\n",
       "      <td>Jamesy</td>\n",
       "      <td>pupper</td>\n",
       "      <td>Twitter for iPhone</td>\n",
       "      <td>This is Jamesy. He gives a kiss to every other pupper he sees on his walk. 13/10 such passion, much tender https://t.co/wk7TfysWHr</td>\n",
       "    </tr>\n",
       "    <tr>\n",
       "      <th>797</th>\n",
       "      <td>739238157791694849</td>\n",
       "      <td>2016-06-04 23:31:25+00:00</td>\n",
       "      <td>13</td>\n",
       "      <td>62062</td>\n",
       "      <td>121530</td>\n",
       "      <td>Eskimo_dog</td>\n",
       "      <td>50</td>\n",
       "      <td>None</td>\n",
       "      <td>doggo</td>\n",
       "      <td>Twitter for iPhone</td>\n",
       "      <td>Here's a doggo blowing bubbles. It's downright legendary. 13/10 would watch on repeat forever (vid by Kent Duryee) https://t.co/YcXgHfp1EC</td>\n",
       "    </tr>\n",
       "  </tbody>\n",
       "</table>\n",
       "</div>"
      ],
      "text/plain": [
       "               tweet_id                 timestamp  rating  retweet_count  \\\n",
       "762  744234799360020481 2016-06-18 18:26:18+00:00  13      83795           \n",
       "306  822872901745569793 2017-01-21 18:26:02+00:00  13      47772           \n",
       "395  807106840509214720 2016-12-09 06:17:20+00:00  13      61068           \n",
       "108  866450705531457537 2017-05-22 00:28:40+00:00  13      35492           \n",
       "797  739238157791694849 2016-06-04 23:31:25+00:00  13      62062           \n",
       "\n",
       "     favorite_count               breed  confidence     name   stage  \\\n",
       "762  164524          Labrador_retriever  82          None     doggo    \n",
       "306  140616          Lakeland_terrier    19          None     puppo    \n",
       "395  127238          Chihuahua           50          Stephan  none     \n",
       "108  122083          French_bulldog      90          Jamesy   pupper   \n",
       "797  121530          Eskimo_dog          50          None     doggo    \n",
       "\n",
       "                 source  \\\n",
       "762  Twitter for iPhone   \n",
       "306  Twitter for iPhone   \n",
       "395  Twitter for iPhone   \n",
       "108  Twitter for iPhone   \n",
       "797  Twitter for iPhone   \n",
       "\n",
       "                                                                                                                                           text  \n",
       "762  Here's a doggo realizing you can stand in a pool. 13/10 enlightened af (vid by Tina Conrad) https://t.co/7wE9LTEXC4                         \n",
       "306  Here's a super supportive puppo participating in the Toronto  #WomensMarch today. 13/10 https://t.co/nTz3FtorBc                             \n",
       "395  This is Stephan. He just wants to help. 13/10 such a good boy https://t.co/DkBYaCAg2d                                                       \n",
       "108  This is Jamesy. He gives a kiss to every other pupper he sees on his walk. 13/10 such passion, much tender https://t.co/wk7TfysWHr          \n",
       "797  Here's a doggo blowing bubbles. It's downright legendary. 13/10 would watch on repeat forever (vid by Kent Duryee) https://t.co/YcXgHfp1EC  "
      ]
     },
     "execution_count": 136,
     "metadata": {},
     "output_type": "execute_result"
    }
   ],
   "source": [
    "we_rate_dogs.sort_values(by = 'favorite_count', ascending = False).head(5)"
   ]
  },
  {
   "cell_type": "markdown",
   "metadata": {},
   "source": [
    "#### What is the most retweeted tweet to date? Top 5."
   ]
  },
  {
   "cell_type": "code",
   "execution_count": 137,
   "metadata": {},
   "outputs": [
    {
     "data": {
      "text/html": [
       "<div>\n",
       "<style scoped>\n",
       "    .dataframe tbody tr th:only-of-type {\n",
       "        vertical-align: middle;\n",
       "    }\n",
       "\n",
       "    .dataframe tbody tr th {\n",
       "        vertical-align: top;\n",
       "    }\n",
       "\n",
       "    .dataframe thead th {\n",
       "        text-align: right;\n",
       "    }\n",
       "</style>\n",
       "<table border=\"1\" class=\"dataframe\">\n",
       "  <thead>\n",
       "    <tr style=\"text-align: right;\">\n",
       "      <th></th>\n",
       "      <th>tweet_id</th>\n",
       "      <th>timestamp</th>\n",
       "      <th>rating</th>\n",
       "      <th>retweet_count</th>\n",
       "      <th>favorite_count</th>\n",
       "      <th>breed</th>\n",
       "      <th>confidence</th>\n",
       "      <th>name</th>\n",
       "      <th>stage</th>\n",
       "      <th>source</th>\n",
       "      <th>text</th>\n",
       "    </tr>\n",
       "  </thead>\n",
       "  <tbody>\n",
       "    <tr>\n",
       "      <th>762</th>\n",
       "      <td>744234799360020481</td>\n",
       "      <td>2016-06-18 18:26:18+00:00</td>\n",
       "      <td>13</td>\n",
       "      <td>83795</td>\n",
       "      <td>164524</td>\n",
       "      <td>Labrador_retriever</td>\n",
       "      <td>82</td>\n",
       "      <td>None</td>\n",
       "      <td>doggo</td>\n",
       "      <td>Twitter for iPhone</td>\n",
       "      <td>Here's a doggo realizing you can stand in a pool. 13/10 enlightened af (vid by Tina Conrad) https://t.co/7wE9LTEXC4</td>\n",
       "    </tr>\n",
       "    <tr>\n",
       "      <th>797</th>\n",
       "      <td>739238157791694849</td>\n",
       "      <td>2016-06-04 23:31:25+00:00</td>\n",
       "      <td>13</td>\n",
       "      <td>62062</td>\n",
       "      <td>121530</td>\n",
       "      <td>Eskimo_dog</td>\n",
       "      <td>50</td>\n",
       "      <td>None</td>\n",
       "      <td>doggo</td>\n",
       "      <td>Twitter for iPhone</td>\n",
       "      <td>Here's a doggo blowing bubbles. It's downright legendary. 13/10 would watch on repeat forever (vid by Kent Duryee) https://t.co/YcXgHfp1EC</td>\n",
       "    </tr>\n",
       "    <tr>\n",
       "      <th>395</th>\n",
       "      <td>807106840509214720</td>\n",
       "      <td>2016-12-09 06:17:20+00:00</td>\n",
       "      <td>13</td>\n",
       "      <td>61068</td>\n",
       "      <td>127238</td>\n",
       "      <td>Chihuahua</td>\n",
       "      <td>50</td>\n",
       "      <td>Stephan</td>\n",
       "      <td>none</td>\n",
       "      <td>Twitter for iPhone</td>\n",
       "      <td>This is Stephan. He just wants to help. 13/10 such a good boy https://t.co/DkBYaCAg2d</td>\n",
       "    </tr>\n",
       "    <tr>\n",
       "      <th>306</th>\n",
       "      <td>822872901745569793</td>\n",
       "      <td>2017-01-21 18:26:02+00:00</td>\n",
       "      <td>13</td>\n",
       "      <td>47772</td>\n",
       "      <td>140616</td>\n",
       "      <td>Lakeland_terrier</td>\n",
       "      <td>19</td>\n",
       "      <td>None</td>\n",
       "      <td>puppo</td>\n",
       "      <td>Twitter for iPhone</td>\n",
       "      <td>Here's a super supportive puppo participating in the Toronto  #WomensMarch today. 13/10 https://t.co/nTz3FtorBc</td>\n",
       "    </tr>\n",
       "    <tr>\n",
       "      <th>58</th>\n",
       "      <td>879415818425184262</td>\n",
       "      <td>2017-06-26 19:07:24+00:00</td>\n",
       "      <td>13</td>\n",
       "      <td>43498</td>\n",
       "      <td>104162</td>\n",
       "      <td>English_springer</td>\n",
       "      <td>38</td>\n",
       "      <td>Duddles</td>\n",
       "      <td>none</td>\n",
       "      <td>Twitter for iPhone</td>\n",
       "      <td>This is Duddles. He did an attempt. 13/10 someone help him (vid by Georgia Felici) https://t.co/UDT7ZkcTgY</td>\n",
       "    </tr>\n",
       "  </tbody>\n",
       "</table>\n",
       "</div>"
      ],
      "text/plain": [
       "               tweet_id                 timestamp  rating  retweet_count  \\\n",
       "762  744234799360020481 2016-06-18 18:26:18+00:00  13      83795           \n",
       "797  739238157791694849 2016-06-04 23:31:25+00:00  13      62062           \n",
       "395  807106840509214720 2016-12-09 06:17:20+00:00  13      61068           \n",
       "306  822872901745569793 2017-01-21 18:26:02+00:00  13      47772           \n",
       "58   879415818425184262 2017-06-26 19:07:24+00:00  13      43498           \n",
       "\n",
       "     favorite_count               breed  confidence     name  stage  \\\n",
       "762  164524          Labrador_retriever  82          None     doggo   \n",
       "797  121530          Eskimo_dog          50          None     doggo   \n",
       "395  127238          Chihuahua           50          Stephan  none    \n",
       "306  140616          Lakeland_terrier    19          None     puppo   \n",
       "58   104162          English_springer    38          Duddles  none    \n",
       "\n",
       "                 source  \\\n",
       "762  Twitter for iPhone   \n",
       "797  Twitter for iPhone   \n",
       "395  Twitter for iPhone   \n",
       "306  Twitter for iPhone   \n",
       "58   Twitter for iPhone   \n",
       "\n",
       "                                                                                                                                           text  \n",
       "762  Here's a doggo realizing you can stand in a pool. 13/10 enlightened af (vid by Tina Conrad) https://t.co/7wE9LTEXC4                         \n",
       "797  Here's a doggo blowing bubbles. It's downright legendary. 13/10 would watch on repeat forever (vid by Kent Duryee) https://t.co/YcXgHfp1EC  \n",
       "395  This is Stephan. He just wants to help. 13/10 such a good boy https://t.co/DkBYaCAg2d                                                       \n",
       "306  Here's a super supportive puppo participating in the Toronto  #WomensMarch today. 13/10 https://t.co/nTz3FtorBc                             \n",
       "58   This is Duddles. He did an attempt. 13/10 someone help him (vid by Georgia Felici) https://t.co/UDT7ZkcTgY                                  "
      ]
     },
     "execution_count": 137,
     "metadata": {},
     "output_type": "execute_result"
    }
   ],
   "source": [
    "we_rate_dogs.sort_values(by = 'retweet_count', ascending = False).head(5)"
   ]
  },
  {
   "cell_type": "markdown",
   "metadata": {},
   "source": [
    "There are 4 tweets that are in the top 5 for both variables, but the most popular tweet is also the _same_ as the most retweeted tweet; it has been retweeted over 83,000 times and favourited over 164,000 times! "
   ]
  },
  {
   "cell_type": "markdown",
   "metadata": {},
   "source": [
    "#### What is the most common stage?"
   ]
  },
  {
   "cell_type": "code",
   "execution_count": 138,
   "metadata": {},
   "outputs": [
    {
     "data": {
      "text/plain": [
       "none       1649\n",
       "pupper     200 \n",
       "doggo      71  \n",
       "puppo      23  \n",
       "floofer    8   \n",
       "Name: stage, dtype: int64"
      ]
     },
     "execution_count": 138,
     "metadata": {},
     "output_type": "execute_result"
    }
   ],
   "source": [
    "we_rate_dogs.stage.value_counts()"
   ]
  },
  {
   "cell_type": "code",
   "execution_count": 139,
   "metadata": {},
   "outputs": [
    {
     "name": "stdout",
     "output_type": "stream",
     "text": [
      "Number of tweets WITH stage:  302\n",
      "Percentage of tweets:          15%\n"
     ]
    }
   ],
   "source": [
    "with_stage_sum = sum(we_rate_dogs.stage != 'none')\n",
    "tweets_with_stage = round(with_stage_sum * 100 / we_rate_dogs.shape[0])\n",
    "print(\"Number of tweets WITH stage:  {}\".format(with_stage_sum))\n",
    "print(\"Percentage of tweets:          {}%\".format(round(tweets_with_stage, 3)))"
   ]
  },
  {
   "cell_type": "markdown",
   "metadata": {},
   "source": [
    "Only a small proportion of tweets with dog stages identified."
   ]
  },
  {
   "cell_type": "markdown",
   "metadata": {},
   "source": [
    "#### What are the 10 most common breeds of dogs tweeted about? (Excluding the category 'none'.)"
   ]
  },
  {
   "cell_type": "code",
   "execution_count": 140,
   "metadata": {},
   "outputs": [
    {
     "name": "stdout",
     "output_type": "stream",
     "text": [
      "Number of tweets with 'none' predicted breed:  302 (15%)\n",
      "Number of distinct breeds:  113\n"
     ]
    }
   ],
   "source": [
    "str = \"Number of tweets with 'none' predicted breed:  {} ({}%)\"\n",
    "none_count = sum(we_rate_dogs.breed == 'none')\n",
    "none_perc = none_count * 100 / we_rate_dogs.shape[0]\n",
    "print(str.format(none_count, round(none_perc)))\n",
    "\n",
    "str = \"Number of distinct breeds:  {}\"\n",
    "print(str.format(len(we_rate_dogs.breed.unique())))"
   ]
  },
  {
   "cell_type": "code",
   "execution_count": 141,
   "metadata": {},
   "outputs": [
    {
     "name": "stdout",
     "output_type": "stream",
     "text": [
      "Breed and number of tweets\n",
      "--------------------------\n",
      "golden_retriever      154\n",
      "Labrador_retriever    103\n",
      "Pembroke              94 \n",
      "Chihuahua             90 \n",
      "pug                   62 \n",
      "toy_poodle            50 \n",
      "chow                  47 \n",
      "Samoyed               41 \n",
      "Pomeranian            40 \n",
      "malamute              33 \n",
      "Name: breed, dtype: int64\n",
      "\n",
      "Top 10 dog breeds make up 37% of all tweets\n"
     ]
    }
   ],
   "source": [
    "top10_breeds_count = \\\n",
    "we_rate_dogs[we_rate_dogs.breed != 'none'].breed.value_counts().head(10)\n",
    "print(\"Breed and number of tweets\")\n",
    "print(\"--------------------------\")\n",
    "print(top10_breeds_count)\n",
    "\n",
    "top10_per = round(sum(top10_breeds_count) * 100 / we_rate_dogs.shape[0])\n",
    "print(\"\\nTop 10 dog breeds make up {}% of all tweets\".format(top10_per))"
   ]
  },
  {
   "cell_type": "code",
   "execution_count": 142,
   "metadata": {
    "scrolled": true
   },
   "outputs": [
    {
     "data": {
      "image/png": "[encoded data removed]",
      "text/plain": [
       "<Figure size 576x360 with 1 Axes>"
      ]
     },
     "metadata": {},
     "output_type": "display_data"
    }
   ],
   "source": [
    "plt.barh(top10_breeds_count.index, top10_breeds_count)\n",
    "\n",
    "plt.xlabel('Number of Tweets', fontsize = 14)\n",
    "# plt.ylabel('Dog Breed', fontsize = 14)\n",
    "plt.title('Top 10 Dog Breeds by Tweet Count', fontsize = 16)\n",
    "plt.gca().invert_yaxis()\n",
    "plt.show();"
   ]
  },
  {
   "cell_type": "markdown",
   "metadata": {},
   "source": [
    "### Bivariate Analysis"
   ]
  },
  {
   "cell_type": "code",
   "execution_count": 143,
   "metadata": {},
   "outputs": [
    {
     "data": {
      "image/png": "[encoded data removed]",
      "text/plain": [
       "<Figure size 720x720 with 20 Axes>"
      ]
     },
     "metadata": {},
     "output_type": "display_data"
    }
   ],
   "source": [
    "sns.pairplot(we_rate_dogs, \n",
    "             vars = ['rating', 'retweet_count', 'favorite_count', 'confidence'], \n",
    "             diag_kind = 'kde', plot_kws = {'alpha': 0.2});"
   ]
  },
  {
   "cell_type": "markdown",
   "metadata": {},
   "source": [
    "#### What dog breeds have the highest overall favourite counts?"
   ]
  },
  {
   "cell_type": "code",
   "execution_count": 144,
   "metadata": {},
   "outputs": [
    {
     "data": {
      "text/plain": [
       "breed\n",
       "golden_retriever      1887444\n",
       "Labrador_retriever    1241894\n",
       "Pembroke              1017644\n",
       "Chihuahua             755370 \n",
       "French_bulldog        589850 \n",
       "Samoyed               543358 \n",
       "chow                  436997 \n",
       "cocker_spaniel        398924 \n",
       "pug                   368502 \n",
       "malamute              344208 \n",
       "Name: favorite_count, dtype: int64"
      ]
     },
     "execution_count": 144,
     "metadata": {},
     "output_type": "execute_result"
    }
   ],
   "source": [
    "fav_counts_breed = we_rate_dogs[we_rate_dogs.breed != 'none']\n",
    "fav_counts_breed = fav_counts_breed.groupby(['breed'])\n",
    "fav_counts_breed = fav_counts_breed['favorite_count'].sum()\n",
    "fav_counts_breed = fav_counts_breed.sort_values(ascending = False)\n",
    "top10_breeds_fav_counts = fav_counts_breed.head(10)\n",
    "top10_breeds_fav_counts"
   ]
  },
  {
   "cell_type": "code",
   "execution_count": 145,
   "metadata": {},
   "outputs": [
    {
     "data": {
      "image/png": "[encoded data removed]",
      "text/plain": [
       "<Figure size 576x360 with 1 Axes>"
      ]
     },
     "metadata": {},
     "output_type": "display_data"
    }
   ],
   "source": [
    "plt.barh(top10_breeds_fav_counts.index, top10_breeds_fav_counts, color = 'g')\n",
    "\n",
    "plt.xlabel('Aggregate Favorite Count', fontsize = 14)\n",
    "# plt.ylabel('Dog Breed', fontsize = 12)\n",
    "plt.title('Top 10 Dog Breeds by Aggregate Favorite Count', fontsize = 16)\n",
    "plt.gca().invert_yaxis()\n",
    "plt.show();"
   ]
  },
  {
   "cell_type": "code",
   "execution_count": 146,
   "metadata": {},
   "outputs": [
    {
     "data": {
      "text/plain": [
       "['Labrador_retriever',\n",
       " 'Samoyed',\n",
       " 'Pembroke',\n",
       " 'chow',\n",
       " 'pug',\n",
       " 'golden_retriever',\n",
       " 'Chihuahua',\n",
       " 'malamute']"
      ]
     },
     "execution_count": 146,
     "metadata": {},
     "output_type": "execute_result"
    }
   ],
   "source": [
    "list(set(top10_breeds_count.index) & set(top10_breeds_fav_counts.index))"
   ]
  },
  {
   "cell_type": "markdown",
   "metadata": {},
   "source": [
    "#### How are ratings distributed within each of the dog breeds with highest favourite counts?"
   ]
  },
  {
   "cell_type": "code",
   "execution_count": 147,
   "metadata": {},
   "outputs": [
    {
     "data": {
      "image/png": "[encoded data removed]",
      "text/plain": [
       "<Figure size 1008x648 with 1 Axes>"
      ]
     },
     "metadata": {},
     "output_type": "display_data"
    }
   ],
   "source": [
    "plt.figure(figsize = (14, 9))\n",
    "bplot = sns.boxplot(y = 'breed', x = 'rating',\n",
    "                    data = we_rate_dogs,\n",
    "                    orient = 'h',\n",
    "                    width = 0.5,\n",
    "                    palette = \"colorblind\",\n",
    "                    order = top10_breeds_fav_counts.index.tolist())\n",
    "plt.xlim(0, 16)\n",
    "\n",
    "# title and labels\n",
    "plt.suptitle('Ratings for Top 10 Dog Breeds (by Aggregate Favorite Count)', fontsize = 18)\n",
    "plt.title('Distribution within Breeds', fontsize = 16)\n",
    "plt.ylabel(\"Breed\",  fontsize = 14)\n",
    "plt.xlabel('Rating',  fontsize = 14)\n",
    "# plt.yticks(rotation = 60,  fontsize = 12)\n",
    "plt.show()"
   ]
  },
  {
   "cell_type": "markdown",
   "metadata": {},
   "source": [
    "The boxplot here shows the distribution of ratings within each of the top 10 dog breeds as ranked by aggregate favourite count. All the breeds range between 7 and 13, with a only a few outliers, while four of the breeds have the lower ratings at 10. Another four breeds have the highest ratings at 14."
   ]
  },
  {
   "cell_type": "markdown",
   "metadata": {},
   "source": [
    "#### How are tweet ratings distributed by day?"
   ]
  },
  {
   "cell_type": "code",
   "execution_count": 148,
   "metadata": {},
   "outputs": [],
   "source": [
    "# Add random amount of float between [0.0:0.7) to input x\n",
    "def jitter(x):\n",
    "    random.seed()\n",
    "    return x + random.uniform(0, 0.7)"
   ]
  },
  {
   "cell_type": "code",
   "execution_count": 149,
   "metadata": {},
   "outputs": [],
   "source": [
    "# Return the number of days from a timedelta object x\n",
    "def days_from_start(x):\n",
    "    return x.days\n",
    "\n",
    "# start date\n",
    "first_day = we_rate_dogs.timestamp.min()\n",
    "\n",
    "# array with days corresponding to timestamp\n",
    "we_rate_dogs_days = (we_rate_dogs.timestamp - first_day).apply(days_from_start)"
   ]
  },
  {
   "cell_type": "code",
   "execution_count": 150,
   "metadata": {},
   "outputs": [
    {
     "data": {
      "image/png": "[encoded data removed]",
      "text/plain": [
       "<Figure size 1008x648 with 1 Axes>"
      ]
     },
     "metadata": {},
     "output_type": "display_data"
    }
   ],
   "source": [
    "plt.figure(figsize = (14, 9))\n",
    "\n",
    "# add jitter to the rating so it's not so cluttered on each line\n",
    "rating_jitter = we_rate_dogs.rating.apply(jitter)\n",
    "\n",
    "plt.scatter(we_rate_dogs_days, rating_jitter, s = 10, alpha = 0.6)\n",
    "\n",
    "# title and labels\n",
    "plt.suptitle('Daily Tweets by Rating', fontsize = 18)\n",
    "plt.title('(Jitter added to points for clarity)', fontsize = 14)\n",
    "\n",
    "plt.xlabel('Days From Beginning', fontsize = 14)\n",
    "plt.ylabel('Rating', fontsize = 14)\n",
    "\n",
    "# add the line at 10 for reference; ratings are out of 10\n",
    "plt.axhline(y = 10, color = 'r')\n",
    "plt.ylim(0, 16)\n",
    "\n",
    "plt.show();"
   ]
  },
  {
   "cell_type": "markdown",
   "metadata": {},
   "source": [
    "The plot here has the tweet ratings by day, showing how the ratings are generally over 10 in the latter half of the time period, after the account has been running for 300 days."
   ]
  },
  {
   "cell_type": "markdown",
   "metadata": {},
   "source": [
    "### Multivariate Analysis\n",
    "#### Relationship between favourite and retweet counts with dog rating as colour."
   ]
  },
  {
   "cell_type": "code",
   "execution_count": 151,
   "metadata": {},
   "outputs": [
    {
     "data": {
      "image/png": "[encoded data removed]",
      "text/plain": [
       "<Figure size 1008x864 with 2 Axes>"
      ]
     },
     "metadata": {},
     "output_type": "display_data"
    }
   ],
   "source": [
    "# Adapted from an answer from: \n",
    "# https://stackoverflow.com/questions/25741214/how-to-use-colormaps-to-color-plots-of-pandas-dataframes\n",
    "# -------------------------------------------------------------------------\n",
    "\n",
    "df = we_rate_dogs\n",
    "\n",
    "cmap = cm.get_cmap('Spectral') # Colour map (there are many others)\n",
    "plt.figure(figsize = (14, 12))\n",
    "\n",
    "plt.xscale('log')\n",
    "plt.yscale('log')\n",
    "plt.xlim(df['favorite_count'].min() - 10, df['favorite_count'].max() + 100000)\n",
    "plt.ylim(10, df['retweet_count'].max() + 25000)\n",
    "colours = df['rating']\n",
    "markers = 25\n",
    "\n",
    "plt.scatter(df['favorite_count'], df['retweet_count'], \n",
    "            c = colours, s = markers, cmap = cmap, edgecolor = 'None', alpha = 0.6)\n",
    "\n",
    "# title and labels\n",
    "plt.suptitle('Favorite Count vs. Retweet Count (Log10 Scale)', fontsize = 16)\n",
    "plt.title('with Rating for colour of marker', fontsize = 14)\n",
    "plt.xlabel('Favorite Count (log10)', fontsize = 14)\n",
    "plt.ylabel('Retweet Count (log10)', fontsize = 14)\n",
    "\n",
    "# colour bar\n",
    "cbar = plt.colorbar()\n",
    "cbar.set_label('Rating')\n",
    "\n",
    "plt.show();"
   ]
  },
  {
   "cell_type": "markdown",
   "metadata": {},
   "source": [
    "#### Favourite counts over time, with dog rating as colour."
   ]
  },
  {
   "cell_type": "code",
   "execution_count": 152,
   "metadata": {},
   "outputs": [
    {
     "data": {
      "image/png": "[encoded data removed]",
      "text/plain": [
       "<Figure size 1008x720 with 2 Axes>"
      ]
     },
     "metadata": {},
     "output_type": "display_data"
    }
   ],
   "source": [
    "# Adapted from an answer from: \n",
    "# https://stackoverflow.com/questions/25741214/how-to-use-colormaps-to-color-plots-of-pandas-dataframes\n",
    "# -------------------------------------------------------------------------\n",
    "\n",
    "cmap = cm.get_cmap('Spectral') # Colour map (there are many others)\n",
    "plt.figure(figsize = (14, 10))\n",
    "\n",
    "plt.yscale('log')\n",
    "plt.ylim(we_rate_dogs['favorite_count'].min() - 10, \n",
    "         we_rate_dogs['favorite_count'].max() + 100000)\n",
    "colours = we_rate_dogs['rating']\n",
    "markers = 25\n",
    "\n",
    "plt.scatter(we_rate_dogs_days, we_rate_dogs['favorite_count'], \n",
    "            c = colours, s = markers, cmap = cmap, edgecolor = 'None', alpha = 0.7)\n",
    "\n",
    "# title and labels\n",
    "plt.suptitle('Daily Tweets by Favorite Count (Log10 Scale)', fontsize = 16)\n",
    "plt.title('with Rating for colour of marker', fontsize = 14)\n",
    "plt.xlabel('Days From Beginning', fontsize = 14)\n",
    "plt.ylabel('Favorite Count (log10)', fontsize = 14)\n",
    "\n",
    "cbar = plt.colorbar()\n",
    "cbar.set_label('Rating')\n",
    "plt.show();"
   ]
  }
 ],
 "metadata": {
  "kernelspec": {
   "display_name": "Python 3",
   "language": "python",
   "name": "python3"
  },
  "language_info": {
   "codemirror_mode": {
    "name": "ipython",
    "version": 3
   },
   "file_extension": ".py",
   "mimetype": "text/x-python",
   "name": "python",
   "nbconvert_exporter": "python",
   "pygments_lexer": "ipython3",
   "version": "3.6.9"
  }
 },
 "nbformat": 4,
 "nbformat_minor": 2
}
